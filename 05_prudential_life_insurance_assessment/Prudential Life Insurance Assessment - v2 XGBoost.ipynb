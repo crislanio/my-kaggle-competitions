{
 "cells": [
  {
   "cell_type": "markdown",
   "metadata": {},
   "source": [
    "<img src=\"https://kaggle2.blob.core.windows.net/competitions/kaggle/4699/logos/front_page.png\"/>\n",
    "\n",
    "## <span style=\"color:blue;\">Prudential Life Insurance Assessment - v2 XGBoost</span>"
   ]
  },
  {
   "cell_type": "markdown",
   "metadata": {},
   "source": [
    "## Import Packages"
   ]
  },
  {
   "cell_type": "code",
   "execution_count": 4,
   "metadata": {
    "collapsed": true
   },
   "outputs": [],
   "source": [
    "using DataFrames\n",
    "using XGBoost"
   ]
  },
  {
   "cell_type": "markdown",
   "metadata": {},
   "source": [
    "## Load Data"
   ]
  },
  {
   "cell_type": "code",
   "execution_count": 41,
   "metadata": {
    "collapsed": false
   },
   "outputs": [],
   "source": [
    "train = readtable(\"data/train_v1.csv\")\n",
    "test = readtable(\"data/test_v1.csv\");"
   ]
  },
  {
   "cell_type": "markdown",
   "metadata": {},
   "source": [
    "## Set Features and Output"
   ]
  },
  {
   "cell_type": "code",
   "execution_count": 42,
   "metadata": {
    "collapsed": false
   },
   "outputs": [],
   "source": [
    "label    = :Response\n",
    "labels   = length(Set(train[label]))\n",
    "features = setdiff(names(test), [:id]);"
   ]
  },
  {
   "cell_type": "markdown",
   "metadata": {},
   "source": [
    "## Prepare Training"
   ]
  },
  {
   "cell_type": "code",
   "execution_count": 43,
   "metadata": {
    "collapsed": false
   },
   "outputs": [
    {
     "data": {
      "text/plain": [
       "split_train_val (generic function with 1 method)"
      ]
     },
     "execution_count": 43,
     "metadata": {},
     "output_type": "execute_result"
    }
   ],
   "source": [
    "function split_train_val(df; train_size=.85, random_state=1)\n",
    "    \n",
    "    srand(random_state)\n",
    "    \n",
    "    nrows, ntraining_rows = size(df, 1), round(Int, size(df, 1) * train_size)\n",
    "    indexes               = shuffle(collect(1:nrows))\n",
    "    train                 = df[indexes[1:ntraining_rows], :]\n",
    "    validation            = df[indexes[ntraining_rows+1:end], :]\n",
    "    \n",
    "    return train, validation\n",
    "end"
   ]
  },
  {
   "cell_type": "code",
   "execution_count": 45,
   "metadata": {
    "collapsed": false
   },
   "outputs": [],
   "source": [
    "X_train, X_val = split_train_val(train, train_size=.85, random_state=1)\n",
    "\n",
    "train_x = Array{Float64,2}(X_train[:, features])\n",
    "train_y = Array{Float64,1}(X_train[label]) - 1\n",
    "val_x   = Array{Float64,2}(X_val[:, features])\n",
    "val_y   = Array{Float64,1}(X_val[label]) - 1\n",
    "test_x  = Array{Float64,2}(test[:, features]);"
   ]
  },
  {
   "cell_type": "code",
   "execution_count": 47,
   "metadata": {
    "collapsed": false
   },
   "outputs": [],
   "source": [
    "dtrain  = DMatrix(train_x, label=train_y)\n",
    "dval    = DMatrix(val_x, label=val_y);"
   ]
  },
  {
   "cell_type": "markdown",
   "metadata": {},
   "source": [
    "## Train Data"
   ]
  },
  {
   "cell_type": "code",
   "execution_count": 49,
   "metadata": {
    "collapsed": false
   },
   "outputs": [
    {
     "name": "stdout",
     "output_type": "stream",
     "text": [
      "Training Base Model...\n"
     ]
    },
    {
     "name": "stderr",
     "output_type": "stream",
     "text": [
      "[1]\ttrain-merror:0.517930\ttrain-mlogloss:1.989812\teval-merror:0.510273\teval-mlogloss:1.988872\n",
      "[2]\ttrain-merror:0.481277\ttrain-mlogloss:1.906776\teval-merror:0.474795\teval-mlogloss:1.905650\n",
      "[3]\ttrain-merror:0.467369\ttrain-mlogloss:1.840379\teval-merror:0.463680\teval-mlogloss:1.839365\n",
      "[4]\ttrain-merror:0.458553\ttrain-mlogloss:1.786465\teval-merror:0.455821\teval-mlogloss:1.785486\n",
      "[5]\ttrain-merror:0.454234\ttrain-mlogloss:1.739917\teval-merror:0.450095\teval-mlogloss:1.739334\n",
      "[6]\ttrain-merror:0.450826\ttrain-mlogloss:1.696697\teval-merror:0.446390\teval-mlogloss:1.696502\n",
      "[7]\ttrain-merror:0.449677\ttrain-mlogloss:1.662524\teval-merror:0.448075\teval-mlogloss:1.662721\n",
      "[8]\ttrain-merror:0.444684\ttrain-mlogloss:1.624432\teval-merror:0.443584\teval-mlogloss:1.624744\n",
      "[9]\ttrain-merror:0.443733\ttrain-mlogloss:1.591114\teval-merror:0.442686\teval-mlogloss:1.591478\n",
      "[10]\ttrain-merror:0.439256\ttrain-mlogloss:1.560969\teval-merror:0.441338\teval-mlogloss:1.561810\n",
      "[11]\ttrain-merror:0.439830\ttrain-mlogloss:1.533383\teval-merror:0.439766\teval-mlogloss:1.534527\n",
      "[12]\ttrain-merror:0.436443\ttrain-mlogloss:1.505785\teval-merror:0.437072\teval-mlogloss:1.507212\n",
      "[13]\ttrain-merror:0.436106\ttrain-mlogloss:1.488429\teval-merror:0.436623\teval-mlogloss:1.489966\n",
      "[14]\ttrain-merror:0.436086\ttrain-mlogloss:1.469356\teval-merror:0.438082\teval-mlogloss:1.471474\n",
      "[15]\ttrain-merror:0.434263\ttrain-mlogloss:1.448206\teval-merror:0.435837\teval-mlogloss:1.450620\n",
      "[16]\ttrain-merror:0.433629\ttrain-mlogloss:1.429643\teval-merror:0.434490\teval-mlogloss:1.432580\n",
      "[17]\ttrain-merror:0.433193\ttrain-mlogloss:1.413713\teval-merror:0.434041\teval-mlogloss:1.416699\n",
      "[18]\ttrain-merror:0.432559\ttrain-mlogloss:1.399775\teval-merror:0.433367\teval-mlogloss:1.403153\n",
      "[19]\ttrain-merror:0.432262\ttrain-mlogloss:1.385856\teval-merror:0.433030\teval-mlogloss:1.389712\n",
      "[20]\ttrain-merror:0.430737\ttrain-mlogloss:1.371338\teval-merror:0.432357\teval-mlogloss:1.376028\n",
      "[21]\ttrain-merror:0.429924\ttrain-mlogloss:1.359533\teval-merror:0.431458\teval-mlogloss:1.364408\n",
      "[22]\ttrain-merror:0.430023\ttrain-mlogloss:1.348707\teval-merror:0.431009\teval-mlogloss:1.354227\n",
      "[23]\ttrain-merror:0.429251\ttrain-mlogloss:1.336870\teval-merror:0.431795\teval-mlogloss:1.343011\n",
      "[24]\ttrain-merror:0.428220\ttrain-mlogloss:1.326878\teval-merror:0.429887\teval-mlogloss:1.333691\n",
      "[25]\ttrain-merror:0.427646\ttrain-mlogloss:1.318277\teval-merror:0.430111\teval-mlogloss:1.325901\n",
      "[26]\ttrain-merror:0.426754\ttrain-mlogloss:1.309800\teval-merror:0.429101\teval-mlogloss:1.318177\n",
      "[27]\ttrain-merror:0.425823\ttrain-mlogloss:1.301096\teval-merror:0.428764\teval-mlogloss:1.310212\n",
      "[28]\ttrain-merror:0.425249\ttrain-mlogloss:1.292764\teval-merror:0.427641\teval-mlogloss:1.302412\n",
      "[29]\ttrain-merror:0.425407\ttrain-mlogloss:1.285397\teval-merror:0.428764\teval-mlogloss:1.295406\n",
      "[30]\ttrain-merror:0.423981\ttrain-mlogloss:1.278049\teval-merror:0.427417\teval-mlogloss:1.288759\n",
      "[31]\ttrain-merror:0.423921\ttrain-mlogloss:1.271113\teval-merror:0.426855\teval-mlogloss:1.282349\n",
      "[32]\ttrain-merror:0.423267\ttrain-mlogloss:1.264804\teval-merror:0.426069\teval-mlogloss:1.276751\n",
      "[33]\ttrain-merror:0.422475\ttrain-mlogloss:1.258450\teval-merror:0.425620\teval-mlogloss:1.271003\n",
      "[34]\ttrain-merror:0.421881\ttrain-mlogloss:1.253071\teval-merror:0.425508\teval-mlogloss:1.266223\n",
      "[35]\ttrain-merror:0.421841\ttrain-mlogloss:1.247920\teval-merror:0.424722\teval-mlogloss:1.261686\n",
      "[36]\ttrain-merror:0.421068\ttrain-mlogloss:1.242970\teval-merror:0.425845\teval-mlogloss:1.257346\n",
      "[37]\ttrain-merror:0.420474\ttrain-mlogloss:1.238135\teval-merror:0.424722\teval-mlogloss:1.252955\n",
      "[38]\ttrain-merror:0.419939\ttrain-mlogloss:1.233851\teval-merror:0.425396\teval-mlogloss:1.249111\n",
      "[39]\ttrain-merror:0.419384\ttrain-mlogloss:1.229693\teval-merror:0.425171\teval-mlogloss:1.245595\n",
      "[40]\ttrain-merror:0.418413\ttrain-mlogloss:1.225997\teval-merror:0.425283\teval-mlogloss:1.242328\n"
     ]
    },
    {
     "name": "stdout",
     "output_type": "stream",
     "text": [
      "elapsed time: 58"
     ]
    },
    {
     "data": {
      "text/plain": [
       "58.964680579"
      ]
     },
     "execution_count": 49,
     "metadata": {},
     "output_type": "execute_result"
    },
    {
     "name": "stdout",
     "output_type": "stream",
     "text": [
      ".964680579 seconds\n"
     ]
    }
   ],
   "source": [
    "num_rounds = 40\n",
    "watchlist  = [(dtrain, \"train\"), (dval, \"eval\")]\n",
    "metrics    = [\"merror\", \"mlogloss\"]\n",
    "params     = Dict(\"objective\"         => \"multi:softmax\",\n",
    "                   \"booster\"          => \"gbtree\",\n",
    "                   \"eta\"              => .1,\n",
    "                   \"alpha\"            => .5,\n",
    "                   \"gamma\"            => .0,\n",
    "                   \"max_depth\"        =>  5,\n",
    "                   \"colsample_bytree\" => .5,\n",
    "                   \"min_child_weight\" =>  10,\n",
    "                   \"subsample\"        => .5,\n",
    "                   \"seed\"             =>  1)\n",
    "\n",
    "println(\"Training Base Model...\")\n",
    "tic()\n",
    "model = XGBoost.xgboost(dtrain, num_rounds, param=params, metrics=metrics,\n",
    "                        num_class=labels, watchlist=watchlist)\n",
    "toc()"
   ]
  },
  {
   "cell_type": "markdown",
   "metadata": {},
   "source": [
    "## Prediction Test"
   ]
  },
  {
   "cell_type": "code",
   "execution_count": 51,
   "metadata": {
    "collapsed": false
   },
   "outputs": [],
   "source": [
    "yhat = XGBoost.predict(model, test_x) + 1;"
   ]
  },
  {
   "cell_type": "markdown",
   "metadata": {},
   "source": [
    "## Generate Submission File"
   ]
  },
  {
   "cell_type": "code",
   "execution_count": 56,
   "metadata": {
    "collapsed": false
   },
   "outputs": [],
   "source": [
    "submission_df = DataFrame(Id=test[:Id], Response=Array{Int,1}(yhat))\n",
    "writetable(\"data/submissions/submission_v1_xgb_nr40_e1_a5_g0_md5_c5_mcw10_s5.csv\", submission_df);"
   ]
  },
  {
   "cell_type": "markdown",
   "metadata": {},
   "source": [
    "## Kaggle Results"
   ]
  },
  {
   "cell_type": "code",
   "execution_count": 13,
   "metadata": {
    "collapsed": false
   },
   "outputs": [
    {
     "ename": "LoadError",
     "evalue": "LoadError: syntax: extra token \"Score\" after end of expression\nwhile loading In[13], in expression starting on line 1",
     "output_type": "error",
     "traceback": [
      "LoadError: syntax: extra token \"Score\" after end of expression\nwhile loading In[13], in expression starting on line 1",
      ""
     ]
    }
   ],
   "source": [
    "Best Score: <span style=\"color:blue;\">0.</span> [v1]\n",
    "\n",
    "- v1 **XGB** (NR50 E1 A5 G0 MD9 C5 MCW10 s5): **0.** "
   ]
  }
 ],
 "metadata": {
  "kernelspec": {
   "display_name": "Julia 0.4.1-pre",
   "language": "julia",
   "name": "julia-0.4"
  },
  "language_info": {
   "file_extension": ".jl",
   "mimetype": "application/julia",
   "name": "julia",
   "version": "0.4.1"
  }
 },
 "nbformat": 4,
 "nbformat_minor": 0
}
