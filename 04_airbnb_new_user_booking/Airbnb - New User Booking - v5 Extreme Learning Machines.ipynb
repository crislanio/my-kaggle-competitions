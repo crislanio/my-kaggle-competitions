{
 "cells": [
  {
   "cell_type": "markdown",
   "metadata": {},
   "source": [
    "<div>\n",
    "<div style=\"text-align:center; display:block; float:left; padding:80px;\"><img width=\"200px\"  src=\"https://kaggle2.blob.core.windows.net/competitions/kaggle/4651/logos/front_page.png\"/><span style=\"color:red;\">**New User Booking**</span></div>\n",
    "<div style=\"\">\n",
    "**Objective:** In this recruiting competition, Airbnb challenges you to predict in which country a new user will make his or her first booking.  \n",
    "  \n",
    "** Description: ** In this challenge, you are given a list of users along with their demographics, web session records, and some summary statistics. You are asked to predict which country a new user's first booking destination will be. All the users in this dataset are from the USA.\n",
    "</div>\n",
    "<img src=\"https://kaggle2.blob.core.windows.net/competitions/kaggle/4651/media/airbnb_banner.png\" />\n",
    "\n",
    "Author: [Oliveira, D. M.](http://br.linkedin.com/in/dmoliveira)\n",
    "\n",
    "## <span style=\"color:blue\">Airbnb - New User Booking - v5 Extreme Learning Machines\n",
    "Research source: http://bit.ly/1Sq97Xy"
   ]
  },
  {
   "cell_type": "markdown",
   "metadata": {},
   "source": [
    "## Import Packages"
   ]
  },
  {
   "cell_type": "code",
   "execution_count": 2,
   "metadata": {
    "collapsed": false
   },
   "outputs": [],
   "source": [
    "using ELM\n",
    "using DataFrames"
   ]
  },
  {
   "cell_type": "markdown",
   "metadata": {},
   "source": [
    "## Load Data"
   ]
  },
  {
   "cell_type": "code",
   "execution_count": 3,
   "metadata": {
    "collapsed": true
   },
   "outputs": [],
   "source": [
    "train = readtable(\"data/train_v2.tsv\", separator='\\t')\n",
    "test  = readtable(\"data/test_v2.tsv\", separator='\\t')\n",
    "full = vcat(train, test);"
   ]
  },
  {
   "cell_type": "code",
   "execution_count": 4,
   "metadata": {
    "collapsed": true
   },
   "outputs": [],
   "source": [
    "label    = :country_destination\n",
    "features = setdiff(names(test), [:id]);"
   ]
  },
  {
   "cell_type": "markdown",
   "metadata": {},
   "source": [
    "## Prepare Data"
   ]
  },
  {
   "cell_type": "code",
   "execution_count": 14,
   "metadata": {
    "collapsed": false
   },
   "outputs": [
    {
     "data": {
      "text/plain": [
       "split_train_val (generic function with 1 method)"
      ]
     },
     "execution_count": 14,
     "metadata": {},
     "output_type": "execute_result"
    }
   ],
   "source": [
    "function split_train_val(df; train_size=.85, random_state=1)\n",
    "    \n",
    "    srand(random_state)\n",
    "    \n",
    "    nrows, ntraining_rows = size(df, 1), round(Int, size(df, 1) * train_size)\n",
    "    indexes               = shuffle(collect(1:nrows))\n",
    "    train                 = df[indexes[1:ntraining_rows], :]\n",
    "    validation            = df[indexes[ntraining_rows+1:end], :]\n",
    "    \n",
    "    return train, validation\n",
    "end"
   ]
  },
  {
   "cell_type": "code",
   "execution_count": 15,
   "metadata": {
    "collapsed": true
   },
   "outputs": [],
   "source": [
    "train[label]  -= 1\n",
    "X_train, X_val = split_train_val(train, train_size=.85, random_state=1)\n",
    "\n",
    "train_x = Array{Float64,2}(X_train[:, features])\n",
    "train_y = Array{Float64,1}(X_train[label])\n",
    "val_x   = Array{Float64,2}(X_val[:, features])\n",
    "val_y   = Array{Float64,1}(X_val[label])\n",
    "test_x  = Array{Float64,2}(test[:, features]);"
   ]
  },
  {
   "cell_type": "code",
   "execution_count": 16,
   "metadata": {
    "collapsed": false
   },
   "outputs": [],
   "source": [
    "nrows, ncols = size(train_x);"
   ]
  },
  {
   "cell_type": "markdown",
   "metadata": {},
   "source": [
    "## Train"
   ]
  },
  {
   "cell_type": "code",
   "execution_count": 25,
   "metadata": {
    "collapsed": false
   },
   "outputs": [],
   "source": [
    "elm = ExtremeLearningMachine(2ncols)\n",
    "ELM.fit!(elm, train_x, train_y);"
   ]
  },
  {
   "cell_type": "markdown",
   "metadata": {},
   "source": [
    "## Evaluate"
   ]
  },
  {
   "cell_type": "code",
   "execution_count": 24,
   "metadata": {
    "collapsed": false
   },
   "outputs": [
    {
     "data": {
      "text/plain": [
       "eval_precision (generic function with 1 method)"
      ]
     },
     "execution_count": 24,
     "metadata": {},
     "output_type": "execute_result"
    }
   ],
   "source": [
    "eval_rmse(y, yhats) = round(sqrt(sum((y - yhats) .^ 2)/length(y)), 4)\n",
    "eval_precision(y, yhats) = round(sum(Array{Int,1}(y .== yhats))/length(y), 4)"
   ]
  },
  {
   "cell_type": "code",
   "execution_count": 26,
   "metadata": {
    "collapsed": true
   },
   "outputs": [],
   "source": [
    "yhat_train = round(ELM.predict(elm, train_x))\n",
    "yhat_val   = round(ELM.predict(elm, val_x));"
   ]
  },
  {
   "cell_type": "code",
   "execution_count": 27,
   "metadata": {
    "collapsed": false
   },
   "outputs": [
    {
     "name": "stdout",
     "output_type": "stream",
     "text": [
      "Eval Train - RMSE: 1.608 Precision: 0.4137\n",
      "Eval Val   - RMSE: 1.619 Precision: 0.412\n"
     ]
    }
   ],
   "source": [
    "println(\"Eval Train - RMSE: \", eval_rmse(train_y, yhat_train), \" Precision: \", eval_precision(train_y, yhat_train))\n",
    "println(\"Eval Val   - RMSE: \", eval_rmse(val_y, yhat_val), \" Precision: \", eval_precision(val_y, yhat_val))"
   ]
  },
  {
   "cell_type": "markdown",
   "metadata": {},
   "source": [
    "## Export Model"
   ]
  },
  {
   "cell_type": "code",
   "execution_count": null,
   "metadata": {
    "collapsed": true
   },
   "outputs": [],
   "source": []
  }
 ],
 "metadata": {
  "kernelspec": {
   "display_name": "Julia 0.4.1-pre",
   "language": "julia",
   "name": "julia-0.4"
  },
  "language_info": {
   "file_extension": ".jl",
   "mimetype": "application/julia",
   "name": "julia",
   "version": "0.4.1"
  }
 },
 "nbformat": 4,
 "nbformat_minor": 0
}
