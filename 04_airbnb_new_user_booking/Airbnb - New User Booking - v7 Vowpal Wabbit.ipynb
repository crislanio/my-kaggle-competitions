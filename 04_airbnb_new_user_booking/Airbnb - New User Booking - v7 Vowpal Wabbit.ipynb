{
 "cells": [
  {
   "cell_type": "markdown",
   "metadata": {},
   "source": [
    "<div>\n",
    "<div style=\"text-align:center; display:block; float:left; padding:80px;\"><img width=\"200px\"  src=\"https://kaggle2.blob.core.windows.net/competitions/kaggle/4651/logos/front_page.png\"/><span style=\"color:red;\">**New User Booking**</span></div>\n",
    "<div style=\"\">\n",
    "**Objective:** In this recruiting competition, Airbnb challenges you to predict in which country a new user will make his or her first booking.  \n",
    "  \n",
    "** Description: ** In this challenge, you are given a list of users along with their demographics, web session records, and some summary statistics. You are asked to predict which country a new user's first booking destination will be. All the users in this dataset are from the USA.\n",
    "</div>\n",
    "<img src=\"https://kaggle2.blob.core.windows.net/competitions/kaggle/4651/media/airbnb_banner.png\" />\n",
    "\n",
    "Author: [Oliveira, D. M.](http://br.linkedin.com/in/dmoliveira)\n",
    "\n",
    "## <span style=\"color:blue\">Airbnb - New User Booking - v7 Vowpal Wabbit</span>"
   ]
  },
  {
   "cell_type": "markdown",
   "metadata": {},
   "source": [
    "## Import Packages"
   ]
  },
  {
   "cell_type": "code",
   "execution_count": 1,
   "metadata": {
    "collapsed": true
   },
   "outputs": [],
   "source": [
    "using DataFrames"
   ]
  },
  {
   "cell_type": "markdown",
   "metadata": {},
   "source": [
    "## Load Data"
   ]
  },
  {
   "cell_type": "code",
   "execution_count": 2,
   "metadata": {
    "collapsed": true
   },
   "outputs": [],
   "source": [
    "train = readtable(\"data/train_v2.tsv\", separator='\\t')\n",
    "test  = readtable(\"data/test_v2.tsv\", separator='\\t');"
   ]
  },
  {
   "cell_type": "markdown",
   "metadata": {},
   "source": [
    "## Set Features and Output"
   ]
  },
  {
   "cell_type": "code",
   "execution_count": 3,
   "metadata": {
    "collapsed": true
   },
   "outputs": [],
   "source": [
    "label    = :country_destination\n",
    "labels   = Set(train[label])\n",
    "features = setdiff(names(test), [:id]);"
   ]
  },
  {
   "cell_type": "markdown",
   "metadata": {},
   "source": [
    "## Prepare Data to VW"
   ]
  },
  {
   "cell_type": "code",
   "execution_count": 10,
   "metadata": {
    "collapsed": true
   },
   "outputs": [],
   "source": [
    "feature_space_indexes = [1, 2, 80, 84, 88, 106, 132, 158, 165, 169, 178, 233, 313]\n",
    "feature_space_names = [:Age, :Time, :Gender, :SignupMethod, :SignupFlow, :Language, \n",
    "                       :AffiliateChannel, :FirstAffiliate, :SignupApp, :FirstDevice,\n",
    "                       :FirstBrowser, :PStats, :CStats];"
   ]
  },
  {
   "cell_type": "code",
   "execution_count": 50,
   "metadata": {
    "collapsed": false
   },
   "outputs": [
    {
     "data": {
      "text/plain": [
       "generate_vw_file (generic function with 1 method)"
      ]
     },
     "execution_count": 50,
     "metadata": {},
     "output_type": "execute_result"
    }
   ],
   "source": [
    "function generate_vw_file(df, feature_space_indexes, feature_space_names)\n",
    "    rows = []\n",
    "    nrows, ncols = size(df,1), length(features)\n",
    "    for i=1:nrows, j=1:ncols\n",
    "        j == 1 && push!(rows, \"\")\n",
    "        feature = features[j]\n",
    "        value   = df[i, j]\n",
    "        if j in feature_space_indexes \n",
    "            index = findin(feature_space_indexes, j)\n",
    "            feature_space = feature_space_names[index][1]\n",
    "            rows[end] *= \"|$feature_space \"\n",
    "        end\n",
    "        rows[end] *= \"$feature:$value \"\n",
    "    end\n",
    "    return rows\n",
    "end"
   ]
  },
  {
   "cell_type": "code",
   "execution_count": 51,
   "metadata": {
    "collapsed": false
   },
   "outputs": [
    {
     "data": {
      "text/plain": [
       "1-element Array{Any,1}:\n",
       " \"|Age age:gxn3p5htnn |Time is_sunday_date_account_created:33.0 is_monday_date_account_created:1 is_tuesday_date_account_created:0 is_wednesday_date_account_created:1 is_thursday_date_account_created:0 is_friday_date_account_created:0 is_saturday_date_account_created:0 is_weekday_date_account_created:0 is_weekend_date_account_created:0 is_middle_week_date_account_created:1 is_january_date_account_created:0 is_february_date_account_created:0 is_march_date_account_created:0 is_april_date_account_created:0 is_may_date_account_created:0 is_june_date_account_created:0 is_july_date_account_created:0 is_august_date_account_created:1 is_september_date_account_created:0 is_october_date_account_created:0 is_november_date_account_created:0 is_december_date_account_created:0 is_first_quarter_year_date_account_created:0 is_second_quarter_year_date_account_created:0 is_third_quarter_year_date_account_created:0 is_forth_quarter_year_date_account_created:1 is_first_trimester_year_date_account_created:0 is_second_trimester_year_date_account_created:0 is_third_trimester_year_date_account_created:0 is_first_half_year_date_account_created:1 is_second_half_year_date_account_created:0 is_sunday_timestamp_first_active_date:1 is_monday_timestamp_first_active_date:0 is_tuesday_timestamp_first_active_date:0 is_wednesday_timestamp_first_active_date:0 is_thursday_timestamp_first_active_date:0 is_friday_timestamp_first_active_date:0 is_saturday_timestamp_first_active_date:1 is_weekday_timestamp_first_active_date:0 is_weekend_timestamp_first_active_date:0 is_middle_week_timestamp_first_active_date:1 is_january_timestamp_first_active_date:0 is_february_timestamp_first_active_date:1 is_march_timestamp_first_active_date:0 is_april_timestamp_first_active_date:0 is_may_timestamp_first_active_date:1 is_june_timestamp_first_active_date:0 is_july_timestamp_first_active_date:0 is_august_timestamp_first_active_date:0 is_september_timestamp_first_active_date:0 is_october_timestamp_first_active_date:0 is_november_timestamp_first_active_date:0 is_december_timestamp_first_active_date:0 is_first_quarter_year_timestamp_first_active_date:0 is_second_quarter_year_timestamp_first_active_date:0 is_third_quarter_year_timestamp_first_active_date:1 is_forth_quarter_year_timestamp_first_active_date:0 is_first_trimester_year_timestamp_first_active_date:0 is_second_trimester_year_timestamp_first_active_date:0 is_third_trimester_year_timestamp_first_active_date:1 is_first_half_year_timestamp_first_active_date:0 is_second_half_year_timestamp_first_active_date:0 is_morning_timestamp_first_active_time:1 is_afternoon_timestamp_first_active_time:0 is_evenning_timestamp_first_active_time:0 is_night_timestamp_first_active_time:0 is_late_night_timestamp_first_active_time:0 is_midday_timestamp_first_active_time:0 is_launch_time_timestamp_first_active_time:1 is_end_work_day_timestamp_first_active_time:0 is_age_under_25_age:0 is_age_between_25_34_age:0 is_age_between_35_44_age:0 is_age_between_45_54_age:1 is_age_between_55_64_age:0 is_age_above_64_age:0 is_young_adult_age:0 is_old_adult_age:0 |Gender gender_unknown_:1 gender_MALE:0 gender_FEMALE:1 gender_OTHER:0 |SignupMethod signup_method_facebook:0 signup_method_basic:0 signup_method_google:1 signup_method_weibo:0 |SignupFlow signup_flow_0:0 signup_flow_3:0 signup_flow_2:1 signup_flow_1:0 signup_flow_24:0 signup_flow_8:0 signup_flow_6:0 signup_flow_5:0 signup_flow_10:0 signup_flow_25:0 signup_flow_12:0 signup_flow_4:0 signup_flow_16:0 signup_flow_15:0 signup_flow_20:0 signup_flow_21:0 signup_flow_23:0 signup_flow_14:0 |Language language_en:0 language_fr:0 language_de:1 language_es:0 language_it:0 language_pt:0 language_zh:0 language_ko:0 language_ja:0 language_ru:0 language_pl:0 language_el:0 language_sv:0 language_nl:0 language_hu:0 language_da:0 language_id:0 language_fi:0 language_no:0 language_tr:0 language_th:0 language_cs:0 language_hr:0 language_ca:0 language_is:0 language_unknown_:0 |AffiliateChannel affiliate_channel_direct:0 affiliate_channel_seo:0 affiliate_channel_other:1 affiliate_channel_sem_non_brand:0 affiliate_channel_content:0 affiliate_channel_sem_brand:0 affiliate_channel_remarketing:0 affiliate_channel_api:0 affiliate_provider_direct:0 affiliate_provider_google:0 affiliate_provider_other:1 affiliate_provider_craigslist:0 affiliate_provider_facebook:0 affiliate_provider_vast:0 affiliate_provider_bing:0 affiliate_provider_meetup:0 affiliate_provider_facebook_open_graph:0 affiliate_provider_email_marketing:0 affiliate_provider_yahoo:0 affiliate_provider_padmapper:0 affiliate_provider_gsp:0 affiliate_provider_wayn:0 affiliate_provider_naver:0 affiliate_provider_baidu:0 affiliate_provider_yandex:0 affiliate_provider_daum:0 |FirstAffiliate first_affiliate_tracked_untracked:0 first_affiliate_tracked_omg:0 first_affiliate_tracked_linked:1 first_affiliate_tracked_tracked_other:0 first_affiliate_tracked_product:0 first_affiliate_tracked_marketing:0 first_affiliate_tracked_local_ops:0 |SignupApp signup_app_Web:0 signup_app_Moweb:0 signup_app_iOS:1 signup_app_Android:0 |FirstDevice first_device_type_Mac_Desktop:0 first_device_type_Windows_Desktop:0 first_device_type_iPhone:1 first_device_type_Other_Unknown:0 first_device_type_Desktop_Other_:0 first_device_type_Android_Tablet:0 first_device_type_iPad:0 first_device_type_Android_Phone:0 first_device_type_SmartPhone_Other_:0 |FirstBrowser first_browser_Chrome:0 first_browser_IE:0 first_browser_Firefox:1 first_browser_Safari:0 first_browser_unknown_:0 first_browser_Mobile_Safari:0 first_browser_Chrome_Mobile:0 first_browser_RockMelt:0 first_browser_Chromium:0 first_browser_Android_Browser:0 first_browser_AOL_Explorer:0 first_browser_Palm_Pre_web_browser:0 first_browser_Mobile_Firefox:0 first_browser_Opera:0 first_browser_TenFourFox:0 first_browser_IE_Mobile:0 first_browser_Apple_Mail:0 first_browser_Silk:0 first_browser_Camino:0 first_browser_Arora:0 first_browser_BlackBerry_Browser:0 first_browser_SeaMonkey:0 first_browser_Iron:0 first_browser_Sogou_Explorer:0 first_browser_IceWeasel:0 first_browser_Opera_Mini:0 first_browser_SiteKiosk:0 first_browser_Maxthon:0 first_browser_Kindle_Browser:0 first_browser_CoolNovo:0 first_browser_Conkeror:0 first_browser_wOSBrowser:0 first_browser_Google_Earth:0 first_browser_Crazy_Browser:0 first_browser_Mozilla:0 first_browser_OmniWeb:0 first_browser_PS_Vita_browser:0 first_browser_NetNewsWire:0 first_browser_CometBird:0 first_browser_Comodo_Dragon:0 first_browser_Flock:0 first_browser_Pale_Moon:0 first_browser_Avant_Browser:0 first_browser_Opera_Mobile:0 first_browser_Yandex_Browser:0 first_browser_TheWorld_Browser:0 first_browser_SlimBrowser:0 first_browser_Epic:0 first_browser_Stainless:0 first_browser_Googlebot:0 first_browser_Outlook_2007:0 first_browser_IceDragon:0 first_browser_IBrowse:0 first_browser_Nintendo_Browser:0 first_browser_UC_Browser:0 |PStats pstats_1_:0 pstats_2_:0 pstats_3_:0.0 pstats_4_:0.0 pstats_5_:0.0 pstats_6_:0.0 pstats_7_:0.0 pstats_8_:0.0 pstats_9_:0.0 pstats_10_:0.0 pstats_11_:0.0 pstats_12_:0.0 pstats_13_:0.0 pstats_14_:0.0 pstats_15_:0.0 pstats_16_:0.0 pstats_17_:0.0 pstats_18_:0.0 pstats_19_:0.0 pstats_20_:0.0 pstats_21_:0.0 pstats_22_:0.0 pstats_23_:0.0 pstats_24_:0.0 pstats_25_:0.0 pstats_26_:0.0 pstats_27_:0.0 pstats_28_:0.0 pstats_29_:0.0 pstats_30_:0.0 pstats_31_:0.0 pstats_32_:0.0 pstats_33_:0.0 pstats_34_:0.0 pstats_35_:0.0 pstats_36_:0.0 pstats_37_:0.0 pstats_38_:0.0 pstats_39_:0.0 pstats_40_:0.0 pstats_41_:0.0 pstats_42_:0.0 pstats_43_:0.0 pstats_44_:0.0 pstats_45_:0.0 pstats_46_:0.0 pstats_47_:0.0 pstats_48_:0.0 pstats_49_:0.0 pstats_50_:0.0 pstats_51_:0.0 pstats_52_:0.0 pstats_53_:0.0 pstats_54_:0.0 pstats_55_:0.0 pstats_56_:0.0 pstats_57_:0.0 pstats_58_:0.0 pstats_59_:0.0 pstats_60_:0.0 pstats_61_:0.0 pstats_62_:0.0 pstats_63_:0.0 pstats_64_:0.0 pstats_65_:0.0 pstats_66_:0.0 pstats_67_:0.0 pstats_68_:0.0 pstats_69_:0.0 pstats_70_:0.0 pstats_71_:0.0 pstats_72_:0.0 pstats_73_:0.0 pstats_74_:0.0 pstats_75_:0.0 pstats_76_:0.0 pstats_77_:0.0 pstats_78_:0.0 pstats_79_:0.0 pstats_80_:0.0 |CStats cstats_1_:0.0 cstats_2_:0.0 cstats_3_:0.0 cstats_4_:0.0 cstats_5_:0.0 cstats_6_:0.0 cstats_7_:0.0 cstats_8_:0.0 cstats_9_:0.0 cstats_10_:0.0 cstats_11_:0.0 cstats_12_:0.0 cstats_13_:0.0 cstats_14_:0.0 cstats_15_:0.0 \""
      ]
     },
     "execution_count": 51,
     "metadata": {},
     "output_type": "execute_result"
    }
   ],
   "source": [
    "generate_vw_file(train[1:1, :], feature_space_indexes, feature_space_names)"
   ]
  },
  {
   "cell_type": "markdown",
   "metadata": {},
   "source": [
    "## Train Data on VW"
   ]
  },
  {
   "cell_type": "code",
   "execution_count": null,
   "metadata": {
    "collapsed": true
   },
   "outputs": [],
   "source": []
  },
  {
   "cell_type": "markdown",
   "metadata": {},
   "source": [
    "## Predict On VW"
   ]
  },
  {
   "cell_type": "code",
   "execution_count": null,
   "metadata": {
    "collapsed": true
   },
   "outputs": [],
   "source": []
  },
  {
   "cell_type": "markdown",
   "metadata": {},
   "source": [
    "## Validate on VW"
   ]
  },
  {
   "cell_type": "code",
   "execution_count": null,
   "metadata": {
    "collapsed": true
   },
   "outputs": [],
   "source": []
  },
  {
   "cell_type": "markdown",
   "metadata": {},
   "source": [
    "## Generate Submission File"
   ]
  },
  {
   "cell_type": "code",
   "execution_count": null,
   "metadata": {
    "collapsed": true
   },
   "outputs": [],
   "source": []
  },
  {
   "cell_type": "markdown",
   "metadata": {},
   "source": [
    "## Kagle Scores from Submited Predictions"
   ]
  },
  {
   "cell_type": "code",
   "execution_count": null,
   "metadata": {
    "collapsed": true
   },
   "outputs": [],
   "source": []
  }
 ],
 "metadata": {
  "kernelspec": {
   "display_name": "Julia 0.4.1-pre",
   "language": "julia",
   "name": "julia-0.4"
  },
  "language_info": {
   "file_extension": ".jl",
   "mimetype": "application/julia",
   "name": "julia",
   "version": "0.4.1"
  }
 },
 "nbformat": 4,
 "nbformat_minor": 0
}
