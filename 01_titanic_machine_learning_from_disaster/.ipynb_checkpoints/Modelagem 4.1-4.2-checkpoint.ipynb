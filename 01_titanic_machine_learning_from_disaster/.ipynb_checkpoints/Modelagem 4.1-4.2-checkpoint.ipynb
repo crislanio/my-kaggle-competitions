{
 "cells": [
  {
   "cell_type": "code",
   "execution_count": 1,
   "metadata": {
    "collapsed": true
   },
   "outputs": [],
   "source": [
    "using GLM\n",
    "using DataFrames;"
   ]
  },
  {
   "cell_type": "code",
   "execution_count": 13,
   "metadata": {
    "collapsed": false
   },
   "outputs": [],
   "source": [
    "data = readtable(\"4_data.csv\", separator=',');"
   ]
  },
  {
   "cell_type": "code",
   "execution_count": 14,
   "metadata": {
    "collapsed": false
   },
   "outputs": [
    {
     "data": {
      "text/plain": [
       "DataFrames.DataFrameRegressionModel{GLM.GeneralizedLinearModel{GLM.GlmResp{Array{Float64,1},Distributions.Normal,GLM.IdentityLink},GLM.DensePredChol{Float64,Base.LinAlg.Cholesky{Float64,Array{Float64,2}}}},Float64}:\n",
       "\n",
       "Coefficients:\n",
       "             Estimate Std.Error  z value Pr(>|z|)\n",
       "(Intercept)   100.886   20.2859  4.97321    <1e-6\n",
       "Preco        -54.3723   17.3092 -3.14123   0.0017\n",
       "GastosPub     1.67235   4.08425 0.409462   0.6822\n"
      ]
     },
     "execution_count": 14,
     "metadata": {},
     "output_type": "execute_result"
    }
   ],
   "source": [
    "glm(Quantidade ~ Preco + GastosPub, data, Normal(), IdentityLink())"
   ]
  },
  {
   "cell_type": "markdown",
   "metadata": {},
   "source": [
    "O intercepto representa a quantidade de banana vendida quando não fosse investido e nem precificado nenhum dinheiro. Para nosso caso, como não temos essa situação ela se torna irrelevante.\n",
    "\n",
    "$\\hat{\\beta_1}$ tem o efeito inverso entre quantidade vendida e valor do item. Assim, um maior preço resulta em menor quantidade de venda.\n",
    "\n",
    "$\\hat{\\beta_2}$ indica que para cada unidade de gasto público igual 1.67 teremos o aumento em uma unidade de quantidade de banada comprada."
   ]
  }
 ],
 "metadata": {
  "kernelspec": {
   "display_name": "Julia 0.4.1-pre",
   "language": "julia",
   "name": "julia-0.4"
  },
  "language_info": {
   "file_extension": ".jl",
   "mimetype": "application/julia",
   "name": "julia",
   "version": "0.4.1"
  }
 },
 "nbformat": 4,
 "nbformat_minor": 0
}
