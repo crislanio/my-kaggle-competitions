{
 "cells": [
  {
   "cell_type": "markdown",
   "metadata": {},
   "source": [
    "## <a name=\"abstract\">Titanic Machine Learning From Disaster</a>"
   ]
  },
  {
   "cell_type": "markdown",
   "metadata": {},
   "source": [
    "Abstract The sinking of the RMS Titanic is one of the most infamous shipwrecks in history. On April 15, 1912, during her maiden voyage, the Titanic sank after colliding with an iceberg, killing 1502 out of 2224 passengers and crew. This sensational tragedy shocked the international community and led to better safety regulations for ships.\n",
    "One of the reasons that the shipwreck led to such loss of life was that there were not enough lifeboats for the passengers and crew. Although there was some element of luck involved in surviving the sinking, some groups of people were more likely to survive than others, such as women, children, and the upper-class.\n",
    "In this challenge, we ask you to complete the analysis of what sorts of people were likely to survive. In particular, we ask you to apply the tools of machine learning to predict which passengers survived the tragedy."
   ]
  },
  {
   "cell_type": "markdown",
   "metadata": {},
   "source": [
    "## Import External Notebook: Julia Assistant Tools"
   ]
  },
  {
   "cell_type": "code",
   "execution_count": 146,
   "metadata": {
    "collapsed": false
   },
   "outputs": [],
   "source": [
    "using NBInclude\n",
    "using DecisionTree\n",
    "# nbinclude(\"../06_assistent_tools/Julia\\ Assistent\\ Tools\\ for\\ Machine\\ Learning.ipynb\")"
   ]
  },
  {
   "cell_type": "markdown",
   "metadata": {},
   "source": [
    "## Load Data"
   ]
  },
  {
   "cell_type": "code",
   "execution_count": 73,
   "metadata": {
    "collapsed": false
   },
   "outputs": [],
   "source": [
    "train = readtable(\"data/train.csv\")\n",
    "test = readtable(\"data/test.csv\")\n",
    "full = vcat(train, test);"
   ]
  },
  {
   "cell_type": "markdown",
   "metadata": {},
   "source": [
    "## Define Features X and Label Y"
   ]
  },
  {
   "cell_type": "code",
   "execution_count": 76,
   "metadata": {
    "collapsed": false
   },
   "outputs": [],
   "source": [
    "features = names(test)\n",
    "label = setdiff(names(train), names(test));"
   ]
  },
  {
   "cell_type": "markdown",
   "metadata": {},
   "source": [
    "## Remove Missing Data"
   ]
  },
  {
   "cell_type": "markdown",
   "metadata": {},
   "source": [
    "### Get Default Values"
   ]
  },
  {
   "cell_type": "code",
   "execution_count": 78,
   "metadata": {
    "collapsed": false
   },
   "outputs": [
    {
     "data": {
      "text/plain": [
       "Dict{Any,Any} with 11 entries:\n",
       "  :Parch       => 0\n",
       "  :PassengerId => 1\n",
       "  :Age         => 24.0\n",
       "  :Pclass      => 3\n",
       "  :Name        => \"Kelly, Mr. James\"\n",
       "  :Ticket      => \"CA. 2343\"\n",
       "  :Cabin       => \"C23 C25 C27\"\n",
       "  :Sex         => \"male\"\n",
       "  :Embarked    => \"S\"\n",
       "  :SibSp       => 0\n",
       "  :Fare        => 8.05"
      ]
     },
     "execution_count": 78,
     "metadata": {},
     "output_type": "execute_result"
    }
   ],
   "source": [
    "default_values = get_default_values(full, features)"
   ]
  },
  {
   "cell_type": "markdown",
   "metadata": {},
   "source": [
    "### Apply Default Values"
   ]
  },
  {
   "cell_type": "code",
   "execution_count": 80,
   "metadata": {
    "collapsed": true
   },
   "outputs": [],
   "source": [
    "apply_default_values!(train, default_values)\n",
    "apply_default_values!(test, default_values)\n",
    "apply_default_values!(full, default_values);"
   ]
  },
  {
   "cell_type": "markdown",
   "metadata": {},
   "source": [
    "## Add New Features"
   ]
  },
  {
   "cell_type": "markdown",
   "metadata": {},
   "source": [
    "### Feature 1: Title"
   ]
  },
  {
   "cell_type": "code",
   "execution_count": 81,
   "metadata": {
    "collapsed": true
   },
   "outputs": [],
   "source": [
    "title_sir = [\"Capt\", \"Don\", \"Major\", \"Master\", \"Sir\", \"Dr\"]\n",
    "title_lady = [\"Don\", \"Lady\", \"the Countess\", \"Jonkheer\"]\n",
    "training_title_list = map(n -> split(strip(split(n, \",\")[2]), \".\")[1], train[:Name])\n",
    "test_title_list = map(n -> split(strip(split(n, \",\")[2]), \".\")[1], test[:Name]);"
   ]
  },
  {
   "cell_type": "code",
   "execution_count": 82,
   "metadata": {
    "collapsed": true
   },
   "outputs": [],
   "source": [
    "is_in_title_list(names, title_list) = Array{Bool}(map(n -> n in title_list, names))\n",
    "train[:Title] = training_title_list\n",
    "train[is_in_title_list(training_title_list, title_sir), :Title] = \"Sir.\"\n",
    "train[is_in_title_list(training_title_list, title_lady), :Title] = \"Lady.\"\n",
    "test[:Title] = test_title_list\n",
    "test[is_in_title_list(test_title_list, title_sir), :Title] = \"Sir.\"\n",
    "test[is_in_title_list(test_title_list, title_lady), :Title] = \"Lady.\";"
   ]
  },
  {
   "cell_type": "markdown",
   "metadata": {},
   "source": [
    "### Feature 2: Family Size"
   ]
  },
  {
   "cell_type": "code",
   "execution_count": 83,
   "metadata": {
    "collapsed": true
   },
   "outputs": [],
   "source": [
    "train[:FamilySize] = train[:Parch] .+ train[:SibSp] .+ 1\n",
    "test[:FamilySize] = test[:Parch] .+ test[:SibSp] .+ 1;"
   ]
  },
  {
   "cell_type": "markdown",
   "metadata": {},
   "source": [
    "### Feature 3: Is Mother"
   ]
  },
  {
   "cell_type": "code",
   "execution_count": 84,
   "metadata": {
    "collapsed": true
   },
   "outputs": [],
   "source": [
    "is_mother(df) = Array{Bool}(map(i -> df[i, :Parch] > 0 && df[i, :Age] > 18 && df[i, :Title] != \"Miss\", vcat(1:size(df,1))))\n",
    "train[:IsMother] = 0\n",
    "train[is_mother(train), :IsMother] = 1\n",
    "test[:IsMother] = 0\n",
    "test[is_mother(test), :IsMother] = 1;"
   ]
  },
  {
   "cell_type": "markdown",
   "metadata": {},
   "source": [
    "### Feature 4: Is Child"
   ]
  },
  {
   "cell_type": "code",
   "execution_count": 85,
   "metadata": {
    "collapsed": true
   },
   "outputs": [],
   "source": [
    "is_child(df) = Array{Bool}(map(i -> df[i, :Parch] > 0 && df[i, :Age] <= 18, size(df,1)))\n",
    "train[:IsChild] = 0\n",
    "train[is_child(train), :IsChild] = 1\n",
    "test[:IsChild] = 0\n",
    "test[is_child(test), :IsChild] = 1;"
   ]
  },
  {
   "cell_type": "markdown",
   "metadata": {},
   "source": [
    "### Feature 5: Family Size (2)"
   ]
  },
  {
   "cell_type": "code",
   "execution_count": 86,
   "metadata": {
    "collapsed": true
   },
   "outputs": [],
   "source": [
    "get_surname(name) = strip(split(name, \",\")[1])\n",
    "surname_freq = countmap(map(n -> get_surname(n), vcat(train[:Name], test[:Name])))\n",
    "is_small_family(names) = map(n -> surname_freq[get_surname(n)] > 2? 0 : 1, names);\n",
    "train[:IsSmallFamily] = is_small_family(train[:Name])\n",
    "test[:IsSmallFamily] = is_small_family(test[:Name]);"
   ]
  },
  {
   "cell_type": "markdown",
   "metadata": {},
   "source": [
    "### Feature 6: Cabin Prefix and Number"
   ]
  },
  {
   "cell_type": "code",
   "execution_count": 98,
   "metadata": {
    "collapsed": true
   },
   "outputs": [],
   "source": [
    "get_cabin_prefix(cabins) = map(c -> !isna(c)? string(c[1]) : NA, cabins)\n",
    "get_cabin_number(cabins) = Array{AbstractString}(map(c ->  !isna(c)? string(c[2:end]) : \"-1\", cabins))\n",
    "train[:CabinPrefix] = get_cabin_prefix(train[:Cabin])\n",
    "train[:CabinNumber] = get_cabin_number(train[:Cabin])\n",
    "test[:CabinPrefix] = get_cabin_prefix(test[:Cabin])\n",
    "test[:CabinNumber] = get_cabin_number(test[:Cabin]);"
   ]
  },
  {
   "cell_type": "markdown",
   "metadata": {},
   "source": [
    "## Encode Categorical Features"
   ]
  },
  {
   "cell_type": "code",
   "execution_count": 106,
   "metadata": {
    "collapsed": true
   },
   "outputs": [],
   "source": [
    "categorical_features = [:Pclass, :Sex, :Ticket, :Cabin, :Embarked, :Title, :CabinPrefix, :CabinNumber]\n",
    "full = vcat(train, test);"
   ]
  },
  {
   "cell_type": "code",
   "execution_count": 110,
   "metadata": {
    "collapsed": false
   },
   "outputs": [],
   "source": [
    "encoding = get_label_encoding(full, categorical_features)\n",
    "apply_encoding!(train, encoding)\n",
    "apply_encoding!(test, encoding)\n",
    "apply_encoding!(full, encoding);"
   ]
  },
  {
   "cell_type": "markdown",
   "metadata": {},
   "source": [
    "## Apply One-Hot-Encoding"
   ]
  },
  {
   "cell_type": "code",
   "execution_count": 116,
   "metadata": {
    "collapsed": false
   },
   "outputs": [
    {
     "name": "stdout",
     "output_type": "stream",
     "text": [
      "\tProcessed Categorical Feature 1000/1309.\n"
     ]
    }
   ],
   "source": [
    "all_values = get_all_values(full, categorical_features)\n",
    "apply_one_hot_encoding!(train, categorical_features, all_values)\n",
    "apply_one_hot_encoding!(test, categorical_features, all_values)\n",
    "apply_one_hot_encoding!(full, categorical_features, all_values);"
   ]
  },
  {
   "cell_type": "markdown",
   "metadata": {},
   "source": [
    "## Apply Interval Features"
   ]
  },
  {
   "cell_type": "code",
   "execution_count": 148,
   "metadata": {
    "collapsed": false
   },
   "outputs": [],
   "source": [
    "interval_features = [:Age, :Fare, :FamilySize]\n",
    "intervals = Dict(:Fare => [0, 1, 5, 10, 25, 50, 100], \n",
    "                 :FamilySize => [0, 1, 2, 3, 5],\n",
    "                 :Age => [14, 18, 21, 30, 40, 50, 60])\n",
    "apply_interval_features!(train, interval_features, intervals)\n",
    "apply_interval_features!(test, interval_features, intervals);"
   ]
  },
  {
   "cell_type": "markdown",
   "metadata": {},
   "source": [
    "## Export New Train/Test Data"
   ]
  },
  {
   "cell_type": "code",
   "execution_count": 149,
   "metadata": {
    "collapsed": true
   },
   "outputs": [],
   "source": [
    "writetable(\"data/train_v2.tsv\", train, separator='\\t')\n",
    "writetable(\"data/test_v2.tsv\", test, separator='\\t');"
   ]
  }
 ],
 "metadata": {
  "kernelspec": {
   "display_name": "Julia 0.4.1-pre",
   "language": "julia",
   "name": "julia-0.4"
  },
  "language_info": {
   "file_extension": ".jl",
   "mimetype": "application/julia",
   "name": "julia",
   "version": "0.4.1"
  }
 },
 "nbformat": 4,
 "nbformat_minor": 0
}
