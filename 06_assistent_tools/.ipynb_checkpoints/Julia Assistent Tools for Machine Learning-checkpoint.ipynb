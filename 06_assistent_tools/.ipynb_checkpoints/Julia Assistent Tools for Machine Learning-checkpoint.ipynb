{
 "cells": [
  {
   "cell_type": "markdown",
   "metadata": {},
   "source": [
    "# Julia Assistent Tools for Machine Learning"
   ]
  },
  {
   "cell_type": "markdown",
   "metadata": {},
   "source": [
    "# Import Packages"
   ]
  },
  {
   "cell_type": "code",
   "execution_count": 2,
   "metadata": {
    "collapsed": false
   },
   "outputs": [],
   "source": [
    "using DataFrames\n",
    "using MLBase"
   ]
  },
  {
   "cell_type": "markdown",
   "metadata": {},
   "source": [
    "## 01. Missing Values"
   ]
  },
  {
   "cell_type": "markdown",
   "metadata": {},
   "source": [
    "* ***get_default_values:*** Get default values for each feature for a given dataset. Inform features that want to get default values. Values is calculated from mode.\n",
    "    \n",
    "    **Arguments**  \n",
    "    * df, DataFrame: Dataframe with the data that will extract the function.\n",
    "    * features, Symbol list: Features that will be used to get default values.\n",
    "\n",
    "    **Output**\n",
    "    * default_values, Dict: Dictionary with key/values as feature and default value.\n",
    "\n",
    "  \n",
    "* ***apply_default_values!:*** Fill the empty cells with the default values.\n",
    "    \n",
    "    **Arguments**\n",
    "    * df, DataFrame: Dataframe with the data that will filled with default values.\n",
    "    * default_values, Dict: Dictionary with key/values as feature and default value."
   ]
  },
  {
   "cell_type": "code",
   "execution_count": null,
   "metadata": {
    "collapsed": true
   },
   "outputs": [],
   "source": [
    "function get_default_values(df, features)\n",
    "    default_values = Dict()\n",
    "    for feature in features\n",
    "        default_value = mode(dropna(df[feature]))\n",
    "        default_values[feature] = default_value\n",
    "    end\n",
    "    return default_values\n",
    "end\n",
    "\n",
    "function apply_default_values!(df, default_values)\n",
    "    for feature in keys(default_values)\n",
    "        df[isna(df[feature]), feature] = default_values[feature]\n",
    "    end\n",
    "    return df\n",
    "end"
   ]
  }
 ],
 "metadata": {
  "kernelspec": {
   "display_name": "Julia 0.4.1-pre",
   "language": "julia",
   "name": "julia-0.4"
  },
  "language_info": {
   "file_extension": ".jl",
   "mimetype": "application/julia",
   "name": "julia",
   "version": "0.4.1"
  }
 },
 "nbformat": 4,
 "nbformat_minor": 0
}
