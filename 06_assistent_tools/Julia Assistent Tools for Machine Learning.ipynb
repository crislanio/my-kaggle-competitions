{
 "cells": [
  {
   "cell_type": "markdown",
   "metadata": {},
   "source": [
    "# Julia Assistent Tools for Machine Learning"
   ]
  },
  {
   "cell_type": "markdown",
   "metadata": {},
   "source": [
    "**Author: [Oliveira, D. M.](http://br.linkedin.com/in/dmztheone)**"
   ]
  },
  {
   "cell_type": "code",
   "execution_count": 158,
   "metadata": {
    "collapsed": false
   },
   "outputs": [
    {
     "data": {
      "text/html": [
       "    <h1 class=\"section\">\n",
       "        <span class=\"section_number\">.</span>\n",
       "        <span class=\"section_title\">Introduction</span>\n",
       "    </h1>\n"
      ]
     },
     "metadata": {},
     "output_type": "display_data"
    }
   ],
   "source": [
    "render_section(\"\", \"\", \"Introduction\")"
   ]
  },
  {
   "cell_type": "markdown",
   "metadata": {},
   "source": [
    "Write a proper introduction..."
   ]
  },
  {
   "cell_type": "code",
   "execution_count": 155,
   "metadata": {
    "collapsed": false
   },
   "outputs": [
    {
     "data": {
      "text/html": [
       "    <h1 class=\"section\">\n",
       "        <span class=\"section_number\">01.</span>\n",
       "        <span class=\"section_title\">Import Packages</span>\n",
       "    </h1>\n"
      ]
     },
     "metadata": {},
     "output_type": "display_data"
    }
   ],
   "source": [
    "render_section(\"01\", \"\", \"Import Packages\")"
   ]
  },
  {
   "cell_type": "code",
   "execution_count": 188,
   "metadata": {
    "collapsed": false
   },
   "outputs": [],
   "source": [
    "using DataFrames\n",
    "using Iterators\n",
    "using MLBase\n",
    "using GLM\n",
    "using XGBoost"
   ]
  },
  {
   "cell_type": "code",
   "execution_count": 151,
   "metadata": {
    "collapsed": false
   },
   "outputs": [
    {
     "data": {
      "text/html": [
       "    <h1 class=\"section\">\n",
       "        <span class=\"section_number\">02.</span>\n",
       "        <span class=\"section_title\">HTML Assistent Tools</span>\n",
       "    </h1>\n"
      ]
     },
     "metadata": {},
     "output_type": "display_data"
    }
   ],
   "source": [
    "render_section(\"02\", \"\", \"HTML Assistent Tools\")"
   ]
  },
  {
   "cell_type": "markdown",
   "metadata": {},
   "source": [
    "### CSS Style"
   ]
  },
  {
   "cell_type": "code",
   "execution_count": 153,
   "metadata": {
    "collapsed": false
   },
   "outputs": [
    {
     "data": {
      "text/html": [
       "<style>\n",
       "span.tt {\n",
       "    font-family: 'Lucida Sans Typewriter', 'Lucida Console', \n",
       "                  monaco, 'Bitstream Vera Sans Mono', monospace;\n",
       "    color: #03396c;\n",
       "}\n",
       "\n",
       "div.method {\n",
       "    margin-bottom: 10px;\n",
       "}\n",
       "\n",
       "div.method_title {\n",
       "    padding: 4px 0px 4px 10px;\n",
       "    background-color:#85bdde; color:#005b96;\n",
       "    border-left: 8px solid #cb2c31;\n",
       "}\n",
       "\n",
       "div.method_body {\n",
       "    padding: 5px 20px 20px 20px;\n",
       "    border-left: 8px solid #e69598;\n",
       "    background-color: #ccebfb;\n",
       "}\n",
       "\n",
       "div.method_cell {}\n",
       "\n",
       "div.method_cell_title {\n",
       "    padding: 20px 0px 0px 0px;\n",
       "}\n",
       "\n",
       "div.method_cell_body {}\n",
       "\n",
       "\n",
       "h1.section {\n",
       "    border-bottom:5px solid #696565;\n",
       "}\n",
       "\n",
       "span.section_number {\n",
       "    background-color:#696565;\n",
       "    color:#ffb400;\n",
       "    padding:3px 5px 3px 5px;\n",
       "}\n",
       "\n",
       "span.section_title {\n",
       "    padding:5px 5px 0px 5px;\n",
       "    color:#ff9d23;\n",
       "}\n",
       "\n",
       "</style>\n"
      ]
     },
     "metadata": {},
     "output_type": "display_data"
    }
   ],
   "source": [
    "style_css = \"\"\"\n",
    "<style>\n",
    "span.tt {\n",
    "    font-family: 'Lucida Sans Typewriter', 'Lucida Console', \n",
    "                  monaco, 'Bitstream Vera Sans Mono', monospace;\n",
    "    color: #03396c;\n",
    "}\n",
    "\n",
    "div.method {\n",
    "    margin-bottom: 10px;\n",
    "}\n",
    "\n",
    "div.method_title {\n",
    "    padding: 4px 0px 4px 10px;\n",
    "    background-color:#85bdde; color:#005b96;\n",
    "    border-left: 8px solid #cb2c31;\n",
    "}\n",
    "\n",
    "div.method_body {\n",
    "    padding: 5px 20px 20px 20px;\n",
    "    border-left: 8px solid #e69598;\n",
    "    background-color: #ccebfb;\n",
    "}\n",
    "\n",
    "div.method_cell {}\n",
    "\n",
    "div.method_cell_title {\n",
    "    padding: 20px 0px 0px 0px;\n",
    "}\n",
    "\n",
    "div.method_cell_body {}\n",
    "\n",
    "\n",
    "h1.section {\n",
    "    border-bottom:5px solid #696565;\n",
    "}\n",
    "\n",
    "span.section_number {\n",
    "    background-color:#696565;\n",
    "    color:#ffb400;\n",
    "    padding:3px 5px 3px 5px;\n",
    "}\n",
    "\n",
    "span.section_title {\n",
    "    padding:5px 5px 0px 5px;\n",
    "    color:#ff9d23;\n",
    "}\n",
    "\n",
    "</style>\n",
    "\"\"\"\n",
    "display(\"text/html\", style_css)"
   ]
  },
  {
   "cell_type": "markdown",
   "metadata": {},
   "source": [
    "### HTML Tools"
   ]
  },
  {
   "cell_type": "code",
   "execution_count": 148,
   "metadata": {
    "collapsed": false
   },
   "outputs": [
    {
     "data": {
      "text/plain": [
       "render_section (generic function with 1 method)"
      ]
     },
     "execution_count": 148,
     "metadata": {},
     "output_type": "execute_result"
    }
   ],
   "source": [
    "function render_doc(method_signature, description, arguments, outputs)\n",
    "    arguments_html       = field_list_to_html(arguments)\n",
    "    outputs_html         = field_list_to_html(outputs)\n",
    "    html_method_template = \"\"\"\n",
    "    <div class=\"method\">\n",
    "        <div class=\"method_title\"><span class=\"tt\">Method: </span><b>$method_signature</b></div>\n",
    "            <div class=\"method_body\">\n",
    "                <div class=\"method_cell\">\n",
    "                    <div class=\"method_cell_title\"><span class=\"tt\"><b>Description</b></span></div>\n",
    "                    <div class=\"method_cell_body\">\n",
    "                        <span class=\"tt\">$description.</span>\n",
    "                    </div>\n",
    "                </div>\n",
    "                <div class=\"method_cell\">\n",
    "                    <div class=\"method_cell_title\"><span class=\"tt\"><b>Arguments</b></span></div>\n",
    "                    <div class=\"method_cell_body\">\n",
    "                        <ul>\n",
    "                            $arguments_html\n",
    "                        </ul>\n",
    "                    </div>\n",
    "                </div>\n",
    "                <div class=\"method_cell\">\n",
    "                    <div class=\"method_cell_title\"><span class=\"tt\"><b>Outputs</b></span></div>\n",
    "                    <div class=\"method_cell_body\">\n",
    "                        <ul>\n",
    "                            $outputs_html\n",
    "                        </ul>\n",
    "                    </div>\n",
    "                </div>\n",
    "            </div>\n",
    "        </div>\n",
    "    <div/>\n",
    "    \"\"\"\n",
    "    return display(\"text/html\", html_method_template)\n",
    "end\n",
    "\n",
    "function field_list_to_html(list)\n",
    "    length(list) == 0 && return \"<span class=\\\"tt\\\">None.</span>\"\n",
    "    html = \"\"\n",
    "    for (field_name, field_type, field_description) in list\n",
    "        html *= \"<li><span class=\\\"tt\\\">$field_name, <b>$field_type</b>: \"\n",
    "        html *= \"$field_description.</span></li>\\n\"\n",
    "    end\n",
    "    return html\n",
    "end\n",
    "\n",
    "function render_section(section_number, subsection_number, title)\n",
    "    return display(\"text/html\", \"\"\"\n",
    "        <h1 class=\"section\">\n",
    "            <span class=\"section_number\">$section_number.$subsection_number</span>\n",
    "            <span class=\"section_title\">$title</span>\n",
    "        </h1>\n",
    "    \"\"\")\n",
    "end"
   ]
  },
  {
   "cell_type": "code",
   "execution_count": 156,
   "metadata": {
    "collapsed": false
   },
   "outputs": [
    {
     "data": {
      "text/html": [
       "    <h1 class=\"section\">\n",
       "        <span class=\"section_number\">03.</span>\n",
       "        <span class=\"section_title\">Functions: Missing Values</span>\n",
       "    </h1>\n"
      ]
     },
     "metadata": {},
     "output_type": "display_data"
    }
   ],
   "source": [
    "render_section(\"03\", \"\", \"Functions: Missing Values\")"
   ]
  },
  {
   "cell_type": "code",
   "execution_count": 146,
   "metadata": {
    "collapsed": false
   },
   "outputs": [
    {
     "data": {
      "text/html": [
       "<div class=\"method\">\n",
       "    <div class=\"method_title\"><span class=\"tt\">Method: </span><b>get_default_values (df, features)</b></div>\n",
       "        <div class=\"method_body\">\n",
       "            <div class=\"method_cell\">\n",
       "                <div class=\"method_cell_title\"><span class=\"tt\"><b>Description</b></span></div>\n",
       "                <div class=\"method_cell_body\">\n",
       "                    <span class=\"tt\">Calculates the mode for all features informed. \n",
       "Usually it is used to replace missing data.</span>\n",
       "                </div>\n",
       "            </div>\n",
       "            <div class=\"method_cell\">\n",
       "                <div class=\"method_cell_title\"><span class=\"tt\"><b>Arguments</b></span></div>\n",
       "                <div class=\"method_cell_body\">\n",
       "                    <ul>\n",
       "                        <li><span class=\"tt\">df, <b>DataFrame</b>: Data used to calculate modes by column.</span></li>\n",
       "<li><span class=\"tt\">features, <b>Array{Symbol,1}</b>: Column names that will be considered.</span></li>\n",
       "\n",
       "                    </ul>\n",
       "                </div>\n",
       "            </div>\n",
       "            <div class=\"method_cell\">\n",
       "                <div class=\"method_cell_title\"><span class=\"tt\"><b>Outputs</b></span></div>\n",
       "                <div class=\"method_cell_body\">\n",
       "                    <ul>\n",
       "                        <li><span class=\"tt\">default_values, <b>Dict</b>: Dictionary with the default values.</span></li>\n",
       "\n",
       "                    </ul>\n",
       "                </div>\n",
       "            </div>\n",
       "        </div>\n",
       "    </div>\n",
       "<div/>\n"
      ]
     },
     "metadata": {},
     "output_type": "display_data"
    },
    {
     "data": {
      "text/html": [
       "<div class=\"method\">\n",
       "    <div class=\"method_title\"><span class=\"tt\">Method: </span><b>apply_default_values! (df, default_values)</b></div>\n",
       "        <div class=\"method_body\">\n",
       "            <div class=\"method_cell\">\n",
       "                <div class=\"method_cell_title\"><span class=\"tt\"><b>Description</b></span></div>\n",
       "                <div class=\"method_cell_body\">\n",
       "                    <span class=\"tt\">Apply a dictionary of default values to missing values (NAs) of the\n",
       "given dataframe. Only keys identified as column will be used.</span>\n",
       "                </div>\n",
       "            </div>\n",
       "            <div class=\"method_cell\">\n",
       "                <div class=\"method_cell_title\"><span class=\"tt\"><b>Arguments</b></span></div>\n",
       "                <div class=\"method_cell_body\">\n",
       "                    <ul>\n",
       "                        <li><span class=\"tt\">df, <b>DataFrame</b>: Data that will be used to replace NAs to default values.</span></li>\n",
       "<li><span class=\"tt\">default_values, <b>Dict</b>: Dictionary with features/default values.</span></li>\n",
       "\n",
       "                    </ul>\n",
       "                </div>\n",
       "            </div>\n",
       "            <div class=\"method_cell\">\n",
       "                <div class=\"method_cell_title\"><span class=\"tt\"><b>Outputs</b></span></div>\n",
       "                <div class=\"method_cell_body\">\n",
       "                    <ul>\n",
       "                        <li><span class=\"tt\">df, <b>DataFrame</b>: Original dataframe with NAs replaced by default values.</span></li>\n",
       "\n",
       "                    </ul>\n",
       "                </div>\n",
       "            </div>\n",
       "        </div>\n",
       "    </div>\n",
       "<div/>\n"
      ]
     },
     "metadata": {},
     "output_type": "display_data"
    }
   ],
   "source": [
    "render_doc(\"get_default_values (df, features)\", \n",
    "           \"\"\"Calculates the mode for all features informed. \n",
    "              Usually it is used to replace missing data\"\"\", \n",
    "           [(\"df\", \"DataFrame\", \"Data used to calculate modes by column\"),\n",
    "            (\"features\", \"Array{Symbol,1}\", \"Column names that will be considered\")],\n",
    "           [(\"default_values\", \"Dict\", \"Dictionary with the default values\")])\n",
    "\n",
    "render_doc(\"apply_default_values! (df, default_values)\",\n",
    "           \"\"\"Apply a dictionary of default values to missing values (NAs) of the\n",
    "              given dataframe. Only keys identified as column will be used\"\"\",\n",
    "          [(\"df\", \"DataFrame\", \"Data that will be used to replace NAs to default values\"),\n",
    "           (\"default_values\", \"Dict\", \"Dictionary with features/default values\")],\n",
    "          [(\"df\", \"DataFrame\", \"Original dataframe with NAs replaced by default values\")])"
   ]
  },
  {
   "cell_type": "code",
   "execution_count": null,
   "metadata": {
    "collapsed": true
   },
   "outputs": [],
   "source": [
    "function get_default_values(df, features)\n",
    "    default_values = Dict()\n",
    "    for feature in features\n",
    "        default_value = mode(dropna(df[feature]))\n",
    "        default_values[feature] = default_value\n",
    "    end\n",
    "    return default_values\n",
    "end\n",
    "\n",
    "function apply_default_values!(df, default_values)\n",
    "    for feature in keys(default_values)\n",
    "        df[isna(df[feature]), feature] = default_values[feature]\n",
    "    end\n",
    "    return df\n",
    "end"
   ]
  },
  {
   "cell_type": "code",
   "execution_count": 157,
   "metadata": {
    "collapsed": false
   },
   "outputs": [
    {
     "data": {
      "text/html": [
       "    <h1 class=\"section\">\n",
       "        <span class=\"section_number\">04.</span>\n",
       "        <span class=\"section_title\">Functions: Label Encoding</span>\n",
       "    </h1>\n"
      ]
     },
     "metadata": {},
     "output_type": "display_data"
    }
   ],
   "source": [
    "render_section(\"04\", \"\", \"Functions: Label Encoding\")"
   ]
  },
  {
   "cell_type": "code",
   "execution_count": 164,
   "metadata": {
    "collapsed": false
   },
   "outputs": [
    {
     "data": {
      "text/html": [
       "<div class=\"method\">\n",
       "    <div class=\"method_title\"><span class=\"tt\">Method: </span><b>get_label_encoding (df, features)</b></div>\n",
       "        <div class=\"method_body\">\n",
       "            <div class=\"method_cell\">\n",
       "                <div class=\"method_cell_title\"><span class=\"tt\"><b>Description</b></span></div>\n",
       "                <div class=\"method_cell_body\">\n",
       "                    <span class=\"tt\">Get label encoding for features of a given dataframe.</span>\n",
       "                </div>\n",
       "            </div>\n",
       "            <div class=\"method_cell\">\n",
       "                <div class=\"method_cell_title\"><span class=\"tt\"><b>Arguments</b></span></div>\n",
       "                <div class=\"method_cell_body\">\n",
       "                    <ul>\n",
       "                        <li><span class=\"tt\">df, <b>DataFrame</b>: Data that will be used to create label encoding.</span></li>\n",
       "<li><span class=\"tt\">features, <b>Array{Symbol,1}</b>: Features that will be created label encoding.</span></li>\n",
       "\n",
       "                    </ul>\n",
       "                </div>\n",
       "            </div>\n",
       "            <div class=\"method_cell\">\n",
       "                <div class=\"method_cell_title\"><span class=\"tt\"><b>Outputs</b></span></div>\n",
       "                <div class=\"method_cell_body\">\n",
       "                    <ul>\n",
       "                        <li><span class=\"tt\">_, <b>Dict</b>: A dictionary with the encoding for each feature informed.</span></li>\n",
       "\n",
       "                    </ul>\n",
       "                </div>\n",
       "            </div>\n",
       "        </div>\n",
       "    </div>\n",
       "<div/>\n"
      ]
     },
     "metadata": {},
     "output_type": "display_data"
    },
    {
     "data": {
      "text/html": [
       "<div class=\"method\">\n",
       "    <div class=\"method_title\"><span class=\"tt\">Method: </span><b>apply_encoding! (df, encoding)</b></div>\n",
       "        <div class=\"method_body\">\n",
       "            <div class=\"method_cell\">\n",
       "                <div class=\"method_cell_title\"><span class=\"tt\"><b>Description</b></span></div>\n",
       "                <div class=\"method_cell_body\">\n",
       "                    <span class=\"tt\">Apply encoding to a given dataframe.</span>\n",
       "                </div>\n",
       "            </div>\n",
       "            <div class=\"method_cell\">\n",
       "                <div class=\"method_cell_title\"><span class=\"tt\"><b>Arguments</b></span></div>\n",
       "                <div class=\"method_cell_body\">\n",
       "                    <ul>\n",
       "                        <li><span class=\"tt\">df, <b>DataFrame</b>: Dataframe that will be encoded.</span></li>\n",
       "<li><span class=\"tt\">encoding, <b>Dict</b>: A dictionary with the feature/encoding data.</span></li>\n",
       "\n",
       "                    </ul>\n",
       "                </div>\n",
       "            </div>\n",
       "            <div class=\"method_cell\">\n",
       "                <div class=\"method_cell_title\"><span class=\"tt\"><b>Outputs</b></span></div>\n",
       "                <div class=\"method_cell_body\">\n",
       "                    <ul>\n",
       "                        <li><span class=\"tt\">df, <b>DataFrame</b>: Dataframe with encoded columns.</span></li>\n",
       "\n",
       "                    </ul>\n",
       "                </div>\n",
       "            </div>\n",
       "        </div>\n",
       "    </div>\n",
       "<div/>\n"
      ]
     },
     "metadata": {},
     "output_type": "display_data"
    }
   ],
   "source": [
    "render_doc(\"get_label_encoding (df, features)\",\n",
    "           \"Get label encoding for features of a given dataframe\",\n",
    "           [(\"df\", \"DataFrame\", \"Data that will be used to create label encoding\"), \n",
    "            (\"features\", \"Array{Symbol,1}\", \"Features that will be created label encoding\")],\n",
    "            [(\"_\", \"Dict\", \"A dictionary with the encoding for each feature informed\")])\n",
    "\n",
    "render_doc(\"apply_encoding! (df, encoding)\",\n",
    "           \"Apply encoding to a given dataframe\",\n",
    "           [(\"df\", \"DataFrame\", \"Dataframe that will be encoded\"),\n",
    "            (\"encoding\", \"Dict\", \"A dictionary with the feature/encoding data\")],\n",
    "           [(\"df\", \"DataFrame\", \"Dataframe with encoded columns\")])"
   ]
  },
  {
   "cell_type": "code",
   "execution_count": 161,
   "metadata": {
    "collapsed": false
   },
   "outputs": [
    {
     "data": {
      "text/plain": [
       "apply_encoding! (generic function with 1 method)"
      ]
     },
     "execution_count": 161,
     "metadata": {},
     "output_type": "execute_result"
    }
   ],
   "source": [
    "get_label_encoding(df, features) = Dict([f => labelmap(dropna(df[f])) for f in features])\n",
    "\n",
    "function apply_encoding!(df, encoding)\n",
    "    for feature in keys(encoding)\n",
    "        df[feature] = labelencode(encoding[feature], df[feature])\n",
    "    end\n",
    "    return df\n",
    "end"
   ]
  },
  {
   "cell_type": "code",
   "execution_count": 165,
   "metadata": {
    "collapsed": false
   },
   "outputs": [
    {
     "data": {
      "text/html": [
       "    <h1 class=\"section\">\n",
       "        <span class=\"section_number\">05.</span>\n",
       "        <span class=\"section_title\">Functions: One-Hot-Encoding</span>\n",
       "    </h1>\n"
      ]
     },
     "metadata": {},
     "output_type": "display_data"
    }
   ],
   "source": [
    "render_section(\"05\", \"\", \"Functions: One-Hot-Encoding\")"
   ]
  },
  {
   "cell_type": "code",
   "execution_count": 172,
   "metadata": {
    "collapsed": false
   },
   "outputs": [
    {
     "data": {
      "text/html": [
       "<div class=\"method\">\n",
       "    <div class=\"method_title\"><span class=\"tt\">Method: </span><b>get_all_values (df, features)</b></div>\n",
       "        <div class=\"method_body\">\n",
       "            <div class=\"method_cell\">\n",
       "                <div class=\"method_cell_title\"><span class=\"tt\"><b>Description</b></span></div>\n",
       "                <div class=\"method_cell_body\">\n",
       "                    <span class=\"tt\">Get all unique values from a given dataframe.</span>\n",
       "                </div>\n",
       "            </div>\n",
       "            <div class=\"method_cell\">\n",
       "                <div class=\"method_cell_title\"><span class=\"tt\"><b>Arguments</b></span></div>\n",
       "                <div class=\"method_cell_body\">\n",
       "                    <ul>\n",
       "                        <li><span class=\"tt\">df, <b>DataFrame</b>: Dataframe used to extract unique values.</span></li>\n",
       "<li><span class=\"tt\">features, <b>Array{Symbol,1}</b>: Features that will be extract unique values.</span></li>\n",
       "\n",
       "                    </ul>\n",
       "                </div>\n",
       "            </div>\n",
       "            <div class=\"method_cell\">\n",
       "                <div class=\"method_cell_title\"><span class=\"tt\"><b>Outputs</b></span></div>\n",
       "                <div class=\"method_cell_body\">\n",
       "                    <ul>\n",
       "                        <li><span class=\"tt\">_, <b>Dict</b>: A dictionary with unique values for each feature informed.</span></li>\n",
       "\n",
       "                    </ul>\n",
       "                </div>\n",
       "            </div>\n",
       "        </div>\n",
       "    </div>\n",
       "<div/>\n"
      ]
     },
     "metadata": {},
     "output_type": "display_data"
    },
    {
     "data": {
      "text/html": [
       "<div class=\"method\">\n",
       "    <div class=\"method_title\"><span class=\"tt\">Method: </span><b>apply_one_hot_encoding! (df, features, all_values)</b></div>\n",
       "        <div class=\"method_body\">\n",
       "            <div class=\"method_cell\">\n",
       "                <div class=\"method_cell_title\"><span class=\"tt\"><b>Description</b></span></div>\n",
       "                <div class=\"method_cell_body\">\n",
       "                    <span class=\"tt\">Transform for each informed feature in N binary features\n",
       "where is equal 1 when found the value in the new binary vector.\n",
       "* The original columns will be deleted. See more about this\n",
       "<a src=\"http://scikit-learn.org/stable/modules/generated/sklearn.preprocessing.OneHotEncoder.html\">\n",
       "subject</a>.</span>\n",
       "                </div>\n",
       "            </div>\n",
       "            <div class=\"method_cell\">\n",
       "                <div class=\"method_cell_title\"><span class=\"tt\"><b>Arguments</b></span></div>\n",
       "                <div class=\"method_cell_body\">\n",
       "                    <ul>\n",
       "                        <li><span class=\"tt\">df, <b>DataFrame</b>: Dataframe used to expand with one hot encoding.</span></li>\n",
       "<li><span class=\"tt\">features, <b>Array{Symbol,1}</b>: Features to expand with one hot encoding.</span></li>\n",
       "\n",
       "                    </ul>\n",
       "                </div>\n",
       "            </div>\n",
       "            <div class=\"method_cell\">\n",
       "                <div class=\"method_cell_title\"><span class=\"tt\"><b>Outputs</b></span></div>\n",
       "                <div class=\"method_cell_body\">\n",
       "                    <ul>\n",
       "                        <li><span class=\"tt\">df, <b>DataFrame</b>: Dataframe with columns expanded by one hot encoding.</span></li>\n",
       "\n",
       "                    </ul>\n",
       "                </div>\n",
       "            </div>\n",
       "        </div>\n",
       "    </div>\n",
       "<div/>\n"
      ]
     },
     "metadata": {},
     "output_type": "display_data"
    }
   ],
   "source": [
    "render_doc(\"get_all_values (df, features)\",\n",
    "           \"Get all unique values from a given dataframe\",\n",
    "           [(\"df\", \"DataFrame\", \"Dataframe used to extract unique values\"),\n",
    "            (\"features\", \"Array{Symbol,1}\", \"Features that will be extract unique values\")],\n",
    "           [(\"_\", \"Dict\", \"A dictionary with unique values for each feature informed\")])\n",
    "\n",
    "render_doc(\"apply_one_hot_encoding! (df, features, all_values)\",\n",
    "           \"\"\"Transform for each informed feature in N binary features\n",
    "              where is equal 1 when found the value in the new binary vector.\n",
    "              * The original columns will be deleted. See more about this\n",
    "              <a src=\"http://scikit-learn.org/stable/modules/generated/sklearn.preprocessing.OneHotEncoder.html\">\n",
    "              subject</a>\"\"\",\n",
    "          [(\"df\", \"DataFrame\", \"Dataframe used to expand with one hot encoding\"),\n",
    "           (\"features\", \"Array{Symbol,1}\", \"Features to expand with one hot encoding\")],\n",
    "          [(\"df\", \"DataFrame\", \"Dataframe with columns expanded by one hot encoding\")])"
   ]
  },
  {
   "cell_type": "code",
   "execution_count": 166,
   "metadata": {
    "collapsed": false
   },
   "outputs": [
    {
     "data": {
      "text/plain": [
       "get_all_values (generic function with 1 method)"
      ]
     },
     "execution_count": 166,
     "metadata": {},
     "output_type": "execute_result"
    }
   ],
   "source": [
    "get_all_values(df, features) = Dict([f => Set(dropna(df[f])) for f in features])\n",
    "\n",
    "function apply_one_hot_encoding!(df, features, all_values)\n",
    "    feature_names = get_categorical_features_names(features, all_values)\n",
    "    categorical_feature_matrix = get_categorical_feature_matrix(df, features, all_values)\n",
    "    apply_categorical_feature_matrix!(df, feature_names, categorical_feature_matrix)\n",
    "    remove_features!(df, features)\n",
    "    return df\n",
    "end\n",
    "\n",
    "function get_categorical_features_names(features, all_values)\n",
    "    feature_names = []\n",
    "    for feature in features\n",
    "        for value in all_values[feature]\n",
    "            push!(feature_names, symbol(feature, \"_\", value))\n",
    "        end\n",
    "    end\n",
    "    return feature_names\n",
    "end\n",
    "\n",
    "function get_categorical_feature_matrix(df, features, all_values)\n",
    "    new_feature_matrix = []\n",
    "    nrows = size(df, 1)\n",
    "    for i=1:nrows, f=1:length(features)\n",
    "        i % 1000 == 0 && f == 1 &&  println(\"\\tProcessed Categorical Feature $i/$nrows.\")\n",
    "        push!(new_feature_matrix, \n",
    "              to_cat_vector(all_values[features[f]], df[i, features[f]])\n",
    "        )\n",
    "    end\n",
    "    new_feature_matrix = vcat(new_feature_matrix...)\n",
    "    ncols = sum([length(all_values[feature]) for feature in features])\n",
    "    new_feature_matrix = reshape(new_feature_matrix, ncols, nrows)'\n",
    "    return new_feature_matrix\n",
    "end\n",
    "\n",
    "function apply_categorical_feature_matrix!(df, feature_names, feature_matrix)\n",
    "    nfeatures = length(feature_names)\n",
    "    for i=1:nfeatures\n",
    "        df[feature_names[i]] = feature_matrix[:, i]\n",
    "    end\n",
    "    return df\n",
    "end\n",
    "\n",
    "function remove_features!(df, feature_names)\n",
    "    for feature in feature_names\n",
    "        delete!(df, feature)\n",
    "    end\n",
    "    return df\n",
    "end\n",
    "\n",
    "to_cat_vector(all_values, actual_value) = [Int(value == actual_value) for value in all_values]"
   ]
  },
  {
   "cell_type": "code",
   "execution_count": 209,
   "metadata": {
    "collapsed": false
   },
   "outputs": [
    {
     "data": {
      "text/html": [
       "    <h1 class=\"section\">\n",
       "        <span class=\"section_number\">07.</span>\n",
       "        <span class=\"section_title\">Functions: Extract Date Features</span>\n",
       "    </h1>\n"
      ]
     },
     "metadata": {},
     "output_type": "display_data"
    }
   ],
   "source": [
    "render_section(\"07\", \"\", \"Functions: Extract Date Features\")"
   ]
  },
  {
   "cell_type": "code",
   "execution_count": 211,
   "metadata": {
    "collapsed": false
   },
   "outputs": [
    {
     "data": {
      "text/html": [
       "<div class=\"method\">\n",
       "    <div class=\"method_title\"><span class=\"tt\">Method: </span><b>extract_date_features (string_date)</b></div>\n",
       "        <div class=\"method_body\">\n",
       "            <div class=\"method_cell\">\n",
       "                <div class=\"method_cell_title\"><span class=\"tt\"><b>Description</b></span></div>\n",
       "                <div class=\"method_cell_body\">\n",
       "                    <span class=\"tt\">Create feature vector from a raw string date.</span>\n",
       "                </div>\n",
       "            </div>\n",
       "            <div class=\"method_cell\">\n",
       "                <div class=\"method_cell_title\"><span class=\"tt\"><b>Arguments</b></span></div>\n",
       "                <div class=\"method_cell_body\">\n",
       "                    <ul>\n",
       "                        <li><span class=\"tt\">string_date, <b>AbstractString</b>: A string date in format YYYY-MM-DD.</span></li>\n",
       "\n",
       "                    </ul>\n",
       "                </div>\n",
       "            </div>\n",
       "            <div class=\"method_cell\">\n",
       "                <div class=\"method_cell_title\"><span class=\"tt\"><b>Outputs</b></span></div>\n",
       "                <div class=\"method_cell_body\">\n",
       "                    <ul>\n",
       "                        <li><span class=\"tt\">_, <b>Array{Int,1}</b>: Feature vector of date.</span></li>\n",
       "\n",
       "                    </ul>\n",
       "                </div>\n",
       "            </div>\n",
       "        </div>\n",
       "    </div>\n",
       "<div/>\n"
      ]
     },
     "metadata": {},
     "output_type": "display_data"
    }
   ],
   "source": [
    "render_doc(\"extract_date_features (string_date)\",\n",
    "           \"Create feature vector from a raw string date\",\n",
    "           [(\"string_date\", \"AbstractString\", \"A string date in format YYYY-MM-DD\")],\n",
    "          [(\"_\", \"Array{Int,1}\", \"Feature vector of date\")])"
   ]
  },
  {
   "cell_type": "code",
   "execution_count": null,
   "metadata": {
    "collapsed": true
   },
   "outputs": [],
   "source": [
    "function extract_date_features(string_date)\n",
    "    \n",
    "    date = Date(string_date)\n",
    "    \n",
    "    dayofweek       = Dates.dayofweek(date)    \n",
    "    is_sunday       = Dates.Sunday == dayofweek? 1 : 0\n",
    "    is_monday       = Dates.Monday == dayofweek? 1 : 0\n",
    "    is_tuesday      = Dates.Tuesday == dayofweek? 1 : 0\n",
    "    is_wednesday    = Dates.Wednesday == dayofweek? 1 : 0\n",
    "    is_thursday     = Dates.Thursday == dayofweek? 1 : 0\n",
    "    is_friday       = Dates.Friday == dayofweek? 1 : 0\n",
    "    is_saturday     = Dates.Saturday == dayofweek? 1 : 0\n",
    "    is_weekday      = Dates.Monday <= dayofweek <= Dates.Friday? 1 : 0\n",
    "    is_weekend      = Dates.Saturday <= dayofweek <= Dates.Sunday? 1 : 0\n",
    "    is_middle_week  = Dates.Tuesday <= dayofweek <= Dates.Thursday? 1 : 0\n",
    "    \n",
    "    month = Dates.month(date)\n",
    "    is_january               = Dates.January == month? 1 : 0\n",
    "    is_february              = Dates.February == month? 1 : 0\n",
    "    is_march                 = Dates.March == month? 1 : 0\n",
    "    is_april                 = Dates.April == month? 1 : 0\n",
    "    is_may                   = Dates.May == month? 1 : 0\n",
    "    is_june                  = Dates.June == month? 1 : 0\n",
    "    is_july                  = Dates.July == month? 1 : 0\n",
    "    is_august                = Dates.August == month? 1 : 0\n",
    "    is_september             = Dates.September == month? 1 : 0\n",
    "    is_october               = Dates.October == month? 1 : 0\n",
    "    is_november              = Dates.November == month? 1 : 0\n",
    "    is_december              = Dates.December == month? 1 : 0\n",
    "    is_first_quarter_year    = month < 4? 1 : 0\n",
    "    is_second_quarter_year   = 4 <= month < 7? 1 : 0\n",
    "    is_third_quarter_year    = 7 <= month < 10? 1 : 0\n",
    "    is_forth_quarter_year    = month >= 10? 1 : 0\n",
    "    is_first_trimester_year  = month <= 4? 1 : 0\n",
    "    is_second_trimester_year = 4 < month <= 8? 1 : 0\n",
    "    is_third_trimester_year  = month > 8? 1 : 0\n",
    "    is_first_half_year       = month <= 6? 1 : 0\n",
    "    is_second_half_year      = month > 6? 1 : 0\n",
    "    \n",
    "    return [is_sunday, is_monday, is_tuesday, is_wednesday, is_thursday, \n",
    "            is_friday, is_saturday, is_weekday, is_weekend, is_middle_week,\n",
    "            is_january, is_february, is_march, is_april, is_may, is_june,\n",
    "            is_july, is_august, is_september, is_october, is_november, \n",
    "            is_december, is_first_quarter_year, is_second_quarter_year, \n",
    "            is_third_quarter_year, is_forth_quarter_year, is_first_trimester_year, \n",
    "            is_second_trimester_year, is_third_trimester_year, is_first_half_year, \n",
    "            is_second_half_year]\n",
    "end"
   ]
  },
  {
   "cell_type": "code",
   "execution_count": 208,
   "metadata": {
    "collapsed": false
   },
   "outputs": [
    {
     "data": {
      "text/html": [
       "    <h1 class=\"section\">\n",
       "        <span class=\"section_number\">07.</span>\n",
       "        <span class=\"section_title\">Functions: Export Files</span>\n",
       "    </h1>\n"
      ]
     },
     "metadata": {},
     "output_type": "display_data"
    }
   ],
   "source": [
    "render_section(\"07\", \"\", \"Functions: Export Files\")"
   ]
  },
  {
   "cell_type": "code",
   "execution_count": 177,
   "metadata": {
    "collapsed": false
   },
   "outputs": [
    {
     "data": {
      "text/html": [
       "<div class=\"method\">\n",
       "    <div class=\"method_title\"><span class=\"tt\">Method: </span><b>export_csv (df, file_path)</b></div>\n",
       "        <div class=\"method_body\">\n",
       "            <div class=\"method_cell\">\n",
       "                <div class=\"method_cell_title\"><span class=\"tt\"><b>Description</b></span></div>\n",
       "                <div class=\"method_cell_body\">\n",
       "                    <span class=\"tt\">Export dataframe to CSV format.</span>\n",
       "                </div>\n",
       "            </div>\n",
       "            <div class=\"method_cell\">\n",
       "                <div class=\"method_cell_title\"><span class=\"tt\"><b>Arguments</b></span></div>\n",
       "                <div class=\"method_cell_body\">\n",
       "                    <ul>\n",
       "                        <li><span class=\"tt\">df, <b>DataFrame</b>: Dataframe to be exported.</span></li>\n",
       "<li><span class=\"tt\">file_path, <b>AbstractString</b>: File path to save CSV file.</span></li>\n",
       "\n",
       "                    </ul>\n",
       "                </div>\n",
       "            </div>\n",
       "            <div class=\"method_cell\">\n",
       "                <div class=\"method_cell_title\"><span class=\"tt\"><b>Outputs</b></span></div>\n",
       "                <div class=\"method_cell_body\">\n",
       "                    <ul>\n",
       "                        <span class=\"tt\">None.</span>\n",
       "                    </ul>\n",
       "                </div>\n",
       "            </div>\n",
       "        </div>\n",
       "    </div>\n",
       "<div/>\n"
      ]
     },
     "metadata": {},
     "output_type": "display_data"
    },
    {
     "data": {
      "text/html": [
       "<div class=\"method\">\n",
       "    <div class=\"method_title\"><span class=\"tt\">Method: </span><b>export_tsv (df, file_path)</b></div>\n",
       "        <div class=\"method_body\">\n",
       "            <div class=\"method_cell\">\n",
       "                <div class=\"method_cell_title\"><span class=\"tt\"><b>Description</b></span></div>\n",
       "                <div class=\"method_cell_body\">\n",
       "                    <span class=\"tt\">Export dataframe to TSV format.</span>\n",
       "                </div>\n",
       "            </div>\n",
       "            <div class=\"method_cell\">\n",
       "                <div class=\"method_cell_title\"><span class=\"tt\"><b>Arguments</b></span></div>\n",
       "                <div class=\"method_cell_body\">\n",
       "                    <ul>\n",
       "                        <li><span class=\"tt\">df, <b>DataFrame</b>: Dataframe to be exported.</span></li>\n",
       "<li><span class=\"tt\">file_path, <b>AbstractString</b>: File path to save TSV file.</span></li>\n",
       "\n",
       "                    </ul>\n",
       "                </div>\n",
       "            </div>\n",
       "            <div class=\"method_cell\">\n",
       "                <div class=\"method_cell_title\"><span class=\"tt\"><b>Outputs</b></span></div>\n",
       "                <div class=\"method_cell_body\">\n",
       "                    <ul>\n",
       "                        <span class=\"tt\">None.</span>\n",
       "                    </ul>\n",
       "                </div>\n",
       "            </div>\n",
       "        </div>\n",
       "    </div>\n",
       "<div/>\n"
      ]
     },
     "metadata": {},
     "output_type": "display_data"
    }
   ],
   "source": [
    "render_doc(\"export_csv (df, file_path)\",\n",
    "           \"Export dataframe to CSV format\",\n",
    "           [(\"df\", \"DataFrame\", \"Dataframe to be exported\"),\n",
    "            (\"file_path\", \"AbstractString\", \"File path to save CSV file\")], [])\n",
    "\n",
    "render_doc(\"export_tsv (df, file_path)\",\n",
    "           \"Export dataframe to TSV format\",\n",
    "           [(\"df\", \"DataFrame\", \"Dataframe to be exported\"),\n",
    "            (\"file_path\", \"AbstractString\", \"File path to save TSV file\")], [])"
   ]
  },
  {
   "cell_type": "code",
   "execution_count": 173,
   "metadata": {
    "collapsed": false
   },
   "outputs": [
    {
     "data": {
      "text/plain": [
       "export_tsv (generic function with 1 method)"
      ]
     },
     "execution_count": 173,
     "metadata": {},
     "output_type": "execute_result"
    }
   ],
   "source": [
    "export_csv(df, file_path) = writetable(file_path, df)\n",
    "export_tsv(df, file_path) = writetable(file_path, df, separator=\"tsv\")"
   ]
  },
  {
   "cell_type": "code",
   "execution_count": 207,
   "metadata": {
    "collapsed": false
   },
   "outputs": [
    {
     "data": {
      "text/html": [
       "    <h1 class=\"section\">\n",
       "        <span class=\"section_number\">08.</span>\n",
       "        <span class=\"section_title\">Functions: Split Training and Validation</span>\n",
       "    </h1>\n"
      ]
     },
     "metadata": {},
     "output_type": "display_data"
    }
   ],
   "source": [
    "render_section(\"08\", \"\", \"Functions: Split Training and Validation\")"
   ]
  },
  {
   "cell_type": "code",
   "execution_count": 183,
   "metadata": {
    "collapsed": false
   },
   "outputs": [
    {
     "data": {
      "text/html": [
       "<div class=\"method\">\n",
       "    <div class=\"method_title\"><span class=\"tt\">Method: </span><b>split_train_val (df; train_size=.85, random_state=1)</b></div>\n",
       "        <div class=\"method_body\">\n",
       "            <div class=\"method_cell\">\n",
       "                <div class=\"method_cell_title\"><span class=\"tt\"><b>Description</b></span></div>\n",
       "                <div class=\"method_cell_body\">\n",
       "                    <span class=\"tt\">Separate in train and validation dataframes.</span>\n",
       "                </div>\n",
       "            </div>\n",
       "            <div class=\"method_cell\">\n",
       "                <div class=\"method_cell_title\"><span class=\"tt\"><b>Arguments</b></span></div>\n",
       "                <div class=\"method_cell_body\">\n",
       "                    <ul>\n",
       "                        <li><span class=\"tt\">df, <b>DataFrame</b>: Original dataframe that will be splitted.</span></li>\n",
       "<li><span class=\"tt\">train_size, <b>Float</b>: Size in porcentage of the training dataframe.\n",
       "Default value = 0.85.</span></li>\n",
       "<li><span class=\"tt\">random_state, <b>Int</b>: Random seed used. Default value = 1.</span></li>\n",
       "\n",
       "                    </ul>\n",
       "                </div>\n",
       "            </div>\n",
       "            <div class=\"method_cell\">\n",
       "                <div class=\"method_cell_title\"><span class=\"tt\"><b>Outputs</b></span></div>\n",
       "                <div class=\"method_cell_body\">\n",
       "                    <ul>\n",
       "                        <li><span class=\"tt\">train, <b>DataFrame</b>: Train dataframe with train_size percentage.</span></li>\n",
       "<li><span class=\"tt\">validation, <b>DataFrame</b>: Validation dataframe with 1-train_size percentage.</span></li>\n",
       "\n",
       "                    </ul>\n",
       "                </div>\n",
       "            </div>\n",
       "        </div>\n",
       "    </div>\n",
       "<div/>\n"
      ]
     },
     "metadata": {},
     "output_type": "display_data"
    },
    {
     "data": {
      "text/html": [
       "<div class=\"method\">\n",
       "    <div class=\"method_title\"><span class=\"tt\">Method: </span><b>gen_train_val (train, features, label, train_size=.85, random_state=1)</b></div>\n",
       "        <div class=\"method_body\">\n",
       "            <div class=\"method_cell\">\n",
       "                <div class=\"method_cell_title\"><span class=\"tt\"><b>Description</b></span></div>\n",
       "                <div class=\"method_cell_body\">\n",
       "                    <span class=\"tt\">Generate train and validation for x and y.</span>\n",
       "                </div>\n",
       "            </div>\n",
       "            <div class=\"method_cell\">\n",
       "                <div class=\"method_cell_title\"><span class=\"tt\"><b>Arguments</b></span></div>\n",
       "                <div class=\"method_cell_body\">\n",
       "                    <ul>\n",
       "                        <li><span class=\"tt\">train, <b>DataFrame</b>: Train dataframe that will be splitted.</span></li>\n",
       "<li><span class=\"tt\">features, <b>Array{Symbol,1}</b>: Columns to consider as X (features).</span></li>\n",
       "<li><span class=\"tt\">label, <b>Symbol</b>: Column to consider as Y (output).</span></li>\n",
       "<li><span class=\"tt\">train_size, <b>Float</b>: Size in porcentage of the training dataframe.\n",
       "Default value = 0.85.</span></li>\n",
       "<li><span class=\"tt\">random_state, <b>Int</b>: Random seed used. Default value = 1.</span></li>\n",
       "\n",
       "                    </ul>\n",
       "                </div>\n",
       "            </div>\n",
       "            <div class=\"method_cell\">\n",
       "                <div class=\"method_cell_title\"><span class=\"tt\"><b>Outputs</b></span></div>\n",
       "                <div class=\"method_cell_body\">\n",
       "                    <ul>\n",
       "                        <li><span class=\"tt\">train_x, <b>Array{Float,2}</b>: Train matrix with features.</span></li>\n",
       "<li><span class=\"tt\">train_y, <b>Array{Float,1}</b>: Train array with outputs.</span></li>\n",
       "<li><span class=\"tt\">val_x, <b>Array{Float,2}</b>: Validation dataframe with features.</span></li>\n",
       "<li><span class=\"tt\">val_y, <b>Array{Float,1}</b>: Validation array with outputs.</span></li>\n",
       "\n",
       "                    </ul>\n",
       "                </div>\n",
       "            </div>\n",
       "        </div>\n",
       "    </div>\n",
       "<div/>\n"
      ]
     },
     "metadata": {},
     "output_type": "display_data"
    }
   ],
   "source": [
    "render_doc(\"split_train_val (df; train_size=.85, random_state=1)\",\n",
    "           \"Separate in train and validation dataframes\",\n",
    "           [(\"df\", \"DataFrame\", \"Original dataframe that will be splitted\"),\n",
    "            (\"train_size\", \"Float\", \"\"\"Size in porcentage of the training dataframe.\n",
    "              Default value = 0.85\"\"\"),\n",
    "            (\"random_state\", \"Int\", \"Random seed used. Default value = 1\")],\n",
    "           [(\"train\", \"DataFrame\", \"Train dataframe with train_size percentage\"),\n",
    "            (\"validation\", \"DataFrame\", \"Validation dataframe with 1-train_size percentage\")])\n",
    "\n",
    "render_doc(\"gen_train_val (train, features, label, train_size=.85, random_state=1)\",\n",
    "           \"Generate train and validation for x and y\",\n",
    "           [(\"train\", \"DataFrame\", \"Train dataframe that will be splitted\"),\n",
    "            (\"features\", \"Array{Symbol,1}\", \"Columns to consider as X (features)\"),\n",
    "            (\"label\", \"Symbol\", \"Column to consider as Y (output)\"),\n",
    "            (\"train_size\", \"Float\", \"\"\"Size in porcentage of the training dataframe.\n",
    "              Default value = 0.85\"\"\"),\n",
    "            (\"random_state\", \"Int\", \"Random seed used. Default value = 1\")],\n",
    "           [(\"train_x\", \"Array{Float,2}\", \"Train matrix with features\"),\n",
    "            (\"train_y\", \"Array{Float,1}\", \"Train array with outputs\"),\n",
    "            (\"val_x\", \"Array{Float,2}\", \"Validation dataframe with features\"),\n",
    "            (\"val_y\", \"Array{Float,1}\", \"Validation array with outputs\")])"
   ]
  },
  {
   "cell_type": "code",
   "execution_count": 181,
   "metadata": {
    "collapsed": false
   },
   "outputs": [
    {
     "data": {
      "text/plain": [
       "gen_train_val (generic function with 3 methods)"
      ]
     },
     "execution_count": 181,
     "metadata": {},
     "output_type": "execute_result"
    }
   ],
   "source": [
    "function split_train_val(df; train_size=.85, random_state=1)\n",
    "    srand(random_state)\n",
    "    \n",
    "    nrows, ntraining_rows = size(df, 1), round(Int, size(df, 1) * train_size)\n",
    "    indexes               = shuffle(collect(1:nrows))\n",
    "    train                 = df[indexes[1:ntraining_rows], :]\n",
    "    validation            = df[indexes[ntraining_rows+1:end], :]\n",
    "    \n",
    "    return train, validation\n",
    "end\n",
    "\n",
    "function gen_train_val(train, features, label, train_size=.85, random_state=1)\n",
    "    X_train, X_val = split_train_val(train, train_size=.85, random_state=1)\n",
    "    train_x = Array{Float64,2}(X_train[:, features])\n",
    "    train_y = Array{Float64,1}(X_train[label]) - 1\n",
    "    val_x   = Array{Float64,2}(X_val[:, features])\n",
    "    val_y   = Array{Float64,1}(X_val[label]) - 1\n",
    "    return train_x, train_y, val_x, val_y\n",
    "end"
   ]
  },
  {
   "cell_type": "code",
   "execution_count": 205,
   "metadata": {
    "collapsed": false
   },
   "outputs": [
    {
     "data": {
      "text/html": [
       "    <h1 class=\"section\">\n",
       "        <span class=\"section_number\">09.</span>\n",
       "        <span class=\"section_title\">Functions: XGB Auxiliary Tools</span>\n",
       "    </h1>\n"
      ]
     },
     "metadata": {},
     "output_type": "display_data"
    }
   ],
   "source": [
    "render_section(\"09\", \"\", \"Functions: XGB Auxiliary Tools\")"
   ]
  },
  {
   "cell_type": "code",
   "execution_count": 186,
   "metadata": {
    "collapsed": false
   },
   "outputs": [
    {
     "data": {
      "text/html": [
       "<div class=\"method\">\n",
       "    <div class=\"method_title\"><span class=\"tt\">Method: </span><b>gen_dtrain(train, features, label, train_size=.85, random_state=1)</b></div>\n",
       "        <div class=\"method_body\">\n",
       "            <div class=\"method_cell\">\n",
       "                <div class=\"method_cell_title\"><span class=\"tt\"><b>Description</b></span></div>\n",
       "                <div class=\"method_cell_body\">\n",
       "                    <span class=\"tt\">Generate DMatrices for train and validation to use on XGBoost.</span>\n",
       "                </div>\n",
       "            </div>\n",
       "            <div class=\"method_cell\">\n",
       "                <div class=\"method_cell_title\"><span class=\"tt\"><b>Arguments</b></span></div>\n",
       "                <div class=\"method_cell_body\">\n",
       "                    <ul>\n",
       "                        <li><span class=\"tt\">train, <b>DataFrame</b>: Train dataframe that will be splitted.</span></li>\n",
       "<li><span class=\"tt\">features, <b>Array{Symbol,1}</b>: Columns to consider as X (features).</span></li>\n",
       "<li><span class=\"tt\">label, <b>Symbol</b>: Column to consider as Y (output).</span></li>\n",
       "<li><span class=\"tt\">train_size, <b>Float</b>: Size in porcentage of the training dataframe.\n",
       "Default value = 0.85.</span></li>\n",
       "<li><span class=\"tt\">random_state, <b>Int</b>: Random seed used. Default value = 1.</span></li>\n",
       "\n",
       "                    </ul>\n",
       "                </div>\n",
       "            </div>\n",
       "            <div class=\"method_cell\">\n",
       "                <div class=\"method_cell_title\"><span class=\"tt\"><b>Outputs</b></span></div>\n",
       "                <div class=\"method_cell_body\">\n",
       "                    <ul>\n",
       "                        <li><span class=\"tt\">dtrain, <b>DMatrix</b>: Train matrix to XGB.</span></li>\n",
       "<li><span class=\"tt\">dval, <b>DMatrix</b>: Validation matrix to XGB.</span></li>\n",
       "\n",
       "                    </ul>\n",
       "                </div>\n",
       "            </div>\n",
       "        </div>\n",
       "    </div>\n",
       "<div/>\n"
      ]
     },
     "metadata": {},
     "output_type": "display_data"
    }
   ],
   "source": [
    "render_doc(\"gen_dtrain(train, features, label, train_size=.85, random_state=1)\",\n",
    "           \"Generate DMatrices for train and validation to use on XGBoost\",\n",
    "           [(\"train\", \"DataFrame\", \"Train dataframe that will be splitted\"),\n",
    "            (\"features\", \"Array{Symbol,1}\", \"Columns to consider as X (features)\"),\n",
    "            (\"label\", \"Symbol\", \"Column to consider as Y (output)\"),\n",
    "            (\"train_size\", \"Float\", \"\"\"Size in porcentage of the training dataframe.\n",
    "              Default value = 0.85\"\"\"),\n",
    "            (\"random_state\", \"Int\", \"Random seed used. Default value = 1\")],\n",
    "           [(\"dtrain\", \"DMatrix\", \"Train matrix to XGB\"),\n",
    "            (\"dval\", \"DMatrix\", \"Validation matrix to XGB\")])"
   ]
  },
  {
   "cell_type": "code",
   "execution_count": null,
   "metadata": {
    "collapsed": true
   },
   "outputs": [],
   "source": [
    "function gen_dtrain(train, features, label, train_size=.85, random_state=1)\n",
    "    train_x, train_y, val_x, val_y = gen_train_val(train, features, label, \n",
    "                                                   train_size, random_state)\n",
    "    dtrain  = DMatrix(train_x, label=train_y)\n",
    "    dval    = DMatrix(val_x, label=val_y)\n",
    "    return dtrain, dval\n",
    "end"
   ]
  },
  {
   "cell_type": "code",
   "execution_count": 206,
   "metadata": {
    "collapsed": false
   },
   "outputs": [
    {
     "data": {
      "text/html": [
       "    <h1 class=\"section\">\n",
       "        <span class=\"section_number\">10.</span>\n",
       "        <span class=\"section_title\">Functions: GLM Auxiliary Tools</span>\n",
       "    </h1>\n"
      ]
     },
     "metadata": {},
     "output_type": "display_data"
    }
   ],
   "source": [
    "render_section(\"10\", \"\", \"Functions: GLM Auxiliary Tools\")"
   ]
  },
  {
   "cell_type": "code",
   "execution_count": 204,
   "metadata": {
    "collapsed": false
   },
   "outputs": [
    {
     "data": {
      "text/html": [
       "<div class=\"method\">\n",
       "    <div class=\"method_title\"><span class=\"tt\">Method: </span><b>gen_formulas (features, label)</b></div>\n",
       "        <div class=\"method_body\">\n",
       "            <div class=\"method_cell\">\n",
       "                <div class=\"method_cell_title\"><span class=\"tt\"><b>Description</b></span></div>\n",
       "                <div class=\"method_cell_body\">\n",
       "                    <span class=\"tt\">Generate all valids formules between features x label.</span>\n",
       "                </div>\n",
       "            </div>\n",
       "            <div class=\"method_cell\">\n",
       "                <div class=\"method_cell_title\"><span class=\"tt\"><b>Arguments</b></span></div>\n",
       "                <div class=\"method_cell_body\">\n",
       "                    <ul>\n",
       "                        <li><span class=\"tt\">features, <b>Array{Symbol,1}</b>: Features that will be used in combination.</span></li>\n",
       "<li><span class=\"tt\">label, <b>Symbol</b>: Output label (i.e., Y).</span></li>\n",
       "\n",
       "                    </ul>\n",
       "                </div>\n",
       "            </div>\n",
       "            <div class=\"method_cell\">\n",
       "                <div class=\"method_cell_title\"><span class=\"tt\"><b>Outputs</b></span></div>\n",
       "                <div class=\"method_cell_body\">\n",
       "                    <ul>\n",
       "                        <li><span class=\"tt\">formulas, <b>Array{Formula,1}</b>: Array of formulas to be used in GLM package.</span></li>\n",
       "\n",
       "                    </ul>\n",
       "                </div>\n",
       "            </div>\n",
       "        </div>\n",
       "    </div>\n",
       "<div/>\n"
      ]
     },
     "metadata": {},
     "output_type": "display_data"
    },
    {
     "data": {
      "text/html": [
       "<div class=\"method\">\n",
       "    <div class=\"method_title\"><span class=\"tt\">Method: </span><b>gen_glm (train, formulas, family=Binomial(), link=LogitLink())</b></div>\n",
       "        <div class=\"method_body\">\n",
       "            <div class=\"method_cell\">\n",
       "                <div class=\"method_cell_title\"><span class=\"tt\"><b>Description</b></span></div>\n",
       "                <div class=\"method_cell_body\">\n",
       "                    <span class=\"tt\">Generate Generalized Linear Models (GLMs). Check the \n",
       "<a src=\"https://github.com/JuliaStats/GLM.jl\">original package</a>\n",
       "for more information.</span>\n",
       "                </div>\n",
       "            </div>\n",
       "            <div class=\"method_cell\">\n",
       "                <div class=\"method_cell_title\"><span class=\"tt\"><b>Arguments</b></span></div>\n",
       "                <div class=\"method_cell_body\">\n",
       "                    <ul>\n",
       "                        <li><span class=\"tt\">train, <b>DataFrame</b>: Train data.</span></li>\n",
       "<li><span class=\"tt\">formulas, <b>Array{Formula,1}</b>: Array with the formulas.</span></li>\n",
       "<li><span class=\"tt\">family, <b>Distribution</b>: Family discribution (e.g., Binomial, Gamma, etc).</span></li>\n",
       "<li><span class=\"tt\">link, <b></b>: Link from distribution. Default is LogitLink for logistic regression.</span></li>\n",
       "\n",
       "                    </ul>\n",
       "                </div>\n",
       "            </div>\n",
       "            <div class=\"method_cell\">\n",
       "                <div class=\"method_cell_title\"><span class=\"tt\"><b>Outputs</b></span></div>\n",
       "                <div class=\"method_cell_body\">\n",
       "                    <ul>\n",
       "                        <li><span class=\"tt\">_, <b>GLM Models</b>: Array with GLM models.</span></li>\n",
       "\n",
       "                    </ul>\n",
       "                </div>\n",
       "            </div>\n",
       "        </div>\n",
       "    </div>\n",
       "<div/>\n"
      ]
     },
     "metadata": {},
     "output_type": "display_data"
    }
   ],
   "source": [
    "render_doc(\"gen_formulas (features, label)\",\n",
    "\"Generate all valids formules between features x label\",\n",
    "          [(\"features\", \"Array{Symbol,1}\", \"Features that will be used in combination\"),\n",
    "           (\"label\", \"Symbol\", \"Output label (i.e., Y)\")],\n",
    "          [(\"formulas\", \"Array{Formula,1}\", \"Array of formulas to be used in GLM package\")])\n",
    "\n",
    "render_doc(\"gen_glm (train, formulas, family=Binomial(), link=LogitLink())\",\n",
    "           \"\"\"Generate Generalized Linear Models (GLMs). Check the \n",
    "              <a src=\"https://github.com/JuliaStats/GLM.jl\">original package</a>\n",
    "              for more information\"\"\",\n",
    "          [(\"train\", \"DataFrame\", \"Train data\"),\n",
    "           (\"formulas\", \"Array{Formula,1}\", \"Array with the formulas\"),\n",
    "           (\"family\", \"Distribution\", \"Family discribution (e.g., Binomial, Gamma, etc)\"),\n",
    "           (\"link\", \"\", \"Link from distribution. Default is LogitLink for logistic regression\")],\n",
    "          [(\"_\", \"GLM Models\", \"Array with GLM models\")])"
   ]
  },
  {
   "cell_type": "code",
   "execution_count": 199,
   "metadata": {
    "collapsed": false
   },
   "outputs": [
    {
     "data": {
      "text/plain": [
       "gen_glm (generic function with 3 methods)"
      ]
     },
     "execution_count": 199,
     "metadata": {},
     "output_type": "execute_result"
    }
   ],
   "source": [
    "function gen_formulas(features, label)\n",
    "    all_features_combinations = collect(subsets(features))\n",
    "    formulas = []\n",
    "    for features_combination in all_features_combinations[2:end]\n",
    "        formula = eval(parse(string(label, \"~\", join(features_combination, \"+\"))))\n",
    "        push!(formulas , formula)\n",
    "    end\n",
    "    return formulas\n",
    "end\n",
    "\n",
    "function gen_glm(train, formulas, family=Binomial(), link=LogitLink())\n",
    "    return [glm(formula, train, family, link) for formula in formulas]\n",
    "end"
   ]
  }
 ],
 "metadata": {
  "kernelspec": {
   "display_name": "Julia 0.4.1-pre",
   "language": "julia",
   "name": "julia-0.4"
  },
  "language_info": {
   "file_extension": ".jl",
   "mimetype": "application/julia",
   "name": "julia",
   "version": "0.4.1"
  }
 },
 "nbformat": 4,
 "nbformat_minor": 0
}
