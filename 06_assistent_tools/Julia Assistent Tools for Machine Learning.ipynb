{
 "cells": [
  {
   "cell_type": "markdown",
   "metadata": {},
   "source": [
    "# Julia Assistent Tools for Machine Learning"
   ]
  },
  {
   "cell_type": "markdown",
   "metadata": {},
   "source": [
    "**Author: [Oliveira, D. M.](http://br.linkedin.com/in/dmztheone)**"
   ]
  },
  {
   "cell_type": "code",
   "execution_count": 158,
   "metadata": {
    "collapsed": false
   },
   "outputs": [
    {
     "data": {
      "text/html": [
       "    <h1 class=\"section\">\n",
       "        <span class=\"section_number\">.</span>\n",
       "        <span class=\"section_title\">Introduction</span>\n",
       "    </h1>\n"
      ]
     },
     "metadata": {},
     "output_type": "display_data"
    }
   ],
   "source": [
    "render_section(\"\", \"\", \"Introduction\")"
   ]
  },
  {
   "cell_type": "markdown",
   "metadata": {},
   "source": [
    "Write a proper introduction..."
   ]
  },
  {
   "cell_type": "code",
   "execution_count": 155,
   "metadata": {
    "collapsed": false
   },
   "outputs": [
    {
     "data": {
      "text/html": [
       "    <h1 class=\"section\">\n",
       "        <span class=\"section_number\">01.</span>\n",
       "        <span class=\"section_title\">Import Packages</span>\n",
       "    </h1>\n"
      ]
     },
     "metadata": {},
     "output_type": "display_data"
    }
   ],
   "source": [
    "render_section(\"01\", \"\", \"Import Packages\")"
   ]
  },
  {
   "cell_type": "code",
   "execution_count": 3,
   "metadata": {
    "collapsed": false
   },
   "outputs": [],
   "source": [
    "using DataFrames\n",
    "using MLBase"
   ]
  },
  {
   "cell_type": "code",
   "execution_count": 151,
   "metadata": {
    "collapsed": false
   },
   "outputs": [
    {
     "data": {
      "text/html": [
       "    <h1 class=\"section\">\n",
       "        <span class=\"section_number\">02.</span>\n",
       "        <span class=\"section_title\">HTML Assistent Tools</span>\n",
       "    </h1>\n"
      ]
     },
     "metadata": {},
     "output_type": "display_data"
    }
   ],
   "source": [
    "render_section(\"02\", \"\", \"HTML Assistent Tools\")"
   ]
  },
  {
   "cell_type": "markdown",
   "metadata": {},
   "source": [
    "### CSS Style"
   ]
  },
  {
   "cell_type": "code",
   "execution_count": 153,
   "metadata": {
    "collapsed": false
   },
   "outputs": [
    {
     "data": {
      "text/html": [
       "<style>\n",
       "span.tt {\n",
       "    font-family: 'Lucida Sans Typewriter', 'Lucida Console', \n",
       "                  monaco, 'Bitstream Vera Sans Mono', monospace;\n",
       "    color: #03396c;\n",
       "}\n",
       "\n",
       "div.method {\n",
       "    margin-bottom: 10px;\n",
       "}\n",
       "\n",
       "div.method_title {\n",
       "    padding: 4px 0px 4px 10px;\n",
       "    background-color:#85bdde; color:#005b96;\n",
       "    border-left: 8px solid #cb2c31;\n",
       "}\n",
       "\n",
       "div.method_body {\n",
       "    padding: 5px 20px 20px 20px;\n",
       "    border-left: 8px solid #e69598;\n",
       "    background-color: #ccebfb;\n",
       "}\n",
       "\n",
       "div.method_cell {}\n",
       "\n",
       "div.method_cell_title {\n",
       "    padding: 20px 0px 0px 0px;\n",
       "}\n",
       "\n",
       "div.method_cell_body {}\n",
       "\n",
       "\n",
       "h1.section {\n",
       "    border-bottom:5px solid #696565;\n",
       "}\n",
       "\n",
       "span.section_number {\n",
       "    background-color:#696565;\n",
       "    color:#ffb400;\n",
       "    padding:3px 5px 3px 5px;\n",
       "}\n",
       "\n",
       "span.section_title {\n",
       "    padding:5px 5px 0px 5px;\n",
       "    color:#ff9d23;\n",
       "}\n",
       "\n",
       "</style>\n"
      ]
     },
     "metadata": {},
     "output_type": "display_data"
    }
   ],
   "source": [
    "style_css = \"\"\"\n",
    "<style>\n",
    "span.tt {\n",
    "    font-family: 'Lucida Sans Typewriter', 'Lucida Console', \n",
    "                  monaco, 'Bitstream Vera Sans Mono', monospace;\n",
    "    color: #03396c;\n",
    "}\n",
    "\n",
    "div.method {\n",
    "    margin-bottom: 10px;\n",
    "}\n",
    "\n",
    "div.method_title {\n",
    "    padding: 4px 0px 4px 10px;\n",
    "    background-color:#85bdde; color:#005b96;\n",
    "    border-left: 8px solid #cb2c31;\n",
    "}\n",
    "\n",
    "div.method_body {\n",
    "    padding: 5px 20px 20px 20px;\n",
    "    border-left: 8px solid #e69598;\n",
    "    background-color: #ccebfb;\n",
    "}\n",
    "\n",
    "div.method_cell {}\n",
    "\n",
    "div.method_cell_title {\n",
    "    padding: 20px 0px 0px 0px;\n",
    "}\n",
    "\n",
    "div.method_cell_body {}\n",
    "\n",
    "\n",
    "h1.section {\n",
    "    border-bottom:5px solid #696565;\n",
    "}\n",
    "\n",
    "span.section_number {\n",
    "    background-color:#696565;\n",
    "    color:#ffb400;\n",
    "    padding:3px 5px 3px 5px;\n",
    "}\n",
    "\n",
    "span.section_title {\n",
    "    padding:5px 5px 0px 5px;\n",
    "    color:#ff9d23;\n",
    "}\n",
    "\n",
    "</style>\n",
    "\"\"\"\n",
    "display(\"text/html\", style_css)"
   ]
  },
  {
   "cell_type": "markdown",
   "metadata": {},
   "source": [
    "### HTML Tools"
   ]
  },
  {
   "cell_type": "code",
   "execution_count": 148,
   "metadata": {
    "collapsed": false
   },
   "outputs": [
    {
     "data": {
      "text/plain": [
       "render_section (generic function with 1 method)"
      ]
     },
     "execution_count": 148,
     "metadata": {},
     "output_type": "execute_result"
    }
   ],
   "source": [
    "function render_doc(method_signature, description, arguments, outputs)\n",
    "    arguments_html       = field_list_to_html(arguments)\n",
    "    outputs_html         = field_list_to_html(outputs)\n",
    "    html_method_template = \"\"\"\n",
    "    <div class=\"method\">\n",
    "        <div class=\"method_title\"><span class=\"tt\">Method: </span><b>$method_signature</b></div>\n",
    "            <div class=\"method_body\">\n",
    "                <div class=\"method_cell\">\n",
    "                    <div class=\"method_cell_title\"><span class=\"tt\"><b>Description</b></span></div>\n",
    "                    <div class=\"method_cell_body\">\n",
    "                        <span class=\"tt\">$description.</span>\n",
    "                    </div>\n",
    "                </div>\n",
    "                <div class=\"method_cell\">\n",
    "                    <div class=\"method_cell_title\"><span class=\"tt\"><b>Arguments</b></span></div>\n",
    "                    <div class=\"method_cell_body\">\n",
    "                        <ul>\n",
    "                            $arguments_html\n",
    "                        </ul>\n",
    "                    </div>\n",
    "                </div>\n",
    "                <div class=\"method_cell\">\n",
    "                    <div class=\"method_cell_title\"><span class=\"tt\"><b>Outputs</b></span></div>\n",
    "                    <div class=\"method_cell_body\">\n",
    "                        <ul>\n",
    "                            $outputs_html\n",
    "                        </ul>\n",
    "                    </div>\n",
    "                </div>\n",
    "            </div>\n",
    "        </div>\n",
    "    <div/>\n",
    "    \"\"\"\n",
    "    return display(\"text/html\", html_method_template)\n",
    "end\n",
    "\n",
    "function field_list_to_html(list)\n",
    "    length(list) == 0 && return \"<span class=\\\"tt\\\">None.</span>\"\n",
    "    html = \"\"\n",
    "    for (field_name, field_type, field_description) in list\n",
    "        html *= \"<li><span class=\\\"tt\\\">$field_name, <b>$field_type</b>: \"\n",
    "        html *= \"$field_description.</span></li>\\n\"\n",
    "    end\n",
    "    return html\n",
    "end\n",
    "\n",
    "function render_section(section_number, subsection_number, title)\n",
    "    return display(\"text/html\", \"\"\"\n",
    "        <h1 class=\"section\">\n",
    "            <span class=\"section_number\">$section_number.$subsection_number</span>\n",
    "            <span class=\"section_title\">$title</span>\n",
    "        </h1>\n",
    "    \"\"\")\n",
    "end"
   ]
  },
  {
   "cell_type": "code",
   "execution_count": 156,
   "metadata": {
    "collapsed": false
   },
   "outputs": [
    {
     "data": {
      "text/html": [
       "    <h1 class=\"section\">\n",
       "        <span class=\"section_number\">03.</span>\n",
       "        <span class=\"section_title\">Functions: Missing Values</span>\n",
       "    </h1>\n"
      ]
     },
     "metadata": {},
     "output_type": "display_data"
    }
   ],
   "source": [
    "render_section(\"03\", \"\", \"Functions: Missing Values\")"
   ]
  },
  {
   "cell_type": "code",
   "execution_count": 146,
   "metadata": {
    "collapsed": false
   },
   "outputs": [
    {
     "data": {
      "text/html": [
       "<div class=\"method\">\n",
       "    <div class=\"method_title\"><span class=\"tt\">Method: </span><b>get_default_values (df, features)</b></div>\n",
       "        <div class=\"method_body\">\n",
       "            <div class=\"method_cell\">\n",
       "                <div class=\"method_cell_title\"><span class=\"tt\"><b>Description</b></span></div>\n",
       "                <div class=\"method_cell_body\">\n",
       "                    <span class=\"tt\">Calculates the mode for all features informed. \n",
       "Usually it is used to replace missing data.</span>\n",
       "                </div>\n",
       "            </div>\n",
       "            <div class=\"method_cell\">\n",
       "                <div class=\"method_cell_title\"><span class=\"tt\"><b>Arguments</b></span></div>\n",
       "                <div class=\"method_cell_body\">\n",
       "                    <ul>\n",
       "                        <li><span class=\"tt\">df, <b>DataFrame</b>: Data used to calculate modes by column.</span></li>\n",
       "<li><span class=\"tt\">features, <b>Array{Symbol,1}</b>: Column names that will be considered.</span></li>\n",
       "\n",
       "                    </ul>\n",
       "                </div>\n",
       "            </div>\n",
       "            <div class=\"method_cell\">\n",
       "                <div class=\"method_cell_title\"><span class=\"tt\"><b>Outputs</b></span></div>\n",
       "                <div class=\"method_cell_body\">\n",
       "                    <ul>\n",
       "                        <li><span class=\"tt\">default_values, <b>Dict</b>: Dictionary with the default values.</span></li>\n",
       "\n",
       "                    </ul>\n",
       "                </div>\n",
       "            </div>\n",
       "        </div>\n",
       "    </div>\n",
       "<div/>\n"
      ]
     },
     "metadata": {},
     "output_type": "display_data"
    },
    {
     "data": {
      "text/html": [
       "<div class=\"method\">\n",
       "    <div class=\"method_title\"><span class=\"tt\">Method: </span><b>apply_default_values! (df, default_values)</b></div>\n",
       "        <div class=\"method_body\">\n",
       "            <div class=\"method_cell\">\n",
       "                <div class=\"method_cell_title\"><span class=\"tt\"><b>Description</b></span></div>\n",
       "                <div class=\"method_cell_body\">\n",
       "                    <span class=\"tt\">Apply a dictionary of default values to missing values (NAs) of the\n",
       "given dataframe. Only keys identified as column will be used.</span>\n",
       "                </div>\n",
       "            </div>\n",
       "            <div class=\"method_cell\">\n",
       "                <div class=\"method_cell_title\"><span class=\"tt\"><b>Arguments</b></span></div>\n",
       "                <div class=\"method_cell_body\">\n",
       "                    <ul>\n",
       "                        <li><span class=\"tt\">df, <b>DataFrame</b>: Data that will be used to replace NAs to default values.</span></li>\n",
       "<li><span class=\"tt\">default_values, <b>Dict</b>: Dictionary with features/default values.</span></li>\n",
       "\n",
       "                    </ul>\n",
       "                </div>\n",
       "            </div>\n",
       "            <div class=\"method_cell\">\n",
       "                <div class=\"method_cell_title\"><span class=\"tt\"><b>Outputs</b></span></div>\n",
       "                <div class=\"method_cell_body\">\n",
       "                    <ul>\n",
       "                        <li><span class=\"tt\">df, <b>DataFrame</b>: Original dataframe with NAs replaced by default values.</span></li>\n",
       "\n",
       "                    </ul>\n",
       "                </div>\n",
       "            </div>\n",
       "        </div>\n",
       "    </div>\n",
       "<div/>\n"
      ]
     },
     "metadata": {},
     "output_type": "display_data"
    }
   ],
   "source": [
    "render_doc(\"get_default_values (df, features)\", \n",
    "           \"\"\"Calculates the mode for all features informed. \n",
    "              Usually it is used to replace missing data\"\"\", \n",
    "           [(\"df\", \"DataFrame\", \"Data used to calculate modes by column\"),\n",
    "            (\"features\", \"Array{Symbol,1}\", \"Column names that will be considered\")],\n",
    "           [(\"default_values\", \"Dict\", \"Dictionary with the default values\")])\n",
    "\n",
    "render_doc(\"apply_default_values! (df, default_values)\",\n",
    "           \"\"\"Apply a dictionary of default values to missing values (NAs) of the\n",
    "              given dataframe. Only keys identified as column will be used\"\"\",\n",
    "          [(\"df\", \"DataFrame\", \"Data that will be used to replace NAs to default values\"),\n",
    "           (\"default_values\", \"Dict\", \"Dictionary with features/default values\")],\n",
    "          [(\"df\", \"DataFrame\", \"Original dataframe with NAs replaced by default values\")])"
   ]
  },
  {
   "cell_type": "code",
   "execution_count": null,
   "metadata": {
    "collapsed": true
   },
   "outputs": [],
   "source": [
    "function get_default_values(df, features)\n",
    "    default_values = Dict()\n",
    "    for feature in features\n",
    "        default_value = mode(dropna(df[feature]))\n",
    "        default_values[feature] = default_value\n",
    "    end\n",
    "    return default_values\n",
    "end\n",
    "\n",
    "function apply_default_values!(df, default_values)\n",
    "    for feature in keys(default_values)\n",
    "        df[isna(df[feature]), feature] = default_values[feature]\n",
    "    end\n",
    "    return df\n",
    "end"
   ]
  },
  {
   "cell_type": "code",
   "execution_count": 157,
   "metadata": {
    "collapsed": false
   },
   "outputs": [
    {
     "data": {
      "text/html": [
       "    <h1 class=\"section\">\n",
       "        <span class=\"section_number\">04.</span>\n",
       "        <span class=\"section_title\">Functions: Label Encoding</span>\n",
       "    </h1>\n"
      ]
     },
     "metadata": {},
     "output_type": "display_data"
    }
   ],
   "source": [
    "render_section(\"04\", \"\", \"Functions: Label Encoding\")"
   ]
  },
  {
   "cell_type": "code",
   "execution_count": 164,
   "metadata": {
    "collapsed": false
   },
   "outputs": [
    {
     "data": {
      "text/html": [
       "<div class=\"method\">\n",
       "    <div class=\"method_title\"><span class=\"tt\">Method: </span><b>get_label_encoding (df, features)</b></div>\n",
       "        <div class=\"method_body\">\n",
       "            <div class=\"method_cell\">\n",
       "                <div class=\"method_cell_title\"><span class=\"tt\"><b>Description</b></span></div>\n",
       "                <div class=\"method_cell_body\">\n",
       "                    <span class=\"tt\">Get label encoding for features of a given dataframe.</span>\n",
       "                </div>\n",
       "            </div>\n",
       "            <div class=\"method_cell\">\n",
       "                <div class=\"method_cell_title\"><span class=\"tt\"><b>Arguments</b></span></div>\n",
       "                <div class=\"method_cell_body\">\n",
       "                    <ul>\n",
       "                        <li><span class=\"tt\">df, <b>DataFrame</b>: Data that will be used to create label encoding.</span></li>\n",
       "<li><span class=\"tt\">features, <b>Array{Symbol,1}</b>: Features that will be created label encoding.</span></li>\n",
       "\n",
       "                    </ul>\n",
       "                </div>\n",
       "            </div>\n",
       "            <div class=\"method_cell\">\n",
       "                <div class=\"method_cell_title\"><span class=\"tt\"><b>Outputs</b></span></div>\n",
       "                <div class=\"method_cell_body\">\n",
       "                    <ul>\n",
       "                        <li><span class=\"tt\">_, <b>Dict</b>: A dictionary with the encoding for each feature informed.</span></li>\n",
       "\n",
       "                    </ul>\n",
       "                </div>\n",
       "            </div>\n",
       "        </div>\n",
       "    </div>\n",
       "<div/>\n"
      ]
     },
     "metadata": {},
     "output_type": "display_data"
    },
    {
     "data": {
      "text/html": [
       "<div class=\"method\">\n",
       "    <div class=\"method_title\"><span class=\"tt\">Method: </span><b>apply_encoding! (df, encoding)</b></div>\n",
       "        <div class=\"method_body\">\n",
       "            <div class=\"method_cell\">\n",
       "                <div class=\"method_cell_title\"><span class=\"tt\"><b>Description</b></span></div>\n",
       "                <div class=\"method_cell_body\">\n",
       "                    <span class=\"tt\">Apply encoding to a given dataframe.</span>\n",
       "                </div>\n",
       "            </div>\n",
       "            <div class=\"method_cell\">\n",
       "                <div class=\"method_cell_title\"><span class=\"tt\"><b>Arguments</b></span></div>\n",
       "                <div class=\"method_cell_body\">\n",
       "                    <ul>\n",
       "                        <li><span class=\"tt\">df, <b>DataFrame</b>: Dataframe that will be encoded.</span></li>\n",
       "<li><span class=\"tt\">encoding, <b>Dict</b>: A dictionary with the feature/encoding data.</span></li>\n",
       "\n",
       "                    </ul>\n",
       "                </div>\n",
       "            </div>\n",
       "            <div class=\"method_cell\">\n",
       "                <div class=\"method_cell_title\"><span class=\"tt\"><b>Outputs</b></span></div>\n",
       "                <div class=\"method_cell_body\">\n",
       "                    <ul>\n",
       "                        <li><span class=\"tt\">df, <b>DataFrame</b>: Dataframe with encoded columns.</span></li>\n",
       "\n",
       "                    </ul>\n",
       "                </div>\n",
       "            </div>\n",
       "        </div>\n",
       "    </div>\n",
       "<div/>\n"
      ]
     },
     "metadata": {},
     "output_type": "display_data"
    }
   ],
   "source": [
    "render_doc(\"get_label_encoding (df, features)\",\n",
    "           \"Get label encoding for features of a given dataframe\",\n",
    "           [(\"df\", \"DataFrame\", \"Data that will be used to create label encoding\"), \n",
    "            (\"features\", \"Array{Symbol,1}\", \"Features that will be created label encoding\")],\n",
    "            [(\"_\", \"Dict\", \"A dictionary with the encoding for each feature informed\")])\n",
    "\n",
    "render_doc(\"apply_encoding! (df, encoding)\",\n",
    "           \"Apply encoding to a given dataframe\",\n",
    "           [(\"df\", \"DataFrame\", \"Dataframe that will be encoded\"),\n",
    "            (\"encoding\", \"Dict\", \"A dictionary with the feature/encoding data\")],\n",
    "           [(\"df\", \"DataFrame\", \"Dataframe with encoded columns\")])"
   ]
  },
  {
   "cell_type": "code",
   "execution_count": 161,
   "metadata": {
    "collapsed": false
   },
   "outputs": [
    {
     "data": {
      "text/plain": [
       "apply_encoding! (generic function with 1 method)"
      ]
     },
     "execution_count": 161,
     "metadata": {},
     "output_type": "execute_result"
    }
   ],
   "source": [
    "get_label_encoding(df, features) = Dict([f => labelmap(dropna(df[f])) for f in features])\n",
    "\n",
    "function apply_encoding!(df, encoding)\n",
    "    for feature in keys(encoding)\n",
    "        df[feature] = labelencode(encoding[feature], df[feature])\n",
    "    end\n",
    "    return df\n",
    "end"
   ]
  },
  {
   "cell_type": "code",
   "execution_count": 165,
   "metadata": {
    "collapsed": false
   },
   "outputs": [
    {
     "data": {
      "text/html": [
       "    <h1 class=\"section\">\n",
       "        <span class=\"section_number\">05.</span>\n",
       "        <span class=\"section_title\">Functions: One-Hot-Encoding</span>\n",
       "    </h1>\n"
      ]
     },
     "metadata": {},
     "output_type": "display_data"
    }
   ],
   "source": [
    "render_section(\"05\", \"\", \"Functions: One-Hot-Encoding\")"
   ]
  },
  {
   "cell_type": "code",
   "execution_count": 168,
   "metadata": {
    "collapsed": false
   },
   "outputs": [
    {
     "data": {
      "text/html": [
       "<div class=\"method\">\n",
       "    <div class=\"method_title\"><span class=\"tt\">Method: </span><b>get_all_values (df, features)</b></div>\n",
       "        <div class=\"method_body\">\n",
       "            <div class=\"method_cell\">\n",
       "                <div class=\"method_cell_title\"><span class=\"tt\"><b>Description</b></span></div>\n",
       "                <div class=\"method_cell_body\">\n",
       "                    <span class=\"tt\">Get all unique values from a given dataframe.</span>\n",
       "                </div>\n",
       "            </div>\n",
       "            <div class=\"method_cell\">\n",
       "                <div class=\"method_cell_title\"><span class=\"tt\"><b>Arguments</b></span></div>\n",
       "                <div class=\"method_cell_body\">\n",
       "                    <ul>\n",
       "                        <li><span class=\"tt\">df, <b>DataFrame</b>: Dataframe used to extract unique values.</span></li>\n",
       "<li><span class=\"tt\">features, <b>Array{Symbol,1}</b>: Features that will be extract unique values.</span></li>\n",
       "\n",
       "                    </ul>\n",
       "                </div>\n",
       "            </div>\n",
       "            <div class=\"method_cell\">\n",
       "                <div class=\"method_cell_title\"><span class=\"tt\"><b>Outputs</b></span></div>\n",
       "                <div class=\"method_cell_body\">\n",
       "                    <ul>\n",
       "                        <li><span class=\"tt\">_, <b>Dict</b>: A dictionary with unique values for each feature informed.</span></li>\n",
       "\n",
       "                    </ul>\n",
       "                </div>\n",
       "            </div>\n",
       "        </div>\n",
       "    </div>\n",
       "<div/>\n"
      ]
     },
     "metadata": {},
     "output_type": "display_data"
    }
   ],
   "source": [
    "render_doc(\"get_all_values (df, features)\",\n",
    "           \"Get all unique values from a given dataframe\",\n",
    "           [(\"df\", \"DataFrame\", \"Dataframe used to extract unique values\"),\n",
    "            (\"features\", \"Array{Symbol,1}\", \"Features that will be extract unique values\")],\n",
    "           [(\"_\", \"Dict\", \"A dictionary with unique values for each feature informed\")])\n",
    "\n"
   ]
  },
  {
   "cell_type": "code",
   "execution_count": 166,
   "metadata": {
    "collapsed": false
   },
   "outputs": [
    {
     "data": {
      "text/plain": [
       "get_all_values (generic function with 1 method)"
      ]
     },
     "execution_count": 166,
     "metadata": {},
     "output_type": "execute_result"
    }
   ],
   "source": [
    "get_all_values(df, features) = Dict([f => Set(dropna(df[f])) for f in features])"
   ]
  }
 ],
 "metadata": {
  "kernelspec": {
   "display_name": "Julia 0.4.1-pre",
   "language": "julia",
   "name": "julia-0.4"
  },
  "language_info": {
   "file_extension": ".jl",
   "mimetype": "application/julia",
   "name": "julia",
   "version": "0.4.1"
  }
 },
 "nbformat": 4,
 "nbformat_minor": 0
}
