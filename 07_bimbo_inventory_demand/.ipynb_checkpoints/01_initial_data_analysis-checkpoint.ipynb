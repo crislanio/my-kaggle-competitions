{
 "cells": [
  {
   "cell_type": "markdown",
   "metadata": {},
   "source": [
    "# <u style=\"color:#0552bd;\">Grupo BIMBO Inventory Demand</u> <img src=\"https://kaggle2.blob.core.windows.net/competitions/kaggle/5260/logos/front_page.png\" style=\"float:right; position:relative; top:-30px; width:120px;\">\n",
    "<img src=\"https://kaggle2.blob.core.windows.net/competitions/kaggle/5260/media/grupobimbo_660x_crop.png\"/>  \n",
    "<span style=\"color:#0552bd;\">**Description:** Planning a celebration is a balancing act of preparing just enough food to go around without being stuck eating the same leftovers for the next week. The key is anticipating how many guests will come. Grupo Bimbo must weigh similar considerations as it strives to meet daily consumer demand for fresh bakery products on the shelves of over 1 million stores along its 45,000 routes across Mexico.</span>  \n",
    "<br/>\n",
    "<div style=\"background-color:#edf5ff; padding: 5px 5px 5px 5px; width: auto;\"><span style=\"margin-left:15px;\">This is part of a [Kaggle Competition](https://www.kaggle.com/c/grupo-bimbo-inventory-demand); Notebook Author: [Oliveira, D.M.](https://github.com/dmoliveira); Source Code powered by [Julia](http://julialang.org/)<img style=\"width:64px; float: right; position: relative; top: -15px;\" src=\"https://www.juliabox.org/assets/img/ipynblogo.png\"/></span></div>\n",
    "\n",
    "\n",
    "\n",
    "# <span \"style=color:#ff5d79;\"><u>NB 01: Initial Data Analysis</u></span>\n"
   ]
  },
  {
   "cell_type": "markdown",
   "metadata": {},
   "source": [
    "## Import Packages"
   ]
  },
  {
   "cell_type": "code",
   "execution_count": 2,
   "metadata": {
    "collapsed": false
   },
   "outputs": [],
   "source": [
    "using DataFrames"
   ]
  },
  {
   "cell_type": "markdown",
   "metadata": {},
   "source": [
    "## Load Data"
   ]
  },
  {
   "cell_type": "code",
   "execution_count": null,
   "metadata": {
    "collapsed": false
   },
   "outputs": [],
   "source": [
    "client_data  = readtable(\"data/raw/cliente_tabla.csv\")\n",
    "product_data = readtable(\"data/raw/producto_tabla.csv\")\n",
    "town_data = readtable(\"data/raw/town_state.csv\")\n",
    "train_data = readtable(\"data/raw/train.csv\")\n",
    "test_data = readtable(\"data/raw/test.csv\");"
   ]
  },
  {
   "cell_type": "code",
   "execution_count": null,
   "metadata": {
    "collapsed": true
   },
   "outputs": [],
   "source": []
  }
 ],
 "metadata": {
  "kernelspec": {
   "display_name": "Julia 0.4.1-pre",
   "language": "julia",
   "name": "julia-0.4"
  },
  "language_info": {
   "file_extension": ".jl",
   "mimetype": "application/julia",
   "name": "julia",
   "version": "0.4.1"
  }
 },
 "nbformat": 4,
 "nbformat_minor": 0
}
