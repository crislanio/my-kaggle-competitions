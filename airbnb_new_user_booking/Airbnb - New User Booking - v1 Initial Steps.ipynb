{
 "cells": [
  {
   "cell_type": "markdown",
   "metadata": {},
   "source": [
    "<div>\n",
    "<div style=\"text-align:center; display:block; float:left; padding:80px;\"><img width=\"200px\"  src=\"https://kaggle2.blob.core.windows.net/competitions/kaggle/4651/logos/front_page.png\"/><span style=\"color:red;\">**New User Booking**</span></div>\n",
    "<div style=\"\">\n",
    "**Objective:** In this recruiting competition, Airbnb challenges you to predict in which country a new user will make his or her first booking.  \n",
    "  \n",
    "** Description: ** In this challenge, you are given a list of users along with their demographics, web session records, and some summary statistics. You are asked to predict which country a new user's first booking destination will be. All the users in this dataset are from the USA.\n",
    "</div>\n",
    "<img src=\"https://kaggle2.blob.core.windows.net/competitions/kaggle/4651/media/airbnb_banner.png\" />"
   ]
  },
  {
   "cell_type": "markdown",
   "metadata": {},
   "source": [
    "## 1. Import Packages"
   ]
  },
  {
   "cell_type": "code",
   "execution_count": 1,
   "metadata": {
    "collapsed": false
   },
   "outputs": [
    {
     "name": "stderr",
     "output_type": "stream",
     "text": [
      "WARNING: Base.String is deprecated, use AbstractString instead.\n",
      "  likely near /Users/diego/.julia/v0.4/MLBase/src/modeltune.jl:5\n",
      "WARNING: Base.String is deprecated, use AbstractString instead.\n",
      "  likely near /Users/diego/.julia/v0.4/MLBase/src/modeltune.jl:5\n",
      "WARNING: Base.String is deprecated, use AbstractString instead.\n",
      "  likely near /Users/diego/.julia/v0.4/MLBase/src/modeltune.jl:5\n",
      "WARNING: Base.FloatingPoint is deprecated, use AbstractFloat instead.\n",
      "  likely near /Users/diego/.julia/v0.4/MLBase/src/deprecated/datapre.jl:104\n",
      "WARNING: Base.FloatingPoint is deprecated, use AbstractFloat instead.\n",
      "  likely near /Users/diego/.julia/v0.4/MLBase/src/deprecated/datapre.jl:105\n",
      "WARNING: Base.FloatingPoint is deprecated, use AbstractFloat instead.\n",
      "  likely near /Users/diego/.julia/v0.4/MLBase/src/deprecated/datapre.jl:163\n",
      "WARNING: Base.FloatingPoint is deprecated, use AbstractFloat instead.\n",
      "  likely near /Users/diego/.julia/v0.4/MLBase/src/deprecated/datapre.jl:163\n",
      "WARNING: Base.FloatingPoint is deprecated, use AbstractFloat instead.\n",
      "  likely near /Users/diego/.julia/v0.4/MLBase/src/deprecated/datapre.jl:163\n"
     ]
    }
   ],
   "source": [
    "using DataFrames\n",
    "using MLBase"
   ]
  },
  {
   "cell_type": "markdown",
   "metadata": {},
   "source": [
    "## 2. Load Data"
   ]
  },
  {
   "cell_type": "code",
   "execution_count": 34,
   "metadata": {
    "collapsed": true
   },
   "outputs": [],
   "source": [
    "train = readtable(\"data/train_users_2.csv.gz\")\n",
    "test = readtable(\"data/test_users.csv.gz\")\n",
    "people_demograph = readtable(\"data/age_gender_bkts.csv.gz\")\n",
    "countries_demograph = readtable(\"data/countries.csv.gz\")\n",
    "user_sessions = readtable(\"data/sessions.csv.gz\")\n",
    "full = vcat(train, test);"
   ]
  },
  {
   "cell_type": "markdown",
   "metadata": {},
   "source": [
    "## 3. Data Explorary Analysis I: Initial Exploration"
   ]
  },
  {
   "cell_type": "code",
   "execution_count": 3,
   "metadata": {
    "collapsed": false
   },
   "outputs": [
    {
     "name": "stdout",
     "output_type": "stream",
     "text": [
      "275547x16 DataFrames.DataFrame\n",
      "| Col #"
     ]
    }
   ],
   "source": [
    "showcols(full);"
   ]
  },
  {
   "cell_type": "code",
   "execution_count": 4,
   "metadata": {
    "collapsed": false
   },
   "outputs": [
    {
     "data": {
      "text/html": [
       "<table class=\"data-frame\"><tr><th></th><th>id</th><th>date_account_created</th><th>timestamp_first_active</th><th>date_first_booking</th><th>gender</th><th>age</th><th>signup_method</th><th>signup_flow</th><th>language</th><th>affiliate_channel</th><th>affiliate_provider</th><th>first_affiliate_tracked</th><th>signup_app</th><th>first_device_type</th><th>first_browser</th><th>country_destination</th></tr><tr><th>1</th><td>gxn3p5htnn</td><td>2010-06-28</td><td>20090319043255</td><td>NA</td><td>-unknown-</td><td>NA</td><td>facebook</td><td>0</td><td>en</td><td>direct</td><td>direct</td><td>untracked</td><td>Web</td><td>Mac Desktop</td><td>Chrome</td><td>NDF</td></tr><tr><th>2</th><td>820tgsjxq7</td><td>2011-05-25</td><td>20090523174809</td><td>NA</td><td>MALE</td><td>38.0</td><td>facebook</td><td>0</td><td>en</td><td>seo</td><td>google</td><td>untracked</td><td>Web</td><td>Mac Desktop</td><td>Chrome</td><td>NDF</td></tr><tr><th>3</th><td>4ft3gnwmtx</td><td>2010-09-28</td><td>20090609231247</td><td>2010-08-02</td><td>FEMALE</td><td>56.0</td><td>basic</td><td>3</td><td>en</td><td>direct</td><td>direct</td><td>untracked</td><td>Web</td><td>Windows Desktop</td><td>IE</td><td>US</td></tr><tr><th>4</th><td>bjjt8pjhuk</td><td>2011-12-05</td><td>20091031060129</td><td>2012-09-08</td><td>FEMALE</td><td>42.0</td><td>facebook</td><td>0</td><td>en</td><td>direct</td><td>direct</td><td>untracked</td><td>Web</td><td>Mac Desktop</td><td>Firefox</td><td>other</td></tr><tr><th>5</th><td>87mebub9p4</td><td>2010-09-14</td><td>20091208061105</td><td>2010-02-18</td><td>-unknown-</td><td>41.0</td><td>basic</td><td>0</td><td>en</td><td>direct</td><td>direct</td><td>untracked</td><td>Web</td><td>Mac Desktop</td><td>Chrome</td><td>US</td></tr><tr><th>6</th><td>osr2jwljor</td><td>2010-01-01</td><td>20100101215619</td><td>2010-01-02</td><td>-unknown-</td><td>NA</td><td>basic</td><td>0</td><td>en</td><td>other</td><td>other</td><td>omg</td><td>Web</td><td>Mac Desktop</td><td>Chrome</td><td>US</td></tr></table>"
      ],
      "text/plain": [
       "6x16 DataFrames.DataFrame\n",
       "| Row | id           | date_account_created | timestamp_first_active |\n",
       "|-----|--------------|----------------------|------------------------|\n",
       "| 1   | \"gxn3p5htnn\" | \"2010-06-28\"         | 20090319043255         |\n",
       "| 2   | \"820tgsjxq7\" | \"2011-05-25\"         | 20090523174809         |\n",
       "| 3   | \"4ft3gnwmtx\" | \"2010-09-28\"         | 20090609231247         |\n",
       "| 4   | \"bjjt8pjhuk\" | \"2011-12-05\"         | 20091031060129         |\n",
       "| 5   | \"87mebub9p4\" | \"2010-09-14\"         | 20091208061105         |\n",
       "| 6   | \"osr2jwljor\" | \"2010-01-01\"         | 20100101215619         |\n",
       "\n",
       "| Row | date_first_booking | gender      | age  | signup_method | signup_flow |\n",
       "|-----|--------------------|-------------|------|---------------|-------------|\n",
       "| 1   | NA                 | \"-unknown-\" | NA   | \"facebook\"    | 0           |\n",
       "| 2   | NA                 | \"MALE\"      | 38.0 | \"facebook\"    | 0           |\n",
       "| 3   | \"2010-08-02\"       | \"FEMALE\"    | 56.0 | \"basic\"       | 3           |\n",
       "| 4   | \"2012-09-08\"       | \"FEMALE\"    | 42.0 | \"facebook\"    | 0           |\n",
       "| 5   | \"2010-02-18\"       | \"-unknown-\" | 41.0 | \"basic\"       | 0           |\n",
       "| 6   | \"2010-01-02\"       | \"-unknown-\" | NA   | \"basic\"       | 0           |\n",
       "\n",
       "| Row | language | affiliate_channel | affiliate_provider |\n",
       "|-----|----------|-------------------|--------------------|\n",
       "| 1   | \"en\"     | \"direct\"          | \"direct\"           |\n",
       "| 2   | \"en\"     | \"seo\"             | \"google\"           |\n",
       "| 3   | \"en\"     | \"direct\"          | \"direct\"           |\n",
       "| 4   | \"en\"     | \"direct\"          | \"direct\"           |\n",
       "| 5   | \"en\"     | \"direct\"          | \"direct\"           |\n",
       "| 6   | \"en\"     | \"other\"           | \"other\"            |\n",
       "\n",
       "| Row | first_affiliate_tracked | signup_app | first_device_type |\n",
       "|-----|-------------------------|------------|-------------------|\n",
       "| 1   | \"untracked\"             | \"Web\"      | \"Mac Desktop\"     |\n",
       "| 2   | \"untracked\"             | \"Web\"      | \"Mac Desktop\"     |\n",
       "| 3   | \"untracked\"             | \"Web\"      | \"Windows Desktop\" |\n",
       "| 4   | \"untracked\"             | \"Web\"      | \"Mac Desktop\"     |\n",
       "| 5   | \"untracked\"             | \"Web\"      | \"Mac Desktop\"     |\n",
       "| 6   | \"omg\"                   | \"Web\"      | \"Mac Desktop\"     |\n",
       "\n",
       "| Row | first_browser | country_destination |\n",
       "|-----|---------------|---------------------|\n",
       "| 1   | \"Chrome\"      | \"NDF\"               |\n",
       "| 2   | \"Chrome\"      | \"NDF\"               |\n",
       "| 3   | \"IE\"          | \"US\"                |\n",
       "| 4   | \"Firefox\"     | \"other\"             |\n",
       "| 5   | \"Chrome\"      | \"US\"                |\n",
       "| 6   | \"Chrome\"      | \"US\"                |"
      ]
     },
     "execution_count": 4,
     "metadata": {},
     "output_type": "execute_result"
    },
    {
     "name": "stdout",
     "output_type": "stream",
     "text": [
      " | Name                    | Eltype     | Missing |\n",
      "|-------|-------------------------|------------|---------|\n",
      "| 1     | id                      | UTF8String | 0       |\n",
      "| 2     | date_account_created    | UTF8String | 0       |\n",
      "| 3     | timestamp_first_active  | Int64      | 0       |\n",
      "| 4     | date_first_booking      | Any        | 186639  |\n",
      "| 5     | gender                  | UTF8String | 0       |\n",
      "| 6     | age                     | Float64    | 116866  |\n",
      "| 7     | signup_method           | UTF8String | 0       |\n",
      "| 8     | signup_flow             | Int64      | 0       |\n",
      "| 9     | language                | UTF8String | 0       |\n",
      "| 10    | affiliate_channel       | UTF8String | 0       |\n",
      "| 11    | affiliate_provider      | UTF8String | 0       |\n",
      "| 12    | first_affiliate_tracked | UTF8String | 6085    |\n",
      "| 13    | signup_app              | UTF8String | 0       |\n",
      "| 14    | first_device_type       | UTF8String | 0       |\n",
      "| 15    | first_browser           | UTF8String | 0       |\n",
      "| 16    | country_destination     | UTF8String | 62096   |"
     ]
    }
   ],
   "source": [
    "head(full)"
   ]
  },
  {
   "cell_type": "markdown",
   "metadata": {},
   "source": [
    "### 3.1. Variables Categorization"
   ]
  },
  {
   "cell_type": "code",
   "execution_count": 5,
   "metadata": {
    "collapsed": true
   },
   "outputs": [],
   "source": [
    "output_var   = [:country_destination]\n",
    "\n",
    "numvar_list  = [:age]\n",
    "datevar_list = [:date_account_created, :timestamp_first_active]\n",
    "catvar_list  = [:gender, :signup_method, :signup_flow, :language, :affiliate_channel, :affiliate_provider,\n",
    "                :first_affiliate_tracked, :signup_app, :first_device_type, :first_browser];"
   ]
  },
  {
   "cell_type": "markdown",
   "metadata": {},
   "source": [
    "### 3.2. Handling Missing Values"
   ]
  },
  {
   "cell_type": "markdown",
   "metadata": {},
   "source": [
    "#### Collect Most Frequent Values and Define as Default"
   ]
  },
  {
   "cell_type": "code",
   "execution_count": 6,
   "metadata": {
    "collapsed": false
   },
   "outputs": [],
   "source": [
    "default_age_value = median(dropna(full[:age]))\n",
    "deafult_first_affiliate_tracked = mode(dropna(full[:first_affiliate_tracked]));"
   ]
  },
  {
   "cell_type": "code",
   "execution_count": 7,
   "metadata": {
    "collapsed": false
   },
   "outputs": [
    {
     "data": {
      "text/plain": [
       "apply_default! (generic function with 1 method)"
      ]
     },
     "execution_count": 7,
     "metadata": {},
     "output_type": "execute_result"
    }
   ],
   "source": [
    "apply_default!(df, column, default_value) = df[isna(df[column]), column] = default_value"
   ]
  },
  {
   "cell_type": "code",
   "execution_count": 8,
   "metadata": {
    "collapsed": false
   },
   "outputs": [],
   "source": [
    "apply_default!(train, :age, default_age_value)\n",
    "apply_default!(test, :age, default_age_value)\n",
    "apply_default!(full, :age, default_age_value)\n",
    "\n",
    "train[train[:age] .> 100, :age] = default_age_value\n",
    "train[train[:age] .< 18, :age]  = default_age_value\n",
    "\n",
    "test[test[:age] .> 100, :age]   = default_age_value\n",
    "test[test[:age] .< 18, :age]    = default_age_value\n",
    "\n",
    "full[full[:age] .> 100, :age]   = default_age_value\n",
    "full[full[:age] .< 18, :age]    = default_age_value\n",
    "\n",
    "apply_default!(train, :first_affiliate_tracked, deafult_first_affiliate_tracked)\n",
    "apply_default!(test, :first_affiliate_tracked, deafult_first_affiliate_tracked)\n",
    "apply_default!(full, :first_affiliate_tracked, deafult_first_affiliate_tracked);"
   ]
  },
  {
   "cell_type": "code",
   "execution_count": 9,
   "metadata": {
    "collapsed": false
   },
   "outputs": [
    {
     "name": "stdout",
     "output_type": "stream",
     "text": [
      "275547x16 DataFrames.DataFrame\n"
     ]
    }
   ],
   "source": [
    "showcols(full)"
   ]
  },
  {
   "cell_type": "markdown",
   "metadata": {},
   "source": [
    "## 4. Feature Extraction I: Initial Extraction"
   ]
  },
  {
   "cell_type": "markdown",
   "metadata": {},
   "source": [
    "### 4.0. Auxiliary Methods"
   ]
  },
  {
   "cell_type": "code",
   "execution_count": 10,
   "metadata": {
    "collapsed": false
   },
   "outputs": [
    {
     "data": {
      "text/plain": [
       "binarize_features! (generic function with 1 method)"
      ]
     },
     "execution_count": 10,
     "metadata": {},
     "output_type": "execute_result"
    }
   ],
   "source": [
    "# Feature Extraction\n",
    "function generate_feature_extraction(df, column, extraction_function)\n",
    "    array = Array[extraction_function(df[i, column]) for i=1:size(df, 1)]\n",
    "    nrows, ncols = size(array, 1), size(array[1], 1)\n",
    "    return reshape(vcat(array'...), nrows, ncols)\n",
    "end\n",
    "\n",
    "function arrays_to_matrix(array)\n",
    "    nrows, ncols = size(array, 1), size(array[1], 1)\n",
    "    return reshape(vcat(array'...), nrows, ncols)\n",
    "end\n",
    "\n",
    "function apply_feature_extraction!(df, feature_names, feature_suffix, feature_matrix)\n",
    "    for i=1:length(feature_names)\n",
    "        df[symbol(\"$(feature_names[i])_$feature_suffix\")] = feature_matrix[:, i]\n",
    "    end\n",
    "end\n",
    "\n",
    "# Feature Encoders\n",
    "generate_feature_encoders(df, columns) = Dict([ column => labelmap(dropna(df[column])) for column in columns ])\n",
    "apply_feature_encoder!(df, column, encoders) = df[column] = labelencode(encoders[column], df[column])\n",
    "function apply_feature_encoders!(df, feature_list, encoders)\n",
    "    for column in feature_list\n",
    "        apply_feature_encoder!(df, column, encoders)\n",
    "    end\n",
    "end\n",
    "\n",
    "# Binarize Features\n",
    "function binarize_feature!(df, column, encoders)\n",
    "    !haskey(encoders, column) && error(\"Feature $column was not encoded.\")\n",
    "    \n",
    "    nrows, ncols = size(df, 1), length(keys(encoders[column]))\n",
    "    feature_matrix = fill(0, nrows, ncols)\n",
    "    for i=1:nrows\n",
    "        feature_matrix[i, df[i, column]] = 1\n",
    "    end\n",
    "    \n",
    "    feature_names = [ symbol(\"$column=$value\") for value in keys(encoders[column]) ]\n",
    "    for i=1:length(feature_names)\n",
    "        df[feature_names[i]] = feature_matrix[:, i]\n",
    "    end\n",
    "end\n",
    "\n",
    "function binarize_features!(df, feature_list, encoders)\n",
    "    for column in feature_list\n",
    "        binarize_feature!(df, column, encoders)\n",
    "    end\n",
    "end"
   ]
  },
  {
   "cell_type": "markdown",
   "metadata": {},
   "source": [
    "### 4.1. Date Account Created"
   ]
  },
  {
   "cell_type": "code",
   "execution_count": 11,
   "metadata": {
    "collapsed": false
   },
   "outputs": [
    {
     "data": {
      "text/plain": [
       "extract_date_features (generic function with 1 method)"
      ]
     },
     "execution_count": 11,
     "metadata": {},
     "output_type": "execute_result"
    }
   ],
   "source": [
    "date_features_names = [:is_sunday, :is_monday, :is_tuesday, :is_wednesday, :is_thursday, \n",
    "                       :is_friday, :is_saturday, :is_weekday, :is_weekend, :is_middle_week,\n",
    "                       :is_january, :is_february, :is_march, :is_april, :is_may, :is_june,\n",
    "                       :is_july, :is_august, :is_september, :is_october, :is_november, \n",
    "                       :is_december, :is_first_quarter_year, :is_second_quarter_year, \n",
    "                       :is_third_quarter_year, :is_forth_quarter_year, :is_first_trimester_year, \n",
    "                       :is_second_trimester_year, :is_third_trimester_year, :is_first_half_year, \n",
    "                       :is_second_half_year]\n",
    "\n",
    "function extract_date_features(string_date)\n",
    "    \n",
    "    date = Date(string_date)\n",
    "    \n",
    "    dayofweek       = Dates.dayofweek(date)    \n",
    "    is_sunday       = Dates.Sunday == dayofweek? 1 : 0\n",
    "    is_monday       = Dates.Monday == dayofweek? 1 : 0\n",
    "    is_tuesday      = Dates.Tuesday == dayofweek? 1 : 0\n",
    "    is_wednesday    = Dates.Wednesday == dayofweek? 1 : 0\n",
    "    is_thursday     = Dates.Thursday == dayofweek? 1 : 0\n",
    "    is_friday       = Dates.Friday == dayofweek? 1 : 0\n",
    "    is_saturday     = Dates.Saturday == dayofweek? 1 : 0\n",
    "    is_weekday      = Dates.Monday <= dayofweek <= Dates.Friday? 1 : 0\n",
    "    is_weekend      = Dates.Saturday <= dayofweek <= Dates.Sunday? 1 : 0\n",
    "    is_middle_week  = Dates.Tuesday <= dayofweek <= Dates.Thursday? 1 : 0\n",
    "    \n",
    "    month = Dates.month(date)\n",
    "    is_january               = Dates.January == month? 1 : 0\n",
    "    is_february              = Dates.February == month? 1 : 0\n",
    "    is_march                 = Dates.March == month? 1 : 0\n",
    "    is_april                 = Dates.April == month? 1 : 0\n",
    "    is_may                   = Dates.May == month? 1 : 0\n",
    "    is_june                  = Dates.June == month? 1 : 0\n",
    "    is_july                  = Dates.July == month? 1 : 0\n",
    "    is_august                = Dates.August == month? 1 : 0\n",
    "    is_september             = Dates.September == month? 1 : 0\n",
    "    is_october               = Dates.October == month? 1 : 0\n",
    "    is_november              = Dates.November == month? 1 : 0\n",
    "    is_december              = Dates.December == month? 1 : 0\n",
    "    is_first_quarter_year    = month < 4? 1 : 0\n",
    "    is_second_quarter_year   = 4 <= month < 7? 1 : 0\n",
    "    is_third_quarter_year    = 7 <= month < 10? 1 : 0\n",
    "    is_forth_quarter_year    = month >= 10? 1 : 0\n",
    "    is_first_trimester_year  = month <= 4? 1 : 0\n",
    "    is_second_trimester_year = 4 < month <= 8? 1 : 0\n",
    "    is_third_trimester_year  = month > 8? 1 : 0\n",
    "    is_first_half_year       = month <= 6? 1 : 0\n",
    "    is_second_half_year      = month > 6? 1 : 0\n",
    "    \n",
    "    return [is_sunday, is_monday, is_tuesday, is_wednesday, is_thursday, \n",
    "            is_friday, is_saturday, is_weekday, is_weekend, is_middle_week,\n",
    "            is_january, is_february, is_march, is_april, is_may, is_june,\n",
    "            is_july, is_august, is_september, is_october, is_november, \n",
    "            is_december, is_first_quarter_year, is_second_quarter_year, \n",
    "            is_third_quarter_year, is_forth_quarter_year, is_first_trimester_year, \n",
    "            is_second_trimester_year, is_third_trimester_year, is_first_half_year, \n",
    "            is_second_half_year]\n",
    "end"
   ]
  },
  {
   "cell_type": "code",
   "execution_count": 12,
   "metadata": {
    "collapsed": false
   },
   "outputs": [
    {
     "data": {
      "text/plain": [
       "extract_date_account_created_features! (generic function with 1 method)"
      ]
     },
     "execution_count": 12,
     "metadata": {},
     "output_type": "execute_result"
    }
   ],
   "source": [
    "function extract_date_account_created_features!(df)\n",
    "    var = :date_account_created\n",
    "    feature_matrix = generate_feature_extraction(df, var, extract_date_features)\n",
    "    apply_feature_extraction!(df, date_features_names, var, feature_matrix)\n",
    "    \n",
    "    return df\n",
    "end"
   ]
  },
  {
   "cell_type": "code",
   "execution_count": 13,
   "metadata": {
    "collapsed": false
   },
   "outputs": [],
   "source": [
    "extract_date_account_created_features!(train)\n",
    "extract_date_account_created_features!(test);"
   ]
  },
  {
   "cell_type": "markdown",
   "metadata": {},
   "source": [
    "### 4.2. Timestamp First Active"
   ]
  },
  {
   "cell_type": "code",
   "execution_count": 14,
   "metadata": {
    "collapsed": false
   },
   "outputs": [
    {
     "name": "stdout",
     "output_type": "stream",
     "text": [
      "| Col # | Name                    | Eltype     | Missing |\n",
      "|-------|-------------------------|------------|---------|\n",
      "| 1     | id                      | UTF8String | 0       |\n",
      "| 2     | date_account_created    | UTF8String | 0       |\n",
      "| 3     | timestamp_first_active  | Int64      | 0       |\n",
      "| 4     | date_first_booking      | Any        | 186639  |\n",
      "| 5     | gender                  | UTF8String | 0       |\n",
      "| 6     | age                     | Float64    | 0       |\n",
      "| 7     | signup_method           | UTF8String | 0       |\n",
      "| 8     | signup_flow             | Int64      | 0       |\n",
      "| 9     | language                | UTF8String | 0       |\n",
      "| 10    | affiliate_channel       | UTF8String | 0       |\n",
      "| 11    | affiliate_provider      | UTF8String | 0       |\n",
      "| 12    | first_affiliate_tracked | UTF8String | 0       |\n",
      "| 13    | signup_app              | UTF8String | 0       |\n",
      "| 14    | first_device_type       | UTF8String | 0       |\n",
      "| 15    | first_browser           | UTF8String | 0       |\n",
      "| 16    | country_destination     | UTF8String | 62096   |"
     ]
    },
    {
     "data": {
      "text/plain": [
       "split_timestamp_in_date_and_time! (generic function with 1 method)"
      ]
     },
     "execution_count": 14,
     "metadata": {},
     "output_type": "execute_result"
    }
   ],
   "source": [
    "hour_feature_names = [:is_morning, :is_afternoon, :is_evenning, :is_night, :is_late_night, \n",
    "                      :is_midday, :is_launch_time, :is_end_work_day]\n",
    "\n",
    "function extract_time_features(string_time_hhmmss)\n",
    "    hour = parse(Int, string_time_hhmmss[1:2])\n",
    "    is_morning = 6 <= hour < 12? 1 : 0\n",
    "    is_afternoon = 13 <= hour < 18? 1 : 0\n",
    "    is_evenning = 18 <= hour < 20? 1 : 0\n",
    "    is_night = 20 <= hour <= 22? 1 : 0\n",
    "    is_late_night = 22 < hour <= 24 || 0 <= hour < 6? 1: 0\n",
    "    is_midday = 12 <= hour < 13? 1 : 0\n",
    "    is_launch_time = 11 <= hour <= 14? 1 : 0\n",
    "    is_end_work_day = 17 <= hour <= 19? 1 : 0\n",
    "    \n",
    "    return [is_morning, is_afternoon, is_evenning, is_night, is_late_night, \n",
    "            is_midday, is_launch_time, is_end_work_day]\n",
    "end\n",
    "\n",
    "function split_timestamp_in_date_and_time!(df, original_column, column_date_name, column_time_name)\n",
    "    data_format = Dates.DateFormat(\"yyyymmddHHMMSS\")\n",
    "    df[column_date_name] = [string(DateTime(string(df[i, original_column]), data_format))[1:10] for i=1:size(df, 1)]\n",
    "    df[column_time_name] = [string(DateTime(string(df[i, original_column]), data_format))[12:end] for i=1:size(df, 1)]\n",
    "    return df\n",
    "end"
   ]
  },
  {
   "cell_type": "code",
   "execution_count": 15,
   "metadata": {
    "collapsed": false
   },
   "outputs": [
    {
     "data": {
      "text/plain": [
       "extract_timestamp_first_active_features! (generic function with 1 method)"
      ]
     },
     "execution_count": 15,
     "metadata": {},
     "output_type": "execute_result"
    }
   ],
   "source": [
    "function extract_timestamp_first_active_features!(df)\n",
    "    var = :timestamp_first_active\n",
    "    var_1 = :timestamp_first_active_date\n",
    "    var_2 = :timestamp_first_active_time\n",
    "    \n",
    "    split_timestamp_in_date_and_time!(df, var, var_1, var_2)\n",
    "\n",
    "    feature_matrix = generate_feature_extraction(df, var_1, extract_date_features)\n",
    "    apply_feature_extraction!(df, date_features_names, var_1, feature_matrix)\n",
    "\n",
    "    feature_matrix = generate_feature_extraction(df, var_2, extract_time_features)\n",
    "    apply_feature_extraction!(df, hour_feature_names, var_2, feature_matrix)\n",
    "    \n",
    "    return df\n",
    "end"
   ]
  },
  {
   "cell_type": "code",
   "execution_count": 16,
   "metadata": {
    "collapsed": false
   },
   "outputs": [],
   "source": [
    "extract_timestamp_first_active_features!(train)\n",
    "extract_timestamp_first_active_features!(test);"
   ]
  },
  {
   "cell_type": "markdown",
   "metadata": {},
   "source": [
    "### 4.3. Age"
   ]
  },
  {
   "cell_type": "code",
   "execution_count": 17,
   "metadata": {
    "collapsed": false
   },
   "outputs": [
    {
     "data": {
      "text/plain": [
       "extract_age_features (generic function with 1 method)"
      ]
     },
     "execution_count": 17,
     "metadata": {},
     "output_type": "execute_result"
    }
   ],
   "source": [
    "age_feature_names = [:is_age_under_25, :is_age_between_25_34, :is_age_between_35_44, \n",
    "                     :is_age_between_45_54, :is_age_between_55_64, :is_age_above_64,\n",
    "                     :is_young_adult, :is_old_adult]\n",
    "\n",
    "function extract_age_features(age)\n",
    "    \n",
    "    is_age_under_25      = age < 25? 1 : 0\n",
    "    is_age_between_25_34 = 25 <= age < 35? 1 : 0\n",
    "    is_age_between_35_44 = 35 <= age < 45? 1 : 0\n",
    "    is_age_between_45_54 = 45 <= age < 55? 1 : 0\n",
    "    is_age_between_55_64 = 55 <= age < 65? 1 : 0\n",
    "    is_age_above_64      = age >= 65? 1 : 0\n",
    "    \n",
    "    is_young_adult       = 25 <= age < 45? 1 : 0\n",
    "    is_old_adult         = 45 <= age < 65? 1 : 0\n",
    "    \n",
    "    return [is_age_under_25, is_age_between_25_34, is_age_between_35_44, \n",
    "            is_age_between_45_54, is_age_between_55_64, is_age_above_64,\n",
    "            is_young_adult, is_old_adult]\n",
    "end"
   ]
  },
  {
   "cell_type": "code",
   "execution_count": 18,
   "metadata": {
    "collapsed": false
   },
   "outputs": [
    {
     "data": {
      "text/plain": [
       "extract_age_features! (generic function with 1 method)"
      ]
     },
     "execution_count": 18,
     "metadata": {},
     "output_type": "execute_result"
    }
   ],
   "source": [
    "function extract_age_features!(df)\n",
    "    \n",
    "    feature_matrix = generate_feature_extraction(df, :age, extract_age_features)\n",
    "    apply_feature_extraction!(df, age_feature_names, :age, feature_matrix)\n",
    "    \n",
    "    return df\n",
    "end"
   ]
  },
  {
   "cell_type": "code",
   "execution_count": 19,
   "metadata": {
    "collapsed": false
   },
   "outputs": [],
   "source": [
    "extract_age_features!(train)\n",
    "extract_age_features!(test);"
   ]
  },
  {
   "cell_type": "markdown",
   "metadata": {},
   "source": [
    "### 4.4. Binarize Categorical Features"
   ]
  },
  {
   "cell_type": "code",
   "execution_count": 20,
   "metadata": {
    "collapsed": false
   },
   "outputs": [],
   "source": [
    "encoders = generate_feature_encoders(full, vcat(catvar_list, output_var));"
   ]
  },
  {
   "cell_type": "code",
   "execution_count": 21,
   "metadata": {
    "collapsed": false
   },
   "outputs": [],
   "source": [
    "apply_feature_encoders!(train, vcat(catvar_list, output_var), encoders)\n",
    "apply_feature_encoders!(test, catvar_list, encoders);"
   ]
  },
  {
   "cell_type": "code",
   "execution_count": 22,
   "metadata": {
    "collapsed": false
   },
   "outputs": [],
   "source": [
    "binarize_features!(train, catvar_list, encoders)\n",
    "binarize_features!(test, catvar_list, encoders);"
   ]
  },
  {
   "cell_type": "markdown",
   "metadata": {},
   "source": [
    "### 4.5. People Demographic Features"
   ]
  },
  {
   "cell_type": "code",
   "execution_count": 23,
   "metadata": {
    "collapsed": false
   },
   "outputs": [
    {
     "data": {
      "text/plain": [
       "add_people_statistics_features! (generic function with 1 method)"
      ]
     },
     "execution_count": 23,
     "metadata": {},
     "output_type": "execute_result"
    }
   ],
   "source": [
    "function age_bucket2age(age_bucket)\n",
    "    if age_bucket == \"100+\" || startswith(age_bucket, \"9\") || startswith(age_bucket, \"8\") ||\n",
    "       startswith(age_bucket, \"7\") || startswith(age_bucket, \"65\")\n",
    "        return 5\n",
    "    elseif startswith(age_bucket, \"60\") || startswith(age_bucket, \"55\")\n",
    "        return 4\n",
    "    elseif startswith(age_bucket, \"50\") || startswith(age_bucket, \"45\")\n",
    "        return 3\n",
    "    elseif startswith(age_bucket, \"40\") || startswith(age_bucket, \"35\")\n",
    "        return 2\n",
    "    elseif startswith(age_bucket, \"30\") || startswith(age_bucket, \"25\")\n",
    "        return 1\n",
    "    else\n",
    "        return 0\n",
    "    end\n",
    "end\n",
    "\n",
    "function age2encoded_age(age)\n",
    "    age < 25 && return 0\n",
    "    25 <= age < 35 && return 1\n",
    "    35 <= age < 45 && return 2\n",
    "    45 <= age < 55 && return 3\n",
    "    55 <= age < 65 && return 4\n",
    "    age >= 65 && return 5\n",
    "end\n",
    "    \n",
    "function get_people_statistics(people_demograph)\n",
    "    people_demograph[:age] = [string(age_bucket2age(age)) for age in people_demograph[:age_bucket]]\n",
    "    data = Dict()\n",
    "    \n",
    "    for i=1:size(people_demograph, 1)\n",
    "        key = string(people_demograph[i, :age], people_demograph[i, :gender])\n",
    "        country = people_demograph[i, :country_destination]\n",
    "        population = people_demograph[i, :population_in_thousands] \n",
    "        \n",
    "        !haskey(data, key) && (data[key] = Dict())\n",
    "        !haskey(data[key], country) && (data[key][country] = 0)\n",
    "        data[key][country] += population\n",
    "    end\n",
    "    \n",
    "    for key in keys(data)\n",
    "        total_value = sum(values(data[key]))\n",
    "        for subkey in keys(data[key])\n",
    "            data[key][subkey] /= total_value\n",
    "        end\n",
    "    end\n",
    "    \n",
    "    delete!(people_demograph, :age)\n",
    "    \n",
    "    return data\n",
    "end\n",
    "\n",
    "function add_people_statistics_features!(df, people_stats)\n",
    "    gender_values = keys(encoders[:gender])\n",
    "    N_FEATURES = 80\n",
    "    features = fill(0.0, size(df, 1), N_FEATURES)\n",
    "    for i=1:size(df, 1)\n",
    "        age = string(age2encoded_age(df[i, :age]))\n",
    "        gender = lowercase(string(gender_values[df[i, :gender]]))\n",
    "        if haskey(people_stats, string(age, gender))\n",
    "            countries_population = collect(values(people_stats[string(age, gender)]))\n",
    "            append!(countries_population, [Int(v > .10) for v in countries_population])\n",
    "            append!(countries_population, [Int(v > .15) for v in countries_population])\n",
    "            append!(countries_population, [Int(v > .20) for v in countries_population])\n",
    "            features[i, :] = countries_population\n",
    "        else\n",
    "            features[i, :] = fill(0, N_FEATURES)\n",
    "        end\n",
    "    end\n",
    "    \n",
    "    feature_names = [symbol(:pstats, \"_\", i) for i=1:N_FEATURES]\n",
    "    apply_feature_extraction!(df, feature_names, \"\", features)\n",
    "    \n",
    "    return df\n",
    "end"
   ]
  },
  {
   "cell_type": "code",
   "execution_count": 24,
   "metadata": {
    "collapsed": false
   },
   "outputs": [],
   "source": [
    "people_stats = get_people_statistics(people_demograph);"
   ]
  },
  {
   "cell_type": "code",
   "execution_count": 25,
   "metadata": {
    "collapsed": false
   },
   "outputs": [],
   "source": [
    "add_people_statistics_features!(train, people_stats)\n",
    "add_people_statistics_features!(test, people_stats);"
   ]
  },
  {
   "cell_type": "markdown",
   "metadata": {},
   "source": [
    "### 4.6. Add Top Countries Statistics"
   ]
  },
  {
   "cell_type": "code",
   "execution_count": 26,
   "metadata": {
    "collapsed": false
   },
   "outputs": [],
   "source": [
    "country_distance = Dict([countries_demograph[i, :country_destination] => countries_demograph[i, :distance_km] for i=1:size(countries_demograph, 1)])\n",
    "country_language = Dict([countries_demograph[i, :country_destination] => countries_demograph[i, :destination_language][1:2] for i=1:size(countries_demograph, 1)]);\n",
    "country_language_levenshtein_distance = Dict([countries_demograph[i, :country_destination] => countries_demograph[i, :language_levenshtein_distance] for i=1:size(countries_demograph, 1)]);\n",
    "country_language[\"ES\"] = \"es\"\n",
    "country_language[\"PT\"] = \"pt\";"
   ]
  },
  {
   "cell_type": "code",
   "execution_count": 27,
   "metadata": {
    "collapsed": false
   },
   "outputs": [
    {
     "data": {
      "text/plain": [
       "add_top5_country_stats! (generic function with 1 method)"
      ]
     },
     "execution_count": 27,
     "metadata": {},
     "output_type": "execute_result"
    }
   ],
   "source": [
    "function add_top5_country_stats!(df, people_stats, country_distance, country_language)\n",
    "    gender_values = keys(encoders[:gender])\n",
    "    countries_values = keys(encoders[:country_destination])\n",
    "    language_values = keys(encoders[:language])\n",
    "    N_FEATURES = 15\n",
    "    N_TOP = 5\n",
    "    features = fill(0.0, size(df, 1), N_FEATURES)\n",
    "    for i=1:size(df, 1)\n",
    "        age = string(age2encoded_age(df[i, :age]))\n",
    "        gender = lowercase(string(gender_values[df[i, :gender]]))\n",
    "        \n",
    "        !haskey(people_stats, age*gender) && continue\n",
    "        \n",
    "        sorted_countries = sort(collect(people_stats[age*gender]), by= x-> last(x), rev=true)\n",
    "        top_countries = [first(c) for c in sorted_countries[1:N_TOP]]\n",
    "        top_distances = [country_distance[c] for c in top_countries]\n",
    "        top_language_levenshtein_distance = [country_language_levenshtein_distance[c] for c in top_countries]\n",
    "        top_languages = [find(country_language[c] .== language_values)[1] for c in top_countries]\n",
    "        top_encoded_countries = [find(c .== countries_values)[1] for c in top_countries]\n",
    "        features[i, :] =  vcat(top_encoded_countries, top_distances, top_languages)\n",
    "    end\n",
    "    \n",
    "    feature_names = [symbol(:cstats, \"_\", i) for i=1:N_FEATURES]\n",
    "    apply_feature_extraction!(df, feature_names, \"\", features)\n",
    "    \n",
    "    return df\n",
    "end"
   ]
  },
  {
   "cell_type": "code",
   "execution_count": 28,
   "metadata": {
    "collapsed": false
   },
   "outputs": [],
   "source": [
    "add_top5_country_stats!(train, people_stats, country_distance, country_language)\n",
    "add_top5_country_stats!(test, people_stats, country_distance, country_language);"
   ]
  },
  {
   "cell_type": "markdown",
   "metadata": {},
   "source": [
    "### 4.7. Add Sessions Statistics"
   ]
  },
  {
   "cell_type": "code",
   "execution_count": null,
   "metadata": {
    "collapsed": true
   },
   "outputs": [],
   "source": [
    "user_actions = Set(dropna(user_sessions[:action]))\n",
    "user_action_types = Set(dropna(user_sessions[:action_type]))\n",
    "user_action_details = Set(dropna(user_sessions[:action_detail]))"
   ]
  },
  {
   "cell_type": "markdown",
   "metadata": {},
   "source": [
    "### 4.. Delete Unused Features"
   ]
  },
  {
   "cell_type": "code",
   "execution_count": 31,
   "metadata": {
    "collapsed": false
   },
   "outputs": [
    {
     "data": {
      "text/plain": [
       "delete_unused_features! (generic function with 1 method)"
      ]
     },
     "execution_count": 31,
     "metadata": {},
     "output_type": "execute_result"
    }
   ],
   "source": [
    "features_to_remove_list = vcat([:date_first_booking, :date_account_created, :timestamp_first_active, \n",
    "                                :timestamp_first_active_date, :timestamp_first_active_time], \n",
    "                                catvar_list)\n",
    "\n",
    "function delete_unused_features!(df, feature_list)\n",
    "    for column in feature_list\n",
    "        haskey(df, column) && delete!(df, column)\n",
    "    end\n",
    "end"
   ]
  },
  {
   "cell_type": "code",
   "execution_count": 32,
   "metadata": {
    "collapsed": true
   },
   "outputs": [],
   "source": [
    "delete_unused_features!(train, features_to_remove_list)\n",
    "delete_unused_features!(test, features_to_remove_list);"
   ]
  },
  {
   "cell_type": "markdown",
   "metadata": {},
   "source": [
    "## 5. Export Remodeled Dataset"
   ]
  },
  {
   "cell_type": "code",
   "execution_count": 33,
   "metadata": {
    "collapsed": true
   },
   "outputs": [],
   "source": [
    "writetable(\"data/train_v2.tsv\", train, separator='\\t')\n",
    "writetable(\"data/test_v2.tsv\", test, separator='\\t')\n",
    "writetable(\"data/full_v1.tsv\", vcat(train, test), separator='\\t');"
   ]
  }
 ],
 "metadata": {
  "kernelspec": {
   "display_name": "Julia 0.4.1-pre",
   "language": "julia",
   "name": "julia-0.4"
  },
  "language_info": {
   "file_extension": ".jl",
   "mimetype": "application/julia",
   "name": "julia",
   "version": "0.4.1"
  }
 },
 "nbformat": 4,
 "nbformat_minor": 0
}
