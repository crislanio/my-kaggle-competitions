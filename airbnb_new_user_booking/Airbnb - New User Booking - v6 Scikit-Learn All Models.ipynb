{
 "cells": [
  {
   "cell_type": "markdown",
   "metadata": {},
   "source": [
    "<div>\n",
    "<div style=\"text-align:center; display:block; float:left; padding:80px;\"><img width=\"200px\"  src=\"https://kaggle2.blob.core.windows.net/competitions/kaggle/4651/logos/front_page.png\"/><span style=\"color:red;\">**New User Booking**</span></div>\n",
    "<div style=\"\">\n",
    "**Objective:** In this recruiting competition, Airbnb challenges you to predict in which country a new user will make his or her first booking.  \n",
    "  \n",
    "** Description: ** In this challenge, you are given a list of users along with their demographics, web session records, and some summary statistics. You are asked to predict which country a new user's first booking destination will be. All the users in this dataset are from the USA.\n",
    "</div>\n",
    "<img src=\"https://kaggle2.blob.core.windows.net/competitions/kaggle/4651/media/airbnb_banner.png\" />\n",
    "\n",
    "Author: [Oliveira, D. M.](http://br.linkedin.com/in/dmoliveira)\n",
    "\n",
    "## <span style=\"color:blue\">Airbnb - New User Booking - v6 Scikit-Learn All Models\n",
    "Research source: http://scikit-learn.org/stable/"
   ]
  },
  {
   "cell_type": "markdown",
   "metadata": {},
   "source": [
    "## Import Packages"
   ]
  },
  {
   "cell_type": "code",
   "execution_count": null,
   "metadata": {
    "collapsed": false
   },
   "outputs": [],
   "source": [
    "using DataFrames\n",
    "using MLBase\n",
    "using Gadfly\n",
    "using PyCall"
   ]
  },
  {
   "cell_type": "code",
   "execution_count": null,
   "metadata": {
    "collapsed": false
   },
   "outputs": [],
   "source": [
    "@pyimport sklearn.linear_model as lm\n",
    "@pyimport sklearn.svm as svm\n",
    "@pyimport sklearn.neighbors as knn\n",
    "@pyimport sklearn.naive_bayes as naive_bayes\n",
    "@pyimport sklearn.tree as tree\n",
    "@pyimport sklearn.ensemble as ensemble"
   ]
  },
  {
   "cell_type": "markdown",
   "metadata": {},
   "source": [
    "## Load Data"
   ]
  },
  {
   "cell_type": "code",
   "execution_count": null,
   "metadata": {
    "collapsed": true
   },
   "outputs": [],
   "source": [
    "train = readtable(\"data/train_v2.tsv\", separator='\\t')\n",
    "test  = readtable(\"data/test_v2.tsv\", separator='\\t')\n",
    "full = vcat(train, test);"
   ]
  },
  {
   "cell_type": "code",
   "execution_count": null,
   "metadata": {
    "collapsed": true
   },
   "outputs": [],
   "source": [
    "label    = :country_destination\n",
    "features = setdiff(names(test), [:id]);"
   ]
  },
  {
   "cell_type": "markdown",
   "metadata": {},
   "source": [
    "## Prepare Data"
   ]
  },
  {
   "cell_type": "code",
   "execution_count": null,
   "metadata": {
    "collapsed": false
   },
   "outputs": [],
   "source": [
    "function split_train_val(df; train_size=.85, random_state=1)\n",
    "    \n",
    "    srand(random_state)\n",
    "    \n",
    "    nrows, ntraining_rows = size(df, 1), round(Int, size(df, 1) * train_size)\n",
    "    indexes               = shuffle(collect(1:nrows))\n",
    "    train                 = df[indexes[1:ntraining_rows], :]\n",
    "    validation            = df[indexes[ntraining_rows+1:end], :]\n",
    "    \n",
    "    return train, validation\n",
    "end"
   ]
  },
  {
   "cell_type": "code",
   "execution_count": null,
   "metadata": {
    "collapsed": true
   },
   "outputs": [],
   "source": [
    "train[label]  -= 1\n",
    "X_train, X_val = split_train_val(train, train_size=.85, random_state=1)\n",
    "\n",
    "train_x = Array{Float64,2}(X_train[:, features])\n",
    "train_y = Array{Float64,1}(X_train[label])\n",
    "val_x   = Array{Float64,2}(X_val[:, features])\n",
    "val_y   = Array{Float64,1}(X_val[label])\n",
    "test_x  = Array{Float64,2}(test[:, features]);"
   ]
  },
  {
   "cell_type": "code",
   "execution_count": null,
   "metadata": {
    "collapsed": false
   },
   "outputs": [],
   "source": [
    "nrows, ncols = size(train_x);"
   ]
  },
  {
   "cell_type": "markdown",
   "metadata": {},
   "source": [
    "## Prepare Training Models"
   ]
  },
  {
   "cell_type": "code",
   "execution_count": null,
   "metadata": {
    "collapsed": false
   },
   "outputs": [],
   "source": [
    "fit(model, X, y) = model[:fit](X[1:end,:], y[1:end])"
   ]
  },
  {
   "cell_type": "code",
   "execution_count": null,
   "metadata": {
    "collapsed": false
   },
   "outputs": [],
   "source": [
    "function create_bagging_model(base_model)\n",
    "    return ensemble.BaggingClassifier(\n",
    "        base_model, max_samples=0.5, max_features=0.5, \n",
    "        random_state=0, n_jobs=-1)\n",
    "end\n",
    "\n",
    "function create_ada_boost_model(base_model)\n",
    "    return ensemble.AdaBoostClassifier(\n",
    "        base_model, n_estimators=10, random_state=0,\n",
    "    algorithm=\"SAMME\")\n",
    "end"
   ]
  },
  {
   "cell_type": "code",
   "execution_count": null,
   "metadata": {
    "collapsed": false
   },
   "outputs": [],
   "source": [
    "regressor_models = Dict(\n",
    "    :OLS                => lm.LinearRegression(),\n",
    "    :Ridge              => lm.Ridge(alpha=.5), \n",
    "    :Lasso              => lm.Lasso(alpha=.5), \n",
    "    :ElasticNet         => lm.ElasticNet(alpha=.5, l1_ratio=0.5), \n",
    "    :LARS               => lm.Lars(), \n",
    "    :LassoLARS          => lm.LassoLars(alpha=1),\n",
    "    :BayesianRidge      => lm.BayesianRidge(),\n",
    "    :Perceptron         => lm.Perceptron(penalty=\"elasticnet\", alpha=.5)\n",
    ")\n",
    "class_models = Dict(\n",
    "    :LogisticRegression => lm.LogisticRegression(),\n",
    "    :SGDClassifier      => lm.SGDClassifier(alpha=.5),\n",
    "    :PassiveAggressiveClassifier => lm.PassiveAggressiveClassifier(),\n",
    "    :SVMClassifier      => svm.SVC(),\n",
    "    :kNN                => knn.KNeighborsClassifier(n_neighbors=5, algorithm=\"ball_tree\"),\n",
    "    :NaiveBayes         => naive_bayes.GaussianNB(),\n",
    "    :DecisionTree       => tree.DecisionTreeClassifier(),\n",
    "    :ExtremyTree        => tree.ExtraTreeClassifier())\n",
    "\n",
    "ensemble_models = Dict(\n",
    "    :RandomForest => ensemble.RandomForestClassifier(n_estimators=10, max_depth=6, random_state=0),\n",
    "    :ExtraTrees   => ensemble.ExtraTreesClassifier(n_estimators=10, max_depth=6, random_state=0),\n",
    "    :GradientBoostingTrees => ensemble.GradientBoostingClassifier(n_estimators=10, learning_rate=0.5, \n",
    "                                                                   random_state=0))\n",
    "\n",
    "bagging_models = Dict([symbol(:Bagging_, key) => create_bagging_model(class_models[key]) \n",
    "                       for key in [:SGDClassifier, :SVMClassifier, :DecisionTree, :ExtremyTree]])\n",
    "\n",
    "boosting_models = Dict([symbol(:Boosting_, key) => create_ada_boost_model(class_models[key])\n",
    "                        for key in [:SGDClassifier, :SVMClassifier, :DecisionTree, :ExtremyTree]])\n",
    "\n",
    "all_models = merge(class_models, bagging_models, boosting_models);"
   ]
  },
  {
   "cell_type": "markdown",
   "metadata": {},
   "source": [
    "## Train"
   ]
  },
  {
   "cell_type": "code",
   "execution_count": null,
   "metadata": {
    "collapsed": false
   },
   "outputs": [],
   "source": [
    "[fit(all_models[key], train_x, train_y) for key in keys(all_models)];"
   ]
  },
  {
   "cell_type": "markdown",
   "metadata": {},
   "source": [
    "## Evaluate"
   ]
  },
  {
   "cell_type": "code",
   "execution_count": null,
   "metadata": {
    "collapsed": false
   },
   "outputs": [],
   "source": [
    "eval_rmse(y, yhats) = round(sqrt(sum((y - yhats) .^ 2)/length(y)), 4)\n",
    "eval_precision(y, yhats) = round(sum(Array{Int,1}(y .== yhats))/length(y), 4)"
   ]
  },
  {
   "cell_type": "code",
   "execution_count": null,
   "metadata": {
    "collapsed": false
   },
   "outputs": [],
   "source": [
    "yhats_train = Dict([key => all_models[key][:predict](train_x[1:end, :]) for key in keys(all_models)])\n",
    "yhats_val = Dict([key => all_models[key][:predict](val_x[1:end, :]) for key in keys(all_models)]);"
   ]
  },
  {
   "cell_type": "code",
   "execution_count": null,
   "metadata": {
    "collapsed": false
   },
   "outputs": [],
   "source": [
    "rmse_train = [eval_rmse(train_y[1:end], yhats_train[key]) for key in keys(yhats_train)]\n",
    "precision_train = [eval_precision(train_y[1:end], yhats_train[key]) for key in keys(yhats_train)];"
   ]
  },
  {
   "cell_type": "code",
   "execution_count": null,
   "metadata": {
    "collapsed": false
   },
   "outputs": [],
   "source": [
    "rmse_val = [eval_rmse(val_y[1:end], yhats_val[key]) for key in keys(yhats_val)]\n",
    "precision_val = [eval_precision(val_y[1:end], yhats_val[key]) for key in keys(yhats_val)];"
   ]
  },
  {
   "cell_type": "code",
   "execution_count": null,
   "metadata": {
    "collapsed": false
   },
   "outputs": [],
   "source": [
    "model_names    = vcat(fill(collect(keys(all_models)), 4)...)\n",
    "half_length    = round(Int, length(model_names)/2)\n",
    "quarter_length = round(Int, half_length/2)\n",
    "data_types     = repeach([\"Train\", \"Validation\"], half_length)\n",
    "metrics        = repeach([\"RMSE\", \"Precision\", \"RMSE\", \"Precision\"], quarter_length)\n",
    "values         = vcat(rmse_train, precision_train, rmse_val, precision_val)\n",
    "results        = DataFrame(model=model_names, data_type=data_types, metric=metrics, value=values);"
   ]
  },
  {
   "cell_type": "code",
   "execution_count": null,
   "metadata": {
    "collapsed": false
   },
   "outputs": [],
   "source": [
    "set_default_plot_size(1000px, 450px)\n",
    "metric = \"RMSE\"\n",
    "plot(results[results[:metric] .== metric, :], \n",
    "     x=:model, y=:value, color=:data_type, \n",
    "     Scale.x_discrete, Geom.line, Geom.point,\n",
    "     Guide.title(\"Evaluation - $metric\"),\n",
    "     Guide.ylabel(metric))"
   ]
  },
  {
   "cell_type": "code",
   "execution_count": null,
   "metadata": {
    "collapsed": false
   },
   "outputs": [],
   "source": [
    "set_default_plot_size(1000px, 450px)\n",
    "metric = \"Precision\"\n",
    "plot(results[results[:metric] .== metric, :], \n",
    "     x=:model, y=:value, color=:data_type, \n",
    "     Scale.x_discrete, Geom.line, Geom.point,\n",
    "     Guide.title(\"Evaluation - $metric\"),\n",
    "     Guide.ylabel(metric))"
   ]
  },
  {
   "cell_type": "markdown",
   "metadata": {},
   "source": [
    "## Export Model"
   ]
  },
  {
   "cell_type": "code",
   "execution_count": null,
   "metadata": {
    "collapsed": true
   },
   "outputs": [],
   "source": []
  }
 ],
 "metadata": {
  "kernelspec": {
   "display_name": "Julia 0.4.1-pre",
   "language": "julia",
   "name": "julia-0.4"
  },
  "language_info": {
   "file_extension": ".jl",
   "mimetype": "application/julia",
   "name": "julia",
   "version": "0.4.1"
  }
 },
 "nbformat": 4,
 "nbformat_minor": 0
}
