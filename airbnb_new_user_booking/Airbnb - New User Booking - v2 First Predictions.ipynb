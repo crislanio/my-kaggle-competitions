{
 "cells": [
  {
   "cell_type": "markdown",
   "metadata": {},
   "source": [
    "<div>\n",
    "<div style=\"text-align:center; display:block; float:left; padding:80px;\"><img width=\"200px\"  src=\"https://kaggle2.blob.core.windows.net/competitions/kaggle/4651/logos/front_page.png\"/><span style=\"color:red;\">**New User Booking**</span></div>\n",
    "<div style=\"\">\n",
    "**Objective:** In this recruiting competition, Airbnb challenges you to predict in which country a new user will make his or her first booking.  \n",
    "  \n",
    "** Description: ** In this challenge, you are given a list of users along with their demographics, web session records, and some summary statistics. You are asked to predict which country a new user's first booking destination will be. All the users in this dataset are from the USA.\n",
    "</div>\n",
    "<img src=\"https://kaggle2.blob.core.windows.net/competitions/kaggle/4651/media/airbnb_banner.png\" />\n",
    "\n",
    "Author: [Oliveira, D. M.](http://br.linkedin.com/in/dmoliveira)\n",
    "\n",
    "## <span style=\"color:blue\">Airbnb - New User Booking - v2 First Predictions</span>"
   ]
  },
  {
   "cell_type": "markdown",
   "metadata": {},
   "source": [
    "## Import Packages"
   ]
  },
  {
   "cell_type": "code",
   "execution_count": 1,
   "metadata": {
    "collapsed": false
   },
   "outputs": [
    {
     "name": "stderr",
     "output_type": "stream",
     "text": [
      "WARNING: Base.String is deprecated, use AbstractString instead.\n",
      "  likely near /Users/diego/.julia/v0.4/MLBase/src/modeltune.jl:5\n",
      "WARNING: Base.String is deprecated, use AbstractString instead.\n",
      "  likely near /Users/diego/.julia/v0.4/MLBase/src/modeltune.jl:5\n",
      "WARNING: Base.String is deprecated, use AbstractString instead.\n",
      "  likely near /Users/diego/.julia/v0.4/MLBase/src/modeltune.jl:5\n",
      "WARNING: Base.FloatingPoint is deprecated, use AbstractFloat instead.\n",
      "  likely near /Users/diego/.julia/v0.4/MLBase/src/deprecated/datapre.jl:104\n",
      "WARNING: Base.FloatingPoint is deprecated, use AbstractFloat instead.\n",
      "  likely near /Users/diego/.julia/v0.4/MLBase/src/deprecated/datapre.jl:105\n",
      "WARNING: Base.FloatingPoint is deprecated, use AbstractFloat instead.\n",
      "  likely near /Users/diego/.julia/v0.4/MLBase/src/deprecated/datapre.jl:163\n",
      "WARNING: Base.FloatingPoint is deprecated, use AbstractFloat instead.\n",
      "  likely near /Users/diego/.julia/v0.4/MLBase/src/deprecated/datapre.jl:163\n",
      "WARNING: Base.FloatingPoint is deprecated, use AbstractFloat instead.\n",
      "  likely near /Users/diego/.julia/v0.4/MLBase/src/deprecated/datapre.jl:163\n"
     ]
    }
   ],
   "source": [
    "using DataFrames\n",
    "using MLBase\n",
    "using XGBoost"
   ]
  },
  {
   "cell_type": "markdown",
   "metadata": {},
   "source": [
    "## Load Data"
   ]
  },
  {
   "cell_type": "code",
   "execution_count": 16,
   "metadata": {
    "collapsed": true
   },
   "outputs": [],
   "source": [
    "train = readtable(\"data/train_v2.tsv\", separator='\\t')\n",
    "test  = readtable(\"data/test_v2.tsv\", separator='\\t')\n",
    "full  = readtable(\"data/full_v1.tsv\", separator='\\t');"
   ]
  },
  {
   "cell_type": "markdown",
   "metadata": {},
   "source": [
    "## Set Features and Output"
   ]
  },
  {
   "cell_type": "code",
   "execution_count": 17,
   "metadata": {
    "collapsed": false
   },
   "outputs": [],
   "source": [
    "label    = :country_destination\n",
    "labels   = Set(train[label])\n",
    "features = setdiff(names(test), [:id]);\n",
    "\n",
    "original_labels = keys(labelmap(readtable(\"data/train_users_2.csv.gz\")[label]));"
   ]
  },
  {
   "cell_type": "markdown",
   "metadata": {},
   "source": [
    "## Prepare Instances"
   ]
  },
  {
   "cell_type": "code",
   "execution_count": 18,
   "metadata": {
    "collapsed": false
   },
   "outputs": [
    {
     "data": {
      "text/plain": [
       "split_train_val (generic function with 1 method)"
      ]
     },
     "execution_count": 18,
     "metadata": {},
     "output_type": "execute_result"
    }
   ],
   "source": [
    "function split_train_val(df; train_size=.85, random_state=1)\n",
    "    \n",
    "    srand(random_state)\n",
    "    \n",
    "    nrows, ntraining_rows = size(df, 1), round(Int, size(df, 1) * train_size)\n",
    "    indexes               = shuffle(collect(1:nrows))\n",
    "    train                 = df[indexes[1:ntraining_rows], :]\n",
    "    validation            = df[indexes[ntraining_rows+1:end], :]\n",
    "    \n",
    "    return train, validation\n",
    "end"
   ]
  },
  {
   "cell_type": "code",
   "execution_count": 19,
   "metadata": {
    "collapsed": false
   },
   "outputs": [],
   "source": [
    "train[label]  -= 1\n",
    "X_train, X_val = split_train_val(train, train_size=.85, random_state=1)\n",
    "\n",
    "train_x = Array{Float64,2}(X_train[:, features])\n",
    "train_y = Array{Float64,1}(X_train[label])\n",
    "val_x   = Array{Float64,2}(X_val[:, features])\n",
    "val_y   = Array{Float64,1}(X_val[label])\n",
    "test_x  = Array{Float64,2}(test[:, features]);"
   ]
  },
  {
   "cell_type": "code",
   "execution_count": 20,
   "metadata": {
    "collapsed": true
   },
   "outputs": [],
   "source": [
    "dtrain  = DMatrix(train_x, label=train_y)\n",
    "dval    = DMatrix(val_x, label=val_y);"
   ]
  },
  {
   "cell_type": "markdown",
   "metadata": {},
   "source": [
    "## Train"
   ]
  },
  {
   "cell_type": "code",
   "execution_count": null,
   "metadata": {
    "collapsed": false
   },
   "outputs": [
    {
     "name": "stdout",
     "output_type": "stream",
     "text": [
      "Training Base Model...\n"
     ]
    },
    {
     "name": "stderr",
     "output_type": "stream",
     "text": [
      "[1]\ttrain-merror:0.370963\ttrain-mlogloss:1.199009\teval-merror:0.368636\teval-mlogloss:1.195946\n",
      "[2]\ttrain-merror:0.371074\ttrain-mlogloss:1.187367\teval-merror:0.369167\teval-mlogloss:1.184286\n",
      "[3]\ttrain-merror:0.370804\ttrain-mlogloss:1.176793\teval-merror:0.368511\teval-mlogloss:1.173735\n",
      "[4]\ttrain-merror:0.370677\ttrain-mlogloss:1.167121\teval-merror:0.369105\teval-mlogloss:1.164166\n",
      "[5]\ttrain-merror:0.370594\ttrain-mlogloss:1.158320\teval-merror:0.368324\teval-mlogloss:1.155501\n",
      "[6]\ttrain-merror:0.370467\ttrain-mlogloss:1.150363\teval-merror:0.368824\teval-mlogloss:1.147608\n",
      "[7]\ttrain-merror:0.370396\ttrain-mlogloss:1.143163\teval-merror:0.368262\teval-mlogloss:1.140408\n",
      "[8]\ttrain-merror:0.370247\ttrain-mlogloss:1.136460\teval-merror:0.368449\teval-mlogloss:1.133799\n",
      "[9]\ttrain-merror:0.370109\ttrain-mlogloss:1.130326\teval-merror:0.368324\teval-mlogloss:1.127812\n",
      "[10]\ttrain-merror:0.369641\ttrain-mlogloss:1.124445\teval-merror:0.368355\teval-mlogloss:1.121969\n",
      "[11]\ttrain-merror:0.369348\ttrain-mlogloss:1.118918\teval-merror:0.368418\teval-mlogloss:1.116608\n",
      "[12]\ttrain-merror:0.369337\ttrain-mlogloss:1.114093\teval-merror:0.368324\teval-mlogloss:1.111798\n",
      "[13]\ttrain-merror:0.369183\ttrain-mlogloss:1.109502\teval-merror:0.368262\teval-mlogloss:1.107387\n",
      "[14]\ttrain-merror:0.368891\ttrain-mlogloss:1.105385\teval-merror:0.367981\teval-mlogloss:1.103406\n",
      "[15]\ttrain-merror:0.368599\ttrain-mlogloss:1.101531\teval-merror:0.368199\teval-mlogloss:1.099665\n",
      "[16]\ttrain-merror:0.368538\ttrain-mlogloss:1.098186\teval-merror:0.368043\teval-mlogloss:1.096417\n",
      "[17]\ttrain-merror:0.368246\ttrain-mlogloss:1.095042\teval-merror:0.367793\teval-mlogloss:1.093295\n",
      "[18]\ttrain-merror:0.368246\ttrain-mlogloss:1.092204\teval-merror:0.367793\teval-mlogloss:1.090486\n",
      "[19]\ttrain-merror:0.368009\ttrain-mlogloss:1.089437\teval-merror:0.367606\teval-mlogloss:1.087882\n",
      "[20]\ttrain-merror:0.367965\ttrain-mlogloss:1.086872\teval-merror:0.367387\teval-mlogloss:1.085507\n",
      "[21]\ttrain-merror:0.367827\ttrain-mlogloss:1.084522\teval-merror:0.367075\teval-mlogloss:1.083266\n",
      "[22]\ttrain-merror:0.367684\ttrain-mlogloss:1.082325\teval-merror:0.367293\teval-mlogloss:1.081155\n",
      "[23]\ttrain-merror:0.367623\ttrain-mlogloss:1.080340\teval-merror:0.367200\teval-mlogloss:1.079219\n",
      "[24]\ttrain-merror:0.367618\ttrain-mlogloss:1.078504\teval-merror:0.367044\teval-mlogloss:1.077508\n",
      "[25]\ttrain-merror:0.367535\ttrain-mlogloss:1.076708\teval-merror:0.367044\teval-mlogloss:1.075866\n",
      "[26]\ttrain-merror:0.367535\ttrain-mlogloss:1.074987\teval-merror:0.367200\teval-mlogloss:1.074316\n"
     ]
    }
   ],
   "source": [
    "num_rounds = 150\n",
    "watchlist  = [(dtrain, \"train\"), (dval, \"eval\")]\n",
    "metrics    = [\"merror\", \"mlogloss\"]\n",
    "params     = Dict(\"objective\"         => \"multi:softprob\",\n",
    "                   \"booster\"          => \"gbtree\",\n",
    "                   \"eta\"              => .1,\n",
    "                   \"alpha\"            => .5,\n",
    "                   \"gamma\"            => .0,\n",
    "                   \"max_depth\"        =>  5,\n",
    "                   \"colsample_bytree\" => .5,\n",
    "                   \"min_child_weight\" =>  10,\n",
    "                   \"subsample\"        => .5,\n",
    "                   \"seed\"             =>  1)\n",
    "\n",
    "println(\"Training Base Model...\")\n",
    "tic()\n",
    "model      = XGBoost.xgboost(dtrain, num_rounds, param=params, metrics=metrics,\n",
    "                             num_class=length(labels), watchlist=watchlist)\n",
    "toc()\n",
    "\n",
    "println(\"\\nTraining Boosted Model...\")\n",
    "ptrain = XGBoost.predict(model, dtrain, output_margin=true)\n",
    "pval   = XGBoost.predict(model, dval, output_margin=true)\n",
    "set_info(dtrain, \"base_margin\", ptrain)\n",
    "set_info(dval, \"base_margin\", pval)\n",
    "\n",
    "tic()\n",
    "model = XGBoost.xgboost(dtrain, num_rounds, param=params, metrics=metrics,\n",
    "                        num_class=length(labels), watchlist=watchlist)\n",
    "toc()"
   ]
  },
  {
   "cell_type": "markdown",
   "metadata": {},
   "source": [
    "## Predict"
   ]
  },
  {
   "cell_type": "code",
   "execution_count": 42,
   "metadata": {
    "collapsed": false
   },
   "outputs": [
    {
     "data": {
      "text/plain": [
       "get_top_n (generic function with 1 method)"
      ]
     },
     "execution_count": 42,
     "metadata": {},
     "output_type": "execute_result"
    }
   ],
   "source": [
    "function get_top_n(prob_matrix, n)\n",
    "    \n",
    "    top_n_list   = Array[]\n",
    "    nrows, ncols = size(prob_matrix)\n",
    "    n            = min(ncols, n)\n",
    "    \n",
    "    for i=1:nrows\n",
    "        \n",
    "        tuple_list = [(j, prob_matrix[i, j]) for j=1:ncols]\n",
    "        top_n      = sort(tuple_list, by = x -> last(x), rev=true)[1:n]\n",
    "        top_n      = [first(x) for x in top_n]\n",
    "        \n",
    "        push!(top_n_list, top_n)\n",
    "    end\n",
    "    \n",
    "    return top_n_list\n",
    "end"
   ]
  },
  {
   "cell_type": "markdown",
   "metadata": {},
   "source": [
    "## Evaluate Train & Validation"
   ]
  },
  {
   "cell_type": "code",
   "execution_count": 134,
   "metadata": {
    "collapsed": false
   },
   "outputs": [
    {
     "data": {
      "text/plain": [
       "prepare_dataframe_submission (generic function with 3 methods)"
      ]
     },
     "execution_count": 134,
     "metadata": {},
     "output_type": "execute_result"
    }
   ],
   "source": [
    "function eval_map_precision_at_n(y, yhats; at_n=5)\n",
    "    total, map_hit, precision_hit = 0, 0, 0\n",
    "    by(yhats, :id) do df\n",
    "        index = findfirst(df[:country], y[df[1, :id]]) - 1\n",
    "        index >= 0 && (map_hit += (at_n - index)/at_n; precision_hit += 1)\n",
    "        total += 1\n",
    "    end\n",
    "    return round(map_hit/total, 4), round(precision_hit/total, 4)\n",
    "end\n",
    "\n",
    "function evaluate_at_n(ids, labels, data; at_n=5)\n",
    "    nrows = size(data, 1)\n",
    "    y = Dict([ids[i] => original_labels[labels[i] + 1] for i=1:nrows])\n",
    "    yhats = XGBoost.predict(model, data)\n",
    "    yhats = reshape(yhats, length(original_labels), nrows)'\n",
    "    yhats_top_n = prepare_dataframe_submission(ids, get_top_n(yhats, at_n))\n",
    "    eval_map_precision_at_n(y, yhats_top_n)\n",
    "end\n",
    "\n",
    "function prepare_dataframe_submission(ids, yhats_top_n)\n",
    "    \n",
    "    ids_repeated  = repeach(ids, 5)\n",
    "    new_yhats     = [ original_labels[yhat] for yhat in vcat(yhats_top_n...) ]\n",
    "    submission_df = DataFrame(id=ids_repeated, country=new_yhats)\n",
    "    \n",
    "    return submission_df\n",
    "end"
   ]
  },
  {
   "cell_type": "code",
   "execution_count": 156,
   "metadata": {
    "collapsed": false
   },
   "outputs": [
    {
     "data": {
      "text/plain": [
       "(0.8642,0.9623)"
      ]
     },
     "execution_count": 156,
     "metadata": {},
     "output_type": "execute_result"
    }
   ],
   "source": [
    "evaluate_at_n(X_train[:id], X_train[label], train_x, at_n=5)"
   ]
  },
  {
   "cell_type": "code",
   "execution_count": 157,
   "metadata": {
    "collapsed": false
   },
   "outputs": [
    {
     "data": {
      "text/plain": [
       "(0.8633,0.9599)"
      ]
     },
     "execution_count": 157,
     "metadata": {},
     "output_type": "execute_result"
    }
   ],
   "source": [
    "evaluate_at_n(X_val[:id], X_val[label], val_x, at_n=5)"
   ]
  },
  {
   "cell_type": "markdown",
   "metadata": {},
   "source": [
    "## Generate Submission File"
   ]
  },
  {
   "cell_type": "code",
   "execution_count": 75,
   "metadata": {
    "collapsed": true
   },
   "outputs": [],
   "source": [
    "yhats = XGBoost.predict(model, test_x)\n",
    "yhats = reshape(yhats, length(original_labels), size(test_x, 1))';"
   ]
  },
  {
   "cell_type": "code",
   "execution_count": 76,
   "metadata": {
    "collapsed": true
   },
   "outputs": [],
   "source": [
    "yhats_top_n = get_top_n(yhats, 5);"
   ]
  },
  {
   "cell_type": "code",
   "execution_count": 77,
   "metadata": {
    "collapsed": false
   },
   "outputs": [],
   "source": [
    "submission_df = prepare_dataframe_submission(test[:id], yhats, yhats_top_n);"
   ]
  },
  {
   "cell_type": "code",
   "execution_count": 78,
   "metadata": {
    "collapsed": false
   },
   "outputs": [],
   "source": [
    "writetable(\"data/submissions/submission_v7_ds2_xgboost_msoftprob_gbtree_eta05_md5_ss3_alpha5_csb5_mcw10_nr150.csv\", submission_df);"
   ]
  },
  {
   "cell_type": "markdown",
   "metadata": {},
   "source": [
    "## Kagle Scores from Submited Predictions"
   ]
  },
  {
   "cell_type": "markdown",
   "metadata": {},
   "source": [
    "Best Score: <span style=\"color:blue;\">0.86389</span> [v7]\n",
    "\n",
    "- v7 **XGB** (DS2 MSoftProb GBTree Eta.05 MD 6 SS.5 NR150 $\\alpha$5 CSB5 MCW10): **0.86389** tme:.367\ttmll:1.05 eme:.367\temll:1.06 (map/p@5: (0.8704,0.9667), (0.8685,0.9607))\n",
    "- v6 **XGB** (DS2 MSoftProb GBTree Eta.3 MD 6 SS.5 NR100 $\\alpha$5 CSB5 MCW10): **0.86359** tme.364 tmll1.04 eme.366 emll1.05   \n",
    "- v4 **XGB** (DS1 MSoftProb GBTree Eta.3 MD 6 SS.5 NR100 $\\alpha$5 CSB5 MCW10): **0.86109** tme.360 tmll1.02 eme.369 emll1.064   \n",
    "- v3 **XGB** (DS1 MSoftMax GBTree Eta.3 MD 6 SS.5 NR100 $\\alpha$5 CSB5 MCW10): **0.70496** tme 0.358 tmll 1.019 eme 0.366 emll1.061  \n",
    "- v2 **XGB** (DS1 MSoftMax GBTree Eta.7 MD 5 SS.85 NR2000): ** 0.65697** tme.181 tmll.499 eme.403 emll1.477\n",
    "- v1 **XGB** (DS1 MSoftMax GBTree Eta.7 MD 5 SS.85 NR100): **0.70174** tme.349 tmll.948 eme.367 emll1.077"
   ]
  },
  {
   "cell_type": "code",
   "execution_count": null,
   "metadata": {
    "collapsed": true
   },
   "outputs": [],
   "source": []
  }
 ],
 "metadata": {
  "kernelspec": {
   "display_name": "Julia 0.4.1-pre",
   "language": "julia",
   "name": "julia-0.4"
  },
  "language_info": {
   "file_extension": ".jl",
   "mimetype": "application/julia",
   "name": "julia",
   "version": "0.4.1"
  }
 },
 "nbformat": 4,
 "nbformat_minor": 0
}
