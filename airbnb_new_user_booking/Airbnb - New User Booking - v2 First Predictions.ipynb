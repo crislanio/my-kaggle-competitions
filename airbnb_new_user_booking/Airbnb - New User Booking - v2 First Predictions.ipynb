{
 "cells": [
  {
   "cell_type": "markdown",
   "metadata": {},
   "source": [
    "<div>\n",
    "<div style=\"text-align:center; display:block; float:left; padding:80px;\"><img width=\"200px\"  src=\"https://kaggle2.blob.core.windows.net/competitions/kaggle/4651/logos/front_page.png\"/><span style=\"color:red;\">**New User Booking**</span></div>\n",
    "<div style=\"\">\n",
    "**Objective:** In this recruiting competition, Airbnb challenges you to predict in which country a new user will make his or her first booking.  \n",
    "  \n",
    "** Description: ** In this challenge, you are given a list of users along with their demographics, web session records, and some summary statistics. You are asked to predict which country a new user's first booking destination will be. All the users in this dataset are from the USA.\n",
    "</div>\n",
    "<img src=\"https://kaggle2.blob.core.windows.net/competitions/kaggle/4651/media/airbnb_banner.png\" />"
   ]
  },
  {
   "cell_type": "markdown",
   "metadata": {},
   "source": [
    "## Import Packages"
   ]
  },
  {
   "cell_type": "code",
   "execution_count": 53,
   "metadata": {
    "collapsed": false
   },
   "outputs": [],
   "source": [
    "using DataFrames\n",
    "using MLBase\n",
    "using XGBoost"
   ]
  },
  {
   "cell_type": "markdown",
   "metadata": {},
   "source": [
    "## Load Data"
   ]
  },
  {
   "cell_type": "code",
   "execution_count": null,
   "metadata": {
    "collapsed": true
   },
   "outputs": [],
   "source": [
    "demographic_data"
   ]
  },
  {
   "cell_type": "code",
   "execution_count": 74,
   "metadata": {
    "collapsed": true
   },
   "outputs": [],
   "source": [
    "train = readtable(\"data/train_v1.tsv\", separator='\\t')\n",
    "test  = readtable(\"data/test_v1.tsv\", separator='\\t')\n",
    "full  = readtable(\"data/full_v1.tsv\", separator='\\t');"
   ]
  },
  {
   "cell_type": "markdown",
   "metadata": {},
   "source": [
    "## Set Features and Output"
   ]
  },
  {
   "cell_type": "code",
   "execution_count": 54,
   "metadata": {
    "collapsed": false
   },
   "outputs": [],
   "source": [
    "label    = :country_destination\n",
    "labels   = Set(train[label])\n",
    "features = setdiff(names(test), [:id]);\n",
    "\n",
    "original_labels = keys(labelmap(readtable(\"data/train_users_2.csv.gz\")[label]));"
   ]
  },
  {
   "cell_type": "markdown",
   "metadata": {},
   "source": [
    "## Prepare Instances"
   ]
  },
  {
   "cell_type": "code",
   "execution_count": 12,
   "metadata": {
    "collapsed": false
   },
   "outputs": [
    {
     "data": {
      "text/plain": [
       "split_train_val (generic function with 1 method)"
      ]
     },
     "execution_count": 12,
     "metadata": {},
     "output_type": "execute_result"
    }
   ],
   "source": [
    "function split_train_val(df; train_size=.85, random_state=1)\n",
    "    \n",
    "    srand(random_state)\n",
    "    \n",
    "    nrows, ntraining_rows = size(df, 1), round(Int, size(df, 1) * train_size)\n",
    "    indexes               = shuffle(collect(1:nrows))\n",
    "    train                 = df[indexes[1:ntraining_rows], :]\n",
    "    validation            = df[indexes[ntraining_rows+1:end], :]\n",
    "    \n",
    "    return train, validation\n",
    "end"
   ]
  },
  {
   "cell_type": "code",
   "execution_count": 75,
   "metadata": {
    "collapsed": false
   },
   "outputs": [
    {
     "ename": "LoadError",
     "evalue": "LoadError: KeyError: YHat not found\nwhile loading In[75], in expression starting on line 3",
     "output_type": "error",
     "traceback": [
      "LoadError: KeyError: YHat not found\nwhile loading In[75], in expression starting on line 3",
      "",
      " in getindex at /Users/diego/.julia/v0.4/DataFrames/src/other/index.jl:132",
      " in getindex at /Users/diego/.julia/v0.4/DataFrames/src/dataframe/dataframe.jl:238",
      " in getindex at /Users/diego/.julia/v0.4/DataFrames/src/dataframe/dataframe.jl:274"
     ]
    }
   ],
   "source": [
    "X_train, X_val = split_train_val(train, train_size=.85, random_state=1)\n",
    "\n",
    "train_x = Array{Float64,2}(X_train[:, features])\n",
    "train_y = Array{Float64,1}(X_train[label])\n",
    "val_x   = Array{Float64,2}(X_val[:, features])\n",
    "val_y   = Array{Float64,1}(X_val[label])\n",
    "test_x  = Array{Float64,2}(test[:, features]);"
   ]
  },
  {
   "cell_type": "code",
   "execution_count": 76,
   "metadata": {
    "collapsed": true
   },
   "outputs": [],
   "source": [
    "dtrain  = DMatrix(train_x, label=train_y)\n",
    "dval    = DMatrix(val_x, label=val_y);"
   ]
  },
  {
   "cell_type": "markdown",
   "metadata": {},
   "source": [
    "## Train"
   ]
  },
  {
   "cell_type": "code",
   "execution_count": null,
   "metadata": {
    "collapsed": false
   },
   "outputs": [
    {
     "name": "stderr",
     "output_type": "stream",
     "text": [
      "\n",
      "WARNING: deprecated syntax \"{a=>b, ...}\" at In[77]:9.\n",
      "Use \"Dict{Any,Any}(a=>b, ...)\" instead.\n"
     ]
    },
    {
     "name": "stdout",
     "output_type": "stream",
     "text": [
      "Training Base Model...\n"
     ]
    },
    {
     "name": "stderr",
     "output_type": "stream",
     "text": [
      "[1]\ttrain-merror:0.361081\ttrain-mlogloss:2.275779\teval-merror:0.367887\teval-mlogloss:2.280345\n",
      "[2]\ttrain-merror:0.357961\ttrain-mlogloss:2.084641\teval-merror:0.367543\teval-mlogloss:2.094408\n",
      "[3]\ttrain-merror:0.355685\ttrain-mlogloss:1.940276\teval-merror:0.367606\teval-mlogloss:1.954366\n",
      "[4]\ttrain-merror:0.353987\ttrain-mlogloss:1.824317\teval-merror:0.368012\teval-mlogloss:1.842318\n",
      "[5]\ttrain-merror:0.352593\ttrain-mlogloss:1.728214\teval-merror:0.367574\teval-mlogloss:1.750234\n",
      "[6]\ttrain-merror:0.351270\ttrain-mlogloss:1.646612\teval-merror:0.367543\teval-mlogloss:1.672501\n",
      "[7]\ttrain-merror:0.350284\ttrain-mlogloss:1.576480\teval-merror:0.366981\teval-mlogloss:1.606201\n",
      "[8]\ttrain-merror:0.348531\ttrain-mlogloss:1.514960\teval-merror:0.367325\teval-mlogloss:1.548508\n",
      "[9]\ttrain-merror:0.347131\ttrain-mlogloss:1.460771\teval-merror:0.367137\teval-mlogloss:1.498255\n",
      "[10]\ttrain-merror:0.345979\ttrain-mlogloss:1.412995\teval-merror:0.367200\teval-mlogloss:1.453982\n",
      "[11]\ttrain-merror:0.345329\ttrain-mlogloss:1.370483\teval-merror:0.366263\teval-mlogloss:1.414946\n",
      "[12]\ttrain-merror:0.344138\ttrain-mlogloss:1.332334\teval-merror:0.366044\teval-mlogloss:1.380330\n",
      "[13]\ttrain-merror:0.343377\ttrain-mlogloss:1.298171\teval-merror:0.366388\teval-mlogloss:1.349612\n",
      "[14]\ttrain-merror:0.342804\ttrain-mlogloss:1.267589\teval-merror:0.365982\teval-mlogloss:1.322176\n",
      "[15]\ttrain-merror:0.341823\ttrain-mlogloss:1.239738\teval-merror:0.365638\teval-mlogloss:1.297656\n",
      "[16]\ttrain-merror:0.341531\ttrain-mlogloss:1.214477\teval-merror:0.366044\teval-mlogloss:1.275517\n",
      "[17]\ttrain-merror:0.340787\ttrain-mlogloss:1.191263\teval-merror:0.365388\teval-mlogloss:1.255652\n",
      "[18]\ttrain-merror:0.339867\ttrain-mlogloss:1.169958\teval-merror:0.365950\teval-mlogloss:1.237785\n",
      "[19]\ttrain-merror:0.339354\ttrain-mlogloss:1.150861\teval-merror:0.365732\teval-mlogloss:1.221824\n",
      "[20]\ttrain-merror:0.338907\ttrain-mlogloss:1.133181\teval-merror:0.365888\teval-mlogloss:1.207213\n",
      "[21]\ttrain-merror:0.338428\ttrain-mlogloss:1.116991\teval-merror:0.365982\teval-mlogloss:1.194010\n",
      "[22]\ttrain-merror:0.337976\ttrain-mlogloss:1.101975\teval-merror:0.366138\teval-mlogloss:1.182072\n",
      "[23]\ttrain-merror:0.337452\ttrain-mlogloss:1.088233\teval-merror:0.366450\teval-mlogloss:1.171335\n",
      "[24]\ttrain-merror:0.336890\ttrain-mlogloss:1.075444\teval-merror:0.366263\teval-mlogloss:1.161588\n",
      "[25]\ttrain-merror:0.336135\ttrain-mlogloss:1.063394\teval-merror:0.366044\teval-mlogloss:1.152766\n",
      "[26]\ttrain-merror:0.335766\ttrain-mlogloss:1.052463\teval-merror:0.366013\teval-mlogloss:1.144663\n",
      "[27]\ttrain-merror:0.335463\ttrain-mlogloss:1.042368\teval-merror:0.365825\teval-mlogloss:1.137376\n",
      "[28]\ttrain-merror:0.334928\ttrain-mlogloss:1.032834\teval-merror:0.365825\teval-mlogloss:1.130707\n",
      "[29]\ttrain-merror:0.334636\ttrain-mlogloss:1.024112\teval-merror:0.365888\teval-mlogloss:1.124661\n",
      "[30]\ttrain-merror:0.334013\ttrain-mlogloss:1.015648\teval-merror:0.365763\teval-mlogloss:1.119114\n",
      "[31]\ttrain-merror:0.333478\ttrain-mlogloss:1.007694\teval-merror:0.365701\teval-mlogloss:1.113963\n",
      "[32]\ttrain-merror:0.332960\ttrain-mlogloss:1.000264\teval-merror:0.365888\teval-mlogloss:1.109265\n",
      "[33]\ttrain-merror:0.332448\ttrain-mlogloss:0.993248\teval-merror:0.366013\teval-mlogloss:1.105071\n",
      "[34]\ttrain-merror:0.332040\ttrain-mlogloss:0.986596\teval-merror:0.365919\teval-mlogloss:1.101209\n",
      "[35]\ttrain-merror:0.331505\ttrain-mlogloss:0.980246\teval-merror:0.366356\teval-mlogloss:1.097821\n",
      "[36]\ttrain-merror:0.331026\ttrain-mlogloss:0.974425\teval-merror:0.366388\teval-mlogloss:1.094531\n",
      "[37]\ttrain-merror:0.330629\ttrain-mlogloss:0.968767\teval-merror:0.366294\teval-mlogloss:1.091448\n",
      "[38]\ttrain-merror:0.329929\ttrain-mlogloss:0.963257\teval-merror:0.366419\teval-mlogloss:1.088841\n",
      "[39]\ttrain-merror:0.329229\ttrain-mlogloss:0.958264\teval-merror:0.366013\teval-mlogloss:1.086307\n",
      "[40]\ttrain-merror:0.328634\ttrain-mlogloss:0.953378\teval-merror:0.365982\teval-mlogloss:1.084004\n",
      "[41]\ttrain-merror:0.328110\ttrain-mlogloss:0.948573\teval-merror:0.366232\teval-mlogloss:1.081900\n",
      "[42]\ttrain-merror:0.327427\ttrain-mlogloss:0.944097\teval-merror:0.366263\teval-mlogloss:1.079892\n",
      "[43]\ttrain-merror:0.326914\ttrain-mlogloss:0.939753\teval-merror:0.366325\teval-mlogloss:1.078163\n",
      "[44]\ttrain-merror:0.326457\ttrain-mlogloss:0.935635\teval-merror:0.366232\teval-mlogloss:1.076582\n",
      "[45]\ttrain-merror:0.325955\ttrain-mlogloss:0.931694\teval-merror:0.366232\teval-mlogloss:1.075052\n",
      "[46]\ttrain-merror:0.325365\ttrain-mlogloss:0.927698\teval-merror:0.366513\teval-mlogloss:1.073709\n",
      "[47]\ttrain-merror:0.324919\ttrain-mlogloss:0.924375\teval-merror:0.366356\teval-mlogloss:1.072405\n",
      "[48]\ttrain-merror:0.324208\ttrain-mlogloss:0.920545\teval-merror:0.366575\teval-mlogloss:1.071263\n",
      "[49]\ttrain-merror:0.323690\ttrain-mlogloss:0.917463\teval-merror:0.366544\teval-mlogloss:1.070149\n",
      "[50]\ttrain-merror:0.323221\ttrain-mlogloss:0.914228\teval-merror:0.366669\teval-mlogloss:1.069263\n",
      "[51]\ttrain-merror:0.322571\ttrain-mlogloss:0.910933\teval-merror:0.366669\teval-mlogloss:1.068301\n",
      "[52]\ttrain-merror:0.321932\ttrain-mlogloss:0.907698\teval-merror:0.366731\teval-mlogloss:1.067439\n",
      "[53]\ttrain-merror:0.321424\ttrain-mlogloss:0.904830\teval-merror:0.366669\teval-mlogloss:1.066656\n",
      "[54]\ttrain-merror:0.320702\ttrain-mlogloss:0.901637\teval-merror:0.366762\teval-mlogloss:1.065892\n",
      "[55]\ttrain-merror:0.320300\ttrain-mlogloss:0.898862\teval-merror:0.366481\teval-mlogloss:1.065257\n",
      "[56]\ttrain-merror:0.319776\ttrain-mlogloss:0.896050\teval-merror:0.366575\teval-mlogloss:1.064718\n",
      "[57]\ttrain-merror:0.319280\ttrain-mlogloss:0.893428\teval-merror:0.366544\teval-mlogloss:1.064294\n",
      "[58]\ttrain-merror:0.318658\ttrain-mlogloss:0.890859\teval-merror:0.366200\teval-mlogloss:1.063941\n",
      "[59]\ttrain-merror:0.318272\ttrain-mlogloss:0.888222\teval-merror:0.366419\teval-mlogloss:1.063550\n",
      "[60]\ttrain-merror:0.317434\ttrain-mlogloss:0.885534\teval-merror:0.366762\teval-mlogloss:1.063187\n",
      "[61]\ttrain-merror:0.317043\ttrain-mlogloss:0.883209\teval-merror:0.366981\teval-mlogloss:1.062798\n",
      "[62]\ttrain-merror:0.316756\ttrain-mlogloss:0.881027\teval-merror:0.367106\teval-mlogloss:1.062503\n",
      "[63]\ttrain-merror:0.316288\ttrain-mlogloss:0.878534\teval-merror:0.366887\teval-mlogloss:1.062253\n",
      "[64]\ttrain-merror:0.315863\ttrain-mlogloss:0.876361\teval-merror:0.366731\teval-mlogloss:1.061959\n",
      "[65]\ttrain-merror:0.315092\ttrain-mlogloss:0.873931\teval-merror:0.366762\teval-mlogloss:1.061789\n",
      "[66]\ttrain-merror:0.314518\ttrain-mlogloss:0.871754\teval-merror:0.366794\teval-mlogloss:1.061599\n",
      "[67]\ttrain-merror:0.314055\ttrain-mlogloss:0.870039\teval-merror:0.366513\teval-mlogloss:1.061478\n",
      "[68]\ttrain-merror:0.313184\ttrain-mlogloss:0.867665\teval-merror:0.366294\teval-mlogloss:1.061252\n"
     ]
    }
   ],
   "source": [
    "num_rounds = 100\n",
    "watchlist  = [(dtrain, \"train\"), (dval, \"eval\")]\n",
    "metrics    = [\"merror\", \"mlogloss\"]\n",
    "params     = Dict({\"objective\" => \"multi:softmax\",\n",
    "                   \"booster\"   => \"gbtree\",\n",
    "                   \"eta\"       => 0.1, \n",
    "                   \"max_depth\" => 12,\n",
    "                   \"subsample\" => 0.85\n",
    "                  })\n",
    "\n",
    "println(\"Training Base Model...\")\n",
    "tic()\n",
    "model      = XGBoost.xgboost(dtrain, num_rounds, param=params, metrics=metrics,\n",
    "                             num_class=length(labels)+1, watchlist=watchlist)\n",
    "toc()"
   ]
  },
  {
   "cell_type": "markdown",
   "metadata": {},
   "source": [
    "## Predict"
   ]
  },
  {
   "cell_type": "code",
   "execution_count": 62,
   "metadata": {
    "collapsed": true
   },
   "outputs": [],
   "source": [
    "test[:YHat] = convert(Array{Int32,1}, XGBoost.predict(model, test_x));"
   ]
  },
  {
   "cell_type": "markdown",
   "metadata": {},
   "source": [
    "## Generate Submission File"
   ]
  },
  {
   "cell_type": "code",
   "execution_count": 48,
   "metadata": {
    "collapsed": false
   },
   "outputs": [
    {
     "data": {
      "text/plain": [
       "prepare_dataframe_submission (generic function with 1 method)"
      ]
     },
     "execution_count": 48,
     "metadata": {},
     "output_type": "execute_result"
    }
   ],
   "source": [
    "function prepare_dataframe_submission(df)\n",
    "    \n",
    "    ids           = df[:id]\n",
    "    yhats         = [ original_labels[df[i, :YHat]] for i=1:size(df, 1) ]\n",
    "    submission_df = DataFrame(id=ids, country=yhats)\n",
    "    \n",
    "    return submission_df\n",
    "end"
   ]
  },
  {
   "cell_type": "code",
   "execution_count": 63,
   "metadata": {
    "collapsed": false
   },
   "outputs": [
    {
     "name": "stdout",
     "output_type": "stream",
     "text": [
      ".927184815 seconds\n"
     ]
    }
   ],
   "source": [
    "submission_df = prepare_dataframe_submission(test);"
   ]
  },
  {
   "cell_type": "code",
   "execution_count": 64,
   "metadata": {
    "collapsed": false
   },
   "outputs": [],
   "source": [
    "writetable(\"data/submissions/submission_v2_xgboost_msoftmax_gbtree_eta7_md5_ss85_nr2000.csv\", submission_df);"
   ]
  },
  {
   "cell_type": "markdown",
   "metadata": {},
   "source": [
    "## Kagle Scores from Submited Predictions"
   ]
  },
  {
   "cell_type": "markdown",
   "metadata": {},
   "source": [
    "Best Score: <span style=\"color:blue;\">0.70174</span> [v1]  \n",
    "- v2 **XGBoost** (MSoftMax GBTree Eta.7 MD 5 SS.85 NR2000): ** 0.65697** tme.181 tmll.499 eme.403 emll1.477\n",
    "- v1 **XGBoost** (MSoftMax GBTree Eta.7 MD 5 SS.85 NR100): **0.70174** tme.349 tmll.948 eme.367 emll1.077"
   ]
  },
  {
   "cell_type": "code",
   "execution_count": null,
   "metadata": {
    "collapsed": true
   },
   "outputs": [],
   "source": []
  }
 ],
 "metadata": {
  "kernelspec": {
   "display_name": "Julia 0.4.1-pre",
   "language": "julia",
   "name": "julia-0.4"
  },
  "language_info": {
   "file_extension": ".jl",
   "mimetype": "application/julia",
   "name": "julia",
   "version": "0.4.1"
  }
 },
 "nbformat": 4,
 "nbformat_minor": 0
}
