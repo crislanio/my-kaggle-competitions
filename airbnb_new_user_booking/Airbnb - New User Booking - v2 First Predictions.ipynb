{
 "cells": [
  {
   "cell_type": "markdown",
   "metadata": {},
   "source": [
    "<div>\n",
    "<div style=\"text-align:center; display:block; float:left; padding:80px;\"><img width=\"200px\"  src=\"https://kaggle2.blob.core.windows.net/competitions/kaggle/4651/logos/front_page.png\"/><span style=\"color:red;\">**New User Booking**</span></div>\n",
    "<div style=\"\">\n",
    "**Objective:** In this recruiting competition, Airbnb challenges you to predict in which country a new user will make his or her first booking.  \n",
    "  \n",
    "** Description: ** In this challenge, you are given a list of users along with their demographics, web session records, and some summary statistics. You are asked to predict which country a new user's first booking destination will be. All the users in this dataset are from the USA.\n",
    "</div>\n",
    "<img src=\"https://kaggle2.blob.core.windows.net/competitions/kaggle/4651/media/airbnb_banner.png\" />"
   ]
  },
  {
   "cell_type": "markdown",
   "metadata": {},
   "source": [
    "## Import Packages"
   ]
  },
  {
   "cell_type": "code",
   "execution_count": 53,
   "metadata": {
    "collapsed": false
   },
   "outputs": [],
   "source": [
    "using DataFrames\n",
    "using MLBase\n",
    "using XGBoost"
   ]
  },
  {
   "cell_type": "markdown",
   "metadata": {},
   "source": [
    "## Load Data"
   ]
  },
  {
   "cell_type": "code",
   "execution_count": 153,
   "metadata": {
    "collapsed": true
   },
   "outputs": [],
   "source": [
    "train = readtable(\"data/train_v1.tsv\", separator='\\t')\n",
    "test  = readtable(\"data/test_v1.tsv\", separator='\\t')\n",
    "full  = readtable(\"data/full_v1.tsv\", separator='\\t');"
   ]
  },
  {
   "cell_type": "markdown",
   "metadata": {},
   "source": [
    "## Set Features and Output"
   ]
  },
  {
   "cell_type": "code",
   "execution_count": 154,
   "metadata": {
    "collapsed": false
   },
   "outputs": [],
   "source": [
    "label    = :country_destination\n",
    "labels   = Set(train[label])\n",
    "features = setdiff(names(test), [:id]);\n",
    "\n",
    "original_labels = keys(labelmap(readtable(\"data/train_users_2.csv.gz\")[label]));"
   ]
  },
  {
   "cell_type": "markdown",
   "metadata": {},
   "source": [
    "## Prepare Instances"
   ]
  },
  {
   "cell_type": "code",
   "execution_count": 12,
   "metadata": {
    "collapsed": false
   },
   "outputs": [
    {
     "data": {
      "text/plain": [
       "split_train_val (generic function with 1 method)"
      ]
     },
     "execution_count": 12,
     "metadata": {},
     "output_type": "execute_result"
    }
   ],
   "source": [
    "function split_train_val(df; train_size=.85, random_state=1)\n",
    "    \n",
    "    srand(random_state)\n",
    "    \n",
    "    nrows, ntraining_rows = size(df, 1), round(Int, size(df, 1) * train_size)\n",
    "    indexes               = shuffle(collect(1:nrows))\n",
    "    train                 = df[indexes[1:ntraining_rows], :]\n",
    "    validation            = df[indexes[ntraining_rows+1:end], :]\n",
    "    \n",
    "    return train, validation\n",
    "end"
   ]
  },
  {
   "cell_type": "code",
   "execution_count": 155,
   "metadata": {
    "collapsed": false
   },
   "outputs": [],
   "source": [
    "train[label]  -= 1\n",
    "X_train, X_val = split_train_val(train, train_size=.85, random_state=1)\n",
    "\n",
    "train_x = Array{Float64,2}(X_train[:, features])\n",
    "train_y = Array{Float64,1}(X_train[label])\n",
    "val_x   = Array{Float64,2}(X_val[:, features])\n",
    "val_y   = Array{Float64,1}(X_val[label])\n",
    "test_x  = Array{Float64,2}(test[:, features]);"
   ]
  },
  {
   "cell_type": "code",
   "execution_count": 156,
   "metadata": {
    "collapsed": true
   },
   "outputs": [],
   "source": [
    "dtrain  = DMatrix(train_x, label=train_y)\n",
    "dval    = DMatrix(val_x, label=val_y);"
   ]
  },
  {
   "cell_type": "markdown",
   "metadata": {},
   "source": [
    "## Train"
   ]
  },
  {
   "cell_type": "code",
   "execution_count": 161,
   "metadata": {
    "collapsed": false
   },
   "outputs": [
    {
     "name": "stdout",
     "output_type": "stream",
     "text": [
      "Training Base Model...\n"
     ]
    },
    {
     "name": "stderr",
     "output_type": "stream",
     "text": [
      "[1]\ttrain-merror:0.372981\ttrain-mlogloss:1.781520\teval-merror:0.372041\teval-mlogloss:1.779704\n",
      "[2]\ttrain-merror:0.371156\ttrain-mlogloss:1.555581\teval-merror:0.369323\teval-mlogloss:1.553084\n",
      "[3]\ttrain-merror:0.370600\ttrain-mlogloss:1.414941\teval-merror:0.369136\teval-mlogloss:1.412418\n",
      "[4]\ttrain-merror:0.370848\ttrain-mlogloss:1.321339\teval-merror:0.369167\teval-mlogloss:1.318485\n",
      "[5]\ttrain-merror:0.369751\ttrain-mlogloss:1.254377\teval-merror:0.369042\teval-mlogloss:1.251817\n",
      "[6]\ttrain-merror:0.369056\ttrain-mlogloss:1.206219\teval-merror:0.368480\teval-mlogloss:1.204110\n",
      "[7]\ttrain-merror:0.368963\ttrain-mlogloss:1.171365\teval-merror:0.368262\teval-mlogloss:1.169390\n",
      "[8]\ttrain-merror:0.368676\ttrain-mlogloss:1.145111\teval-merror:0.368105\teval-mlogloss:1.143414\n",
      "[9]\ttrain-merror:0.368571\ttrain-mlogloss:1.125337\teval-merror:0.367606\teval-mlogloss:1.123843\n",
      "[10]\ttrain-merror:0.368356\ttrain-mlogloss:1.109847\teval-merror:0.368199\teval-mlogloss:1.108825\n",
      "[11]\ttrain-merror:0.368064\ttrain-mlogloss:1.098307\teval-merror:0.367606\teval-mlogloss:1.097539\n",
      "[12]\ttrain-merror:0.368048\ttrain-mlogloss:1.089179\teval-merror:0.367981\teval-mlogloss:1.088901\n",
      "[13]\ttrain-merror:0.367811\ttrain-mlogloss:1.081980\teval-merror:0.367824\teval-mlogloss:1.082276\n",
      "[14]\ttrain-merror:0.367893\ttrain-mlogloss:1.076227\teval-merror:0.367793\teval-mlogloss:1.077162\n",
      "[15]\ttrain-merror:0.367684\ttrain-mlogloss:1.071424\teval-merror:0.366700\teval-mlogloss:1.072964\n",
      "[16]\ttrain-merror:0.367535\ttrain-mlogloss:1.067788\teval-merror:0.366700\teval-mlogloss:1.069672\n",
      "[17]\ttrain-merror:0.367397\ttrain-mlogloss:1.064524\teval-merror:0.367293\teval-mlogloss:1.066875\n",
      "[18]\ttrain-merror:0.367337\ttrain-mlogloss:1.061907\teval-merror:0.367325\teval-mlogloss:1.064812\n",
      "[19]\ttrain-merror:0.367067\ttrain-mlogloss:1.059932\teval-merror:0.367231\teval-mlogloss:1.063475\n",
      "[20]\ttrain-merror:0.366923\ttrain-mlogloss:1.058072\teval-merror:0.366700\teval-mlogloss:1.062278\n",
      "[21]\ttrain-merror:0.366637\ttrain-mlogloss:1.056573\teval-merror:0.366356\teval-mlogloss:1.061102\n",
      "[22]\ttrain-merror:0.366620\ttrain-mlogloss:1.055277\teval-merror:0.366294\teval-mlogloss:1.060299\n",
      "[23]\ttrain-merror:0.366515\ttrain-mlogloss:1.054106\teval-merror:0.366606\teval-mlogloss:1.059642\n",
      "[24]\ttrain-merror:0.366262\ttrain-mlogloss:1.053040\teval-merror:0.366606\teval-mlogloss:1.059400\n",
      "[25]\ttrain-merror:0.366251\ttrain-mlogloss:1.052151\teval-merror:0.366919\teval-mlogloss:1.059055\n",
      "[26]\ttrain-merror:0.366124\ttrain-mlogloss:1.051308\teval-merror:0.366887\teval-mlogloss:1.058844\n",
      "[27]\ttrain-merror:0.366058\ttrain-mlogloss:1.050563\teval-merror:0.366981\teval-mlogloss:1.058588\n",
      "[28]\ttrain-merror:0.365876\ttrain-mlogloss:1.049761\teval-merror:0.367075\teval-mlogloss:1.058336\n",
      "[29]\ttrain-merror:0.366025\ttrain-mlogloss:1.049104\teval-merror:0.367325\teval-mlogloss:1.058036\n",
      "[30]\ttrain-merror:0.365804\ttrain-mlogloss:1.048497\teval-merror:0.366919\teval-mlogloss:1.057886\n",
      "[31]\ttrain-merror:0.365683\ttrain-mlogloss:1.047879\teval-merror:0.366887\teval-mlogloss:1.057823\n",
      "[32]\ttrain-merror:0.365727\ttrain-mlogloss:1.047238\teval-merror:0.366731\teval-mlogloss:1.058016\n",
      "[33]\ttrain-merror:0.365397\ttrain-mlogloss:1.046576\teval-merror:0.366856\teval-mlogloss:1.057718\n",
      "[34]\ttrain-merror:0.365391\ttrain-mlogloss:1.046066\teval-merror:0.366700\teval-mlogloss:1.057656\n",
      "[35]\ttrain-merror:0.365507\ttrain-mlogloss:1.045593\teval-merror:0.366794\teval-mlogloss:1.057759\n",
      "[36]\ttrain-merror:0.365397\ttrain-mlogloss:1.045076\teval-merror:0.367200\teval-mlogloss:1.057619\n",
      "[37]\ttrain-merror:0.365237\ttrain-mlogloss:1.044579\teval-merror:0.367293\teval-mlogloss:1.057687\n",
      "[38]\ttrain-merror:0.365220\ttrain-mlogloss:1.044106\teval-merror:0.367887\teval-mlogloss:1.057786\n",
      "[39]\ttrain-merror:0.365077\ttrain-mlogloss:1.043644\teval-merror:0.367293\teval-mlogloss:1.057750\n",
      "[40]\ttrain-merror:0.365000\ttrain-mlogloss:1.043105\teval-merror:0.367668\teval-mlogloss:1.057731\n",
      "[41]\ttrain-merror:0.364840\ttrain-mlogloss:1.042594\teval-merror:0.367731\teval-mlogloss:1.057729\n",
      "[42]\ttrain-merror:0.364906\ttrain-mlogloss:1.042156\teval-merror:0.367762\teval-mlogloss:1.057738\n",
      "[43]\ttrain-merror:0.364895\ttrain-mlogloss:1.041733\teval-merror:0.367918\teval-mlogloss:1.057733\n",
      "[44]\ttrain-merror:0.364719\ttrain-mlogloss:1.041272\teval-merror:0.367918\teval-mlogloss:1.057706\n",
      "[45]\ttrain-merror:0.364801\ttrain-mlogloss:1.040846\teval-merror:0.367168\teval-mlogloss:1.057782\n",
      "[46]\ttrain-merror:0.364884\ttrain-mlogloss:1.040441\teval-merror:0.367262\teval-mlogloss:1.057849\n",
      "[47]\ttrain-merror:0.364934\ttrain-mlogloss:1.040045\teval-merror:0.367325\teval-mlogloss:1.057873\n",
      "[48]\ttrain-merror:0.364818\ttrain-mlogloss:1.039619\teval-merror:0.367356\teval-mlogloss:1.058077\n",
      "[49]\ttrain-merror:0.364647\ttrain-mlogloss:1.039105\teval-merror:0.366887\teval-mlogloss:1.058140\n",
      "[50]\ttrain-merror:0.364636\ttrain-mlogloss:1.038681\teval-merror:0.366794\teval-mlogloss:1.058234\n",
      "[51]\ttrain-merror:0.364388\ttrain-mlogloss:1.038231\teval-merror:0.367512\teval-mlogloss:1.058396\n",
      "[52]\ttrain-merror:0.364090\ttrain-mlogloss:1.037844\teval-merror:0.367450\teval-mlogloss:1.058469\n",
      "[53]\ttrain-merror:0.364399\ttrain-mlogloss:1.037424\teval-merror:0.367731\teval-mlogloss:1.058695\n",
      "[54]\ttrain-merror:0.364344\ttrain-mlogloss:1.037135\teval-merror:0.367824\teval-mlogloss:1.058715\n",
      "[55]\ttrain-merror:0.364123\ttrain-mlogloss:1.036768\teval-merror:0.367262\teval-mlogloss:1.058801\n",
      "[56]\ttrain-merror:0.363958\ttrain-mlogloss:1.036374\teval-merror:0.367231\teval-mlogloss:1.058910\n",
      "[57]\ttrain-merror:0.364030\ttrain-mlogloss:1.035987\teval-merror:0.366856\teval-mlogloss:1.059016\n",
      "[58]\ttrain-merror:0.363743\ttrain-mlogloss:1.035555\teval-merror:0.366950\teval-mlogloss:1.059168\n",
      "[59]\ttrain-merror:0.363897\ttrain-mlogloss:1.035190\teval-merror:0.367418\teval-mlogloss:1.059296\n",
      "[60]\ttrain-merror:0.363682\ttrain-mlogloss:1.034823\teval-merror:0.367481\teval-mlogloss:1.059399\n",
      "[61]\ttrain-merror:0.363539\ttrain-mlogloss:1.034377\teval-merror:0.367262\teval-mlogloss:1.059667\n",
      "[62]\ttrain-merror:0.363335\ttrain-mlogloss:1.033896\teval-merror:0.367262\teval-mlogloss:1.059861\n",
      "[63]\ttrain-merror:0.363214\ttrain-mlogloss:1.033588\teval-merror:0.367481\teval-mlogloss:1.060059\n",
      "[64]\ttrain-merror:0.363060\ttrain-mlogloss:1.033048\teval-merror:0.366825\teval-mlogloss:1.060022\n",
      "[65]\ttrain-merror:0.362867\ttrain-mlogloss:1.032706\teval-merror:0.367606\teval-mlogloss:1.060275\n",
      "[66]\ttrain-merror:0.363043\ttrain-mlogloss:1.032339\teval-merror:0.367543\teval-mlogloss:1.060493\n",
      "[67]\ttrain-merror:0.362949\ttrain-mlogloss:1.031985\teval-merror:0.367637\teval-mlogloss:1.060612\n",
      "[68]\ttrain-merror:0.362734\ttrain-mlogloss:1.031604\teval-merror:0.367606\teval-mlogloss:1.060700\n",
      "[69]\ttrain-merror:0.362729\ttrain-mlogloss:1.031315\teval-merror:0.367637\teval-mlogloss:1.060863\n",
      "[70]\ttrain-merror:0.362613\ttrain-mlogloss:1.030950\teval-merror:0.367387\teval-mlogloss:1.060922\n",
      "[71]\ttrain-merror:0.362564\ttrain-mlogloss:1.030579\teval-merror:0.367824\teval-mlogloss:1.061092\n",
      "[72]\ttrain-merror:0.362508\ttrain-mlogloss:1.030218\teval-merror:0.367200\teval-mlogloss:1.061147\n",
      "[73]\ttrain-merror:0.362453\ttrain-mlogloss:1.029785\teval-merror:0.366762\teval-mlogloss:1.061245\n",
      "[74]\ttrain-merror:0.362222\ttrain-mlogloss:1.029416\teval-merror:0.366950\teval-mlogloss:1.061566\n",
      "[75]\ttrain-merror:0.362106\ttrain-mlogloss:1.029090\teval-merror:0.367262\teval-mlogloss:1.061589\n",
      "[76]\ttrain-merror:0.361698\ttrain-mlogloss:1.028646\teval-merror:0.367044\teval-mlogloss:1.061706\n",
      "[77]\ttrain-merror:0.361726\ttrain-mlogloss:1.028260\teval-merror:0.366825\teval-mlogloss:1.061738\n",
      "[78]\ttrain-merror:0.361621\ttrain-mlogloss:1.027844\teval-merror:0.367168\teval-mlogloss:1.061994\n",
      "[79]\ttrain-merror:0.361726\ttrain-mlogloss:1.027438\teval-merror:0.366981\teval-mlogloss:1.062006\n",
      "[80]\ttrain-merror:0.361599\ttrain-mlogloss:1.027072\teval-merror:0.367543\teval-mlogloss:1.062241\n",
      "[81]\ttrain-merror:0.361428\ttrain-mlogloss:1.026703\teval-merror:0.367606\teval-mlogloss:1.062449\n",
      "[82]\ttrain-merror:0.361478\ttrain-mlogloss:1.026468\teval-merror:0.367137\teval-mlogloss:1.062485\n",
      "[83]\ttrain-merror:0.361494\ttrain-mlogloss:1.026194\teval-merror:0.367137\teval-mlogloss:1.062653\n",
      "[84]\ttrain-merror:0.361268\ttrain-mlogloss:1.025841\teval-merror:0.366825\teval-mlogloss:1.062522\n",
      "[85]\ttrain-merror:0.361351\ttrain-mlogloss:1.025515\teval-merror:0.367293\teval-mlogloss:1.062599\n",
      "[86]\ttrain-merror:0.361312\ttrain-mlogloss:1.025084\teval-merror:0.366950\teval-mlogloss:1.062730\n",
      "[87]\ttrain-merror:0.361064\ttrain-mlogloss:1.024789\teval-merror:0.366856\teval-mlogloss:1.062733\n",
      "[88]\ttrain-merror:0.360976\ttrain-mlogloss:1.024472\teval-merror:0.367418\teval-mlogloss:1.062765\n",
      "[89]\ttrain-merror:0.360921\ttrain-mlogloss:1.024170\teval-merror:0.367418\teval-mlogloss:1.062825\n",
      "[90]\ttrain-merror:0.360877\ttrain-mlogloss:1.023790\teval-merror:0.367356\teval-mlogloss:1.063043\n",
      "[91]\ttrain-merror:0.360657\ttrain-mlogloss:1.023404\teval-merror:0.367699\teval-mlogloss:1.063263\n",
      "[92]\ttrain-merror:0.360579\ttrain-mlogloss:1.023106\teval-merror:0.367637\teval-mlogloss:1.063319\n",
      "[93]\ttrain-merror:0.360557\ttrain-mlogloss:1.022745\teval-merror:0.368137\teval-mlogloss:1.063238\n",
      "[94]\ttrain-merror:0.360348\ttrain-mlogloss:1.022488\teval-merror:0.368105\teval-mlogloss:1.063562\n",
      "[95]\ttrain-merror:0.360480\ttrain-mlogloss:1.022216\teval-merror:0.368012\teval-mlogloss:1.063529\n",
      "[96]\ttrain-merror:0.360475\ttrain-mlogloss:1.021872\teval-merror:0.367887\teval-mlogloss:1.063541\n",
      "[97]\ttrain-merror:0.360524\ttrain-mlogloss:1.021617\teval-merror:0.367887\teval-mlogloss:1.063738\n",
      "[98]\ttrain-merror:0.360502\ttrain-mlogloss:1.021331\teval-merror:0.368355\teval-mlogloss:1.063929\n",
      "[99]\ttrain-merror:0.360348\ttrain-mlogloss:1.021022\teval-merror:0.368105\teval-mlogloss:1.064084\n",
      "[100]\ttrain-merror:0.360425\ttrain-mlogloss:1.020730\teval-merror:0.369011\teval-mlogloss:1.064204\n"
     ]
    },
    {
     "name": "stdout",
     "output_type": "stream",
     "text": [
      "elapsed time: 224"
     ]
    },
    {
     "data": {
      "text/plain": [
       "224.144738169"
      ]
     },
     "execution_count": 161,
     "metadata": {},
     "output_type": "execute_result"
    },
    {
     "name": "stdout",
     "output_type": "stream",
     "text": [
      ".144738169 seconds\n"
     ]
    }
   ],
   "source": [
    "num_rounds = 100\n",
    "watchlist  = [(dtrain, \"train\"), (dval, \"eval\")]\n",
    "metrics    = [\"merror\", \"mlogloss\"]\n",
    "params     = Dict(\"objective\"         => \"multi:softprob\",\n",
    "                   \"booster\"          => \"gbtree\",\n",
    "                   \"eta\"              => 0.3,\n",
    "                   \"alpha\"            => .5,\n",
    "                   \"max_depth\"        => 6,\n",
    "                   \"colsample_bytree\" => .5,\n",
    "                   \"min_child_weight\" => 10,\n",
    "                   \"subsample\"        => .3)\n",
    "\n",
    "println(\"Training Base Model...\")\n",
    "tic()\n",
    "model      = XGBoost.xgboost(dtrain, num_rounds, param=params, metrics=metrics,\n",
    "                             num_class=length(labels), watchlist=watchlist)\n",
    "toc()"
   ]
  },
  {
   "cell_type": "markdown",
   "metadata": {},
   "source": [
    "## Predict"
   ]
  },
  {
   "cell_type": "code",
   "execution_count": 162,
   "metadata": {
    "collapsed": false
   },
   "outputs": [
    {
     "data": {
      "text/plain": [
       "get_top_n (generic function with 1 method)"
      ]
     },
     "execution_count": 162,
     "metadata": {},
     "output_type": "execute_result"
    }
   ],
   "source": [
    "function get_top_n(prob_matrix, n)\n",
    "    \n",
    "    top_n_list   = Array[]\n",
    "    nrows, ncols = size(prob_matrix)\n",
    "    n            = min(ncols, n)\n",
    "    \n",
    "    for i=1:nrows\n",
    "        \n",
    "        tuple_list = [(j, prob_matrix[i, j]) for j=1:ncols]\n",
    "        top_n      = sort(tuple_list, by = x -> last(x), rev=true)[1:n]\n",
    "        top_n      = [first(x) for x in top_n]\n",
    "        \n",
    "        push!(top_n_list, top_n)\n",
    "    end\n",
    "    \n",
    "    return top_n_list\n",
    "end"
   ]
  },
  {
   "cell_type": "code",
   "execution_count": 163,
   "metadata": {
    "collapsed": false
   },
   "outputs": [],
   "source": [
    "yhats = XGBoost.predict(model, test_x)\n",
    "yhats = reshape(yhats, length(original_labels), size(test_x, 1))';"
   ]
  },
  {
   "cell_type": "code",
   "execution_count": 164,
   "metadata": {
    "collapsed": true
   },
   "outputs": [],
   "source": [
    "yhats_top_n = get_top_n(yhats, 5);"
   ]
  },
  {
   "cell_type": "markdown",
   "metadata": {},
   "source": [
    "## Generate Submission File"
   ]
  },
  {
   "cell_type": "code",
   "execution_count": 171,
   "metadata": {
    "collapsed": false
   },
   "outputs": [
    {
     "data": {
      "text/plain": [
       "prepare_dataframe_submission (generic function with 1 method)"
      ]
     },
     "execution_count": 171,
     "metadata": {},
     "output_type": "execute_result"
    }
   ],
   "source": [
    "function prepare_dataframe_submission(df)\n",
    "    \n",
    "    ids           = repeach(df[:id], 5)\n",
    "    yhats         = [ original_labels[yhat] for yhat in vcat(yhats_top_n...) ]\n",
    "    submission_df = DataFrame(id=ids, country=yhats)\n",
    "    \n",
    "    return submission_df\n",
    "end"
   ]
  },
  {
   "cell_type": "code",
   "execution_count": 172,
   "metadata": {
    "collapsed": false
   },
   "outputs": [],
   "source": [
    "submission_df = prepare_dataframe_submission(test);"
   ]
  },
  {
   "cell_type": "code",
   "execution_count": 173,
   "metadata": {
    "collapsed": false
   },
   "outputs": [],
   "source": [
    "writetable(\"data/submissions/submission_v4_xgboost_msoftprob_gbtree_eta3_md5_ss3_alpha5_csb5_mcw10_nr100.csv\", submission_df);"
   ]
  },
  {
   "cell_type": "markdown",
   "metadata": {},
   "source": [
    "## Kagle Scores from Submited Predictions"
   ]
  },
  {
   "cell_type": "markdown",
   "metadata": {},
   "source": [
    "Best Score: <span style=\"color:blue;\">0.86109</span> [v3]\n",
    "\n",
    "- v4 **XGBoost** (MSoftProb GBTree Eta.3 MD 6 SS.5 NR100 Alpha5 CSB5 MCW10): **0.86109** tme.360 tmll1.02 eme.369 emll1.064   \n",
    "- v3 **XGBoost** (MSoftMax GBTree Eta.3 MD 6 SS.5 NR100 Alpha5 CSB5 MCW10): **0.70496** tme 0.358 tmll 1.019 eme 0.366 emll1.061  \n",
    "- v2 **XGBoost** (MSoftMax GBTree Eta.7 MD 5 SS.85 NR2000): ** 0.65697** tme.181 tmll.499 eme.403 emll1.477\n",
    "- v1 **XGBoost** (MSoftMax GBTree Eta.7 MD 5 SS.85 NR100): **0.70174** tme.349 tmll.948 eme.367 emll1.077"
   ]
  },
  {
   "cell_type": "code",
   "execution_count": null,
   "metadata": {
    "collapsed": true
   },
   "outputs": [],
   "source": []
  }
 ],
 "metadata": {
  "kernelspec": {
   "display_name": "Julia 0.4.1-pre",
   "language": "julia",
   "name": "julia-0.4"
  },
  "language_info": {
   "file_extension": ".jl",
   "mimetype": "application/julia",
   "name": "julia",
   "version": "0.4.1"
  }
 },
 "nbformat": 4,
 "nbformat_minor": 0
}
